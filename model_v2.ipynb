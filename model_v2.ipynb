{
 "cells": [
  {
   "cell_type": "markdown",
   "metadata": {},
   "source": [
    "# Second model \n",
    "\n",
    "This model will try to predict wether pe is present or not on a full image (RGB level)"
   ]
  },
  {
   "cell_type": "markdown",
   "metadata": {},
   "source": [
    "## Imports"
   ]
  },
  {
   "cell_type": "code",
   "execution_count": 1,
   "metadata": {},
   "outputs": [],
   "source": [
    "import numpy as np\n",
    "from balance import *\n",
    "from torchsummary import summary"
   ]
  },
  {
   "cell_type": "code",
   "execution_count": 2,
   "metadata": {},
   "outputs": [
    {
     "name": "stdout",
     "output_type": "stream",
     "text": [
      "PyTorch version: 1.7.1\n",
      "GPU found :)\n"
     ]
    }
   ],
   "source": [
    "import torch\n",
    "torch.cuda.empty_cache()\n",
    "\n",
    "print(f'PyTorch version: {torch.__version__}')\n",
    "print(\"GPU found :)\" if torch.cuda.is_available() else \"No GPU :(\")\n",
    "\n",
    "# Device configuration\n",
    "device = torch.device('cuda' if torch.cuda.is_available() else 'cpu')\n",
    "\n",
    "import torch.nn as nn\n",
    "import torch.nn.functional as F\n",
    "import torch.optim as optim\n",
    "from torch.utils.data import DataLoader"
   ]
  },
  {
   "cell_type": "markdown",
   "metadata": {},
   "source": [
    "# Load datasets"
   ]
  },
  {
   "cell_type": "code",
   "execution_count": 3,
   "metadata": {},
   "outputs": [],
   "source": [
    "full_image_dataset = torch.load('datasets/full_image_dataset.pt')"
   ]
  },
  {
   "cell_type": "markdown",
   "metadata": {},
   "source": [
    "## Simple CNN from scratch"
   ]
  },
  {
   "cell_type": "code",
   "execution_count": 4,
   "metadata": {},
   "outputs": [],
   "source": [
    "class ModelV2(nn.Module):\n",
    "    \n",
    "    def __init__(self, input_channels):\n",
    "        \"\"\"Simple Convnet with 2 convolution layer + pooling, with 2 fully connected at the end\"\"\"\n",
    "        super().__init__()\n",
    "        \n",
    "        self.conv1 = nn.Conv2d(in_channels=3, out_channels=32, kernel_size=3)\n",
    "        self.pool = nn.MaxPool2d(kernel_size=2)\n",
    "        self.conv2 = nn.Conv2d(32, 32, 3)\n",
    "        self.fc1 = nn.Linear(32*62*62 , 120)\n",
    "        self.fc2 = nn.Linear(120, 2)\n",
    "        \n",
    "        \n",
    "    def forward(self, x):\n",
    "        \n",
    "        x = self.pool(F.relu(self.conv1(x)))\n",
    "        x = self.pool(F.relu(self.conv2(x)))\n",
    "        x = x.view(-1, 32*62*62) # Flatten\n",
    "        x = F.relu(self.fc1(x))\n",
    "        \n",
    "        # Binary classification\n",
    "        out = torch.sigmoid(self.fc2(x))\n",
    "        \n",
    "        return out"
   ]
  },
  {
   "cell_type": "code",
   "execution_count": null,
   "metadata": {},
   "outputs": [],
   "source": [
    "summary(ModelV2(3), (3, 256, 256))"
   ]
  },
  {
   "cell_type": "markdown",
   "metadata": {},
   "source": [
    "## Split data into train and test"
   ]
  },
  {
   "cell_type": "code",
   "execution_count": 1,
   "metadata": {},
   "outputs": [
    {
     "output_type": "error",
     "ename": "NameError",
     "evalue": "name 'channel0_dataset' is not defined",
     "traceback": [
      "\u001b[0;31m---------------------------------------------------------------------------\u001b[0m",
      "\u001b[0;31mNameError\u001b[0m                                 Traceback (most recent call last)",
      "\u001b[0;32m<ipython-input-1-ea111d8ae83e>\u001b[0m in \u001b[0;36m<module>\u001b[0;34m\u001b[0m\n\u001b[0;32m----> 1\u001b[0;31m \u001b[0mdataset\u001b[0m \u001b[0;34m=\u001b[0m \u001b[0mchannel0_dataset\u001b[0m\u001b[0;34m\u001b[0m\u001b[0;34m\u001b[0m\u001b[0m\n\u001b[0m\u001b[1;32m      2\u001b[0m \u001b[0mbatch_size\u001b[0m \u001b[0;34m=\u001b[0m \u001b[0;36m64\u001b[0m\u001b[0;34m\u001b[0m\u001b[0;34m\u001b[0m\u001b[0m\n\u001b[1;32m      3\u001b[0m \u001b[0;34m\u001b[0m\u001b[0m\n\u001b[1;32m      4\u001b[0m \u001b[0mtrain_loader\u001b[0m\u001b[0;34m,\u001b[0m \u001b[0mtest_loader\u001b[0m \u001b[0;34m=\u001b[0m \u001b[0mbalance_train_test_split\u001b[0m\u001b[0;34m(\u001b[0m\u001b[0mdataset\u001b[0m\u001b[0;34m,\u001b[0m \u001b[0mratio\u001b[0m\u001b[0;34m=\u001b[0m\u001b[0;36m0.2\u001b[0m\u001b[0;34m,\u001b[0m \u001b[0mbatch_size\u001b[0m\u001b[0;34m=\u001b[0m\u001b[0mbatch_size\u001b[0m\u001b[0;34m)\u001b[0m\u001b[0;34m\u001b[0m\u001b[0;34m\u001b[0m\u001b[0m\n",
      "\u001b[0;31mNameError\u001b[0m: name 'channel0_dataset' is not defined"
     ]
    }
   ],
   "source": [
    "dataset = full_image_dataset\n",
    "batch_size = 64\n",
    "ratio=0.2\n",
    "\n",
    "train_loader, test_loader = train_test_split(dataset, ratio, batch_size)"
   ]
  },
  {
   "cell_type": "markdown",
   "metadata": {},
   "source": [
    "## Model Training"
   ]
  },
  {
   "cell_type": "code",
   "execution_count": 6,
   "metadata": {},
   "outputs": [
    {
     "name": "stdout",
     "output_type": "stream",
     "text": [
      "Epoch [1/5], step [100/1254], loss: 0.7102\n",
      "Epoch [1/5], step [200/1254], loss: 0.6763\n",
      "Epoch [1/5], step [300/1254], loss: 0.7020\n",
      "Epoch [1/5], step [400/1254], loss: 0.7025\n",
      "Epoch [1/5], step [500/1254], loss: 0.6835\n",
      "Epoch [1/5], step [600/1254], loss: 0.6842\n",
      "Epoch [1/5], step [700/1254], loss: 0.6846\n",
      "Epoch [1/5], step [800/1254], loss: 0.7022\n",
      "Epoch [1/5], step [900/1254], loss: 0.6849\n",
      "Epoch [1/5], step [1000/1254], loss: 0.6852\n",
      "Epoch [1/5], step [1100/1254], loss: 0.7015\n",
      "Epoch [1/5], step [1200/1254], loss: 0.7010\n",
      "Epoch [2/5], step [100/1254], loss: 0.6844\n",
      "Epoch [2/5], step [200/1254], loss: 0.6852\n",
      "Epoch [2/5], step [300/1254], loss: 0.6842\n",
      "Epoch [2/5], step [400/1254], loss: 0.7021\n",
      "Epoch [2/5], step [500/1254], loss: 0.6833\n",
      "Epoch [2/5], step [600/1254], loss: 0.6839\n",
      "Epoch [2/5], step [700/1254], loss: 0.6847\n",
      "Epoch [2/5], step [800/1254], loss: 0.6847\n",
      "Epoch [2/5], step [900/1254], loss: 0.7016\n",
      "Epoch [2/5], step [1000/1254], loss: 0.6863\n",
      "Epoch [2/5], step [1100/1254], loss: 0.6866\n",
      "Epoch [2/5], step [1200/1254], loss: 0.7001\n",
      "Epoch [3/5], step [100/1254], loss: 0.6866\n",
      "Epoch [3/5], step [200/1254], loss: 0.6867\n",
      "Epoch [3/5], step [300/1254], loss: 0.6994\n",
      "Epoch [3/5], step [400/1254], loss: 0.6992\n",
      "Epoch [3/5], step [500/1254], loss: 0.6877\n",
      "Epoch [3/5], step [600/1254], loss: 0.6981\n",
      "Epoch [3/5], step [700/1254], loss: 0.6879\n",
      "Epoch [3/5], step [800/1254], loss: 0.6873\n",
      "Epoch [3/5], step [900/1254], loss: 0.6869\n",
      "Epoch [3/5], step [1000/1254], loss: 0.6866\n",
      "Epoch [3/5], step [1100/1254], loss: 0.6867\n",
      "Epoch [3/5], step [1200/1254], loss: 0.6995\n",
      "Epoch [4/5], step [100/1254], loss: 0.6868\n",
      "Epoch [4/5], step [200/1254], loss: 0.6863\n",
      "Epoch [4/5], step [300/1254], loss: 0.6861\n",
      "Epoch [4/5], step [400/1254], loss: 0.6861\n",
      "Epoch [4/5], step [500/1254], loss: 0.7001\n",
      "Epoch [4/5], step [600/1254], loss: 0.6999\n",
      "Epoch [4/5], step [700/1254], loss: 0.6867\n",
      "Epoch [4/5], step [800/1254], loss: 0.7001\n",
      "Epoch [4/5], step [900/1254], loss: 0.6863\n",
      "Epoch [4/5], step [1000/1254], loss: 0.7002\n",
      "Epoch [4/5], step [1100/1254], loss: 0.6865\n",
      "Epoch [4/5], step [1200/1254], loss: 0.6997\n",
      "Epoch [5/5], step [100/1254], loss: 0.6870\n",
      "Epoch [5/5], step [200/1254], loss: 0.6990\n",
      "Epoch [5/5], step [300/1254], loss: 0.6870\n",
      "Epoch [5/5], step [400/1254], loss: 0.6869\n",
      "Epoch [5/5], step [500/1254], loss: 0.6865\n",
      "Epoch [5/5], step [600/1254], loss: 0.6993\n",
      "Epoch [5/5], step [700/1254], loss: 0.6871\n",
      "Epoch [5/5], step [800/1254], loss: 0.6994\n",
      "Epoch [5/5], step [900/1254], loss: 0.6993\n",
      "Epoch [5/5], step [1000/1254], loss: 0.6873\n",
      "Epoch [5/5], step [1100/1254], loss: 0.6994\n",
      "Epoch [5/5], step [1200/1254], loss: 0.6873\n"
     ]
    }
   ],
   "source": [
    "num_epoch = 5\n",
    "step_count = len(train_loader)\n",
    "loss_function = nn.CrossEntropyLoss()\n",
    "model = ModelV2(input_channels=3).to(device)\n",
    "optimizer = optim.SGD(model.parameters(), lr=0.001)\n",
    "\n",
    "for epoch in range(num_epoch):\n",
    "    for i, sample in enumerate(train_loader):\n",
    "        \n",
    "        image = sample['image'].to(device, dtype=torch.float)\n",
    "        target = sample['target'].to(device)\n",
    "        \n",
    "        # Reset gradiant\n",
    "        optimizer.zero_grad()\n",
    "        \n",
    "        # Forward pass\n",
    "        pred = model(image)\n",
    "        \n",
    "        # Compute loss\n",
    "        loss = loss_function(pred, target)\n",
    "        \n",
    "        # Backprop\n",
    "        loss.backward()\n",
    "        optimizer.step()\n",
    "        \n",
    "        # Debug\n",
    "        if((i+1) % 100 == 0):\n",
    "            print(\n",
    "                        f\"Epoch [{epoch + 1}/{num_epoch}]\"\n",
    "                        f\", step [{i + 1}/{step_count}]\"\n",
    "                        f\", loss: {loss.item():.4f}\"\n",
    "                    )"
   ]
  },
  {
   "cell_type": "code",
   "execution_count": 7,
   "metadata": {},
   "outputs": [],
   "source": [
    "# Save model \n",
    "torch.save(model.state_dict(), './models/model_v2.h5')"
   ]
  },
  {
   "cell_type": "markdown",
   "metadata": {},
   "source": [
    "## Test the model"
   ]
  },
  {
   "cell_type": "code",
   "execution_count": 8,
   "metadata": {},
   "outputs": [
    {
     "data": {
      "text/plain": [
       "ModelV1(\n",
       "  (conv1): Conv2d(1, 16, kernel_size=(3, 3), stride=(1, 1))\n",
       "  (pool): MaxPool2d(kernel_size=2, stride=2, padding=0, dilation=1, ceil_mode=False)\n",
       "  (conv2): Conv2d(16, 32, kernel_size=(3, 3), stride=(1, 1))\n",
       "  (fc1): Linear(in_features=123008, out_features=120, bias=True)\n",
       "  (fc2): Linear(in_features=120, out_features=2, bias=True)\n",
       ")"
      ]
     },
     "execution_count": 8,
     "metadata": {},
     "output_type": "execute_result"
    }
   ],
   "source": [
    "# Load model for evaluation\n",
    "trained_model = ModelV2(input_channels=3)\n",
    "trained_model.load_state_dict(torch.load('./models/model_v2.h5'))\n",
    "trained_model.to(device)"
   ]
  },
  {
   "cell_type": "code",
   "execution_count": 10,
   "metadata": {},
   "outputs": [
    {
     "name": "stdout",
     "output_type": "stream",
     "text": [
      "Accuracy of the network on the 1254 test images: 50.0\n"
     ]
    }
   ],
   "source": [
    "correct = 0\n",
    "total = 0\n",
    "with torch.no_grad():\n",
    "    for sample in test_loader:\n",
    "        \n",
    "        image = sample['image'].to(device, dtype=torch.float)\n",
    "        target = sample['target'].to(device)\n",
    "        \n",
    "        output = model(image)\n",
    "        prob, index = torch.max(output, 1)\n",
    "        correct += (index == target).sum().item()\n",
    "\n",
    "total = len(test_loader)\n",
    "print(f'Accuracy of the network on the {total} test images: {100 * correct / total}')"
   ]
  }
 ],
 "metadata": {
  "kernelspec": {
   "name": "Python 3.8.5 64-bit",
   "display_name": "Python 3.8.5 64-bit",
   "metadata": {
    "interpreter": {
     "hash": "916dbcbb3f70747c44a77c7bcd40155683ae19c65e1c03b4aa3499c5328201f1"
    }
   }
  },
  "language_info": {
   "codemirror_mode": {
    "name": "ipython",
    "version": 3
   },
   "file_extension": ".py",
   "mimetype": "text/x-python",
   "name": "python",
   "nbconvert_exporter": "python",
   "pygments_lexer": "ipython3",
   "version": "3.8.5-final"
  }
 },
 "nbformat": 4,
 "nbformat_minor": 4
}