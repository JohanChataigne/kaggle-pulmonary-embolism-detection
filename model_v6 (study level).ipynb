{
 "cells": [
  {
   "cell_type": "markdown",
   "metadata": {},
   "source": [
    "# Fifth model \n",
    "\n",
    "This model will try to predict exam level labels for positive patients"
   ]
  },
  {
   "cell_type": "markdown",
   "metadata": {},
   "source": [
    "## Imports"
   ]
  },
  {
   "cell_type": "code",
   "execution_count": null,
   "metadata": {},
   "outputs": [],
   "source": [
    "import numpy as np\n",
    "from balance import *\n",
    "from model import *\n",
    "from torchsummary import summary"
   ]
  },
  {
   "cell_type": "code",
   "execution_count": null,
   "metadata": {},
   "outputs": [],
   "source": [
    "import torch\n",
    "torch.cuda.empty_cache()\n",
    "\n",
    "print(f'PyTorch version: {torch.__version__}')\n",
    "print(\"GPU found :)\" if torch.cuda.is_available() else \"No GPU :(\")\n",
    "\n",
    "# Device configuration\n",
    "device = torch.device('cuda' if torch.cuda.is_available() else 'cpu')\n",
    "\n",
    "import torch.nn as nn\n",
    "import torch.nn.functional as F\n",
    "import torch.optim as optim\n",
    "from torch.utils.data import DataLoader"
   ]
  },
  {
   "cell_type": "markdown",
   "metadata": {},
   "source": [
    "# Load datasets"
   ]
  },
  {
   "cell_type": "code",
   "execution_count": null,
   "metadata": {},
   "outputs": [],
   "source": [
    "dataset = torch.load('datasets/multi_image_multi_label_dataset.pt')\n",
    "nb_images = 50"
   ]
  },
  {
   "cell_type": "markdown",
   "metadata": {},
   "source": [
    "## CNN"
   ]
  },
  {
   "cell_type": "code",
   "execution_count": null,
   "metadata": {},
   "outputs": [],
   "source": [
    "class ModelV6(nn.Module):\n",
    "    \n",
    "    def __init__(self, input_channels=3*nb_images):\n",
    "        \"\"\"Convnet with 4 convolution layer + pooling + BN, with 3 fully connected at the end\"\"\"\n",
    "        super().__init__()\n",
    "        \n",
    "        # CNN layers\n",
    "        self.conv1 = nn.Conv2d(in_channels=input_channels, out_channels=256, kernel_size=5)\n",
    "        self.bn1 = nn.BatchNorm2d(256)\n",
    "        self.conv2 = nn.Conv2d(256, 512, 3)\n",
    "        self.bn2 = nn.BatchNorm2d(512)\n",
    "        self.conv3 = nn.Conv2d(512, 256, 3)\n",
    "        self.bn3 = nn.BatchNorm2d(256)\n",
    "        self.conv4 = nn.Conv2d(256, 64, 3)\n",
    "        self.bn4 = nn.BatchNorm2d(64)\n",
    "        \n",
    "        self.pool = nn.MaxPool2d(kernel_size=2)\n",
    "        \n",
    "        # Fully connected layers\n",
    "        self.fc1 = nn.Linear(64*14*14 , 512)\n",
    "        self.fc2 = nn.Linear(512, 128)\n",
    "        \n",
    "        # Specific outputs layers\n",
    "        self.fc_location1 = nn.Linear(128, 64)\n",
    "        self.fc_location2 = nn.Linear(64, 3)\n",
    "        self.fc_ratio1 = nn.Linear(128, 64)\n",
    "        self.fc_ratio2 = nn.Linear(64, 2)\n",
    "        self.fc_type1 = nn.Linear(128, 64)\n",
    "        self.fc_type2 = nn.Linear(64, 3)\n",
    "        \n",
    "        self.dropout = nn.Dropout(0.5)\n",
    "        \n",
    "        # Output activations\n",
    "        self.softmax = nn.LogSoftmax(dim=1)\n",
    "        self.sigmoid = nn.Sigmoid()\n",
    "        \n",
    "        \n",
    "    def forward(self, x):\n",
    "        \n",
    "        x = self.pool(F.relu(self.bn1(self.conv1(x))))\n",
    "        x = self.pool(F.relu(self.bn2(self.conv2(x))))\n",
    "        x = self.pool(F.relu(self.bn3(self.conv3(x))))\n",
    "        x = self.pool(F.relu(self.bn4(self.conv4(x))))\n",
    "        x = x.view(-1, 64*14*14) # Flatten\n",
    "        x = self.dropout(x)\n",
    "        x = F.relu(self.fc1(x))\n",
    "        x = self.dropout(x)\n",
    "        x = F.relu(self.fc2(x))\n",
    "        \n",
    "        location_out = F.relu(self.fc_location1(x))\n",
    "        location_out = self.sigmoid(self.fc_location2(location_out))\n",
    "        \n",
    "        ratio_out = F.relu(self.fc_ratio1(x))\n",
    "        ratio_out = self.softmax(self.fc_ratio2(ratio_out))\n",
    "        \n",
    "        type_out = F.relu(self.fc_type1(x))\n",
    "        type_out = self.softmax(self.fc_type2(type_out))\n",
    "        \n",
    "        return location_out, ratio_out, type_out"
   ]
  },
  {
   "cell_type": "code",
   "execution_count": null,
   "metadata": {},
   "outputs": [],
   "source": [
    "model = ModelV6().to(device)\n",
    "#summary(model, (150, 256, 256))"
   ]
  },
  {
   "cell_type": "markdown",
   "metadata": {},
   "source": [
    "## Split data into train and test"
   ]
  },
  {
   "cell_type": "code",
   "execution_count": null,
   "metadata": {},
   "outputs": [],
   "source": [
    "batch_size = 2\n",
    "ratio = 0.2\n",
    "\n",
    "train_loader, test_loader = train_test_split(dataset, ratio, batch_size)\n",
    "\n",
    "print(f'Train size: {len(train_loader)}')\n",
    "print(f'Test size: {len(test_loader)}')"
   ]
  },
  {
   "cell_type": "markdown",
   "metadata": {},
   "source": [
    "## Model Training"
   ]
  },
  {
   "cell_type": "code",
   "execution_count": null,
   "metadata": {
    "autoscroll": "auto",
    "collapsed": false,
    "jupyter": {
     "outputs_hidden": false
    }
   },
   "outputs": [],
   "source": [
    "num_epoch = 50\n",
    "step_count = len(train_loader)\n",
    "MSE = nn.MSELoss()\n",
    "NLL = nn.NLLLoss()\n",
    "optimizer=optim.Adam(model.parameters(), lr=0.001)\n",
    "\n",
    "losses = list()\n",
    "losses_ratio = list()\n",
    "losses_location = list()\n",
    "losses_type = list()\n",
    "\n",
    "save_filename = './models/model_v5.h5'\n",
    "\n",
    "for epoch in range(num_epoch):\n",
    "    \n",
    "    epoch_loss = 0\n",
    "    epoch_loss_ratio = 0\n",
    "    epoch_loss_location = 0\n",
    "    epoch_loss_type = 0\n",
    "    \n",
    "    for i, sample in enumerate(train_loader):\n",
    "        \n",
    "        images = sample['image'].to(device, dtype=torch.float)\n",
    "        ratios = sample['ratios']\n",
    "        locations = sample['locations']\n",
    "        types = sample['types']\n",
    "        \n",
    "        optimizer.zero_grad()\n",
    "        \n",
    "        location_out, ratio_out, type_out = model(images)\n",
    "        \n",
    "        # Compute loss for each category of labels\n",
    "        loss_ratio = NLL(ratio_out, ratios.to(device))\n",
    "        loss_location = MSE(location_out, locations.to(device))\n",
    "        loss_type = NLL(type_out, types.to(device))\n",
    "        \n",
    "        # Keep track of separate losses\n",
    "        epoch_loss_ratio += loss_ratio\n",
    "        epoch_loss_location += loss_location\n",
    "        epoch_loss_type += loss_type\n",
    "\n",
    "        loss = loss_ratio + loss_location + loss_type\n",
    "        epoch_loss += loss\n",
    "        \n",
    "        # Backward pass\n",
    "        loss.backward()\n",
    "        optimizer.step()\n",
    "        \n",
    "        \n",
    "        if ((i+1) % int(step_count/5) == 0):\n",
    "            print(f\"Epoch [{epoch + 1}/{num_epoch}]\" f\", step [{i + 1}/{step_count}]\" f\", loss: {loss.item():.4f}\")\n",
    "    \n",
    "    losses.append(epoch_loss)\n",
    "    losses_ratio.append(epoch_loss_ratio)\n",
    "    losses_location.append(epoch_loss_location)\n",
    "    losses_type.append(epoch_loss_type)"
   ]
  },
  {
   "cell_type": "code",
   "execution_count": null,
   "metadata": {
    "autoscroll": "auto",
    "collapsed": false,
    "jupyter": {
     "outputs_hidden": false
    }
   },
   "outputs": [],
   "source": [
    "torch.save(model.state_dict(), './models/model_v6.h5')"
   ]
  },
  {
   "cell_type": "code",
   "execution_count": null,
   "metadata": {
    "autoscroll": "auto",
    "collapsed": false,
    "jupyter": {
     "outputs_hidden": false
    }
   },
   "outputs": [],
   "source": [
    "plot_loss(losses, num_epoch, len(train_loader), 'Global loss model v6 study level.png')\n",
    "plot_loss(losses_ratio, num_epoch, len(train_loader), 'Ratio loss model v6 study level.png')\n",
    "plot_loss(losses_location, num_epoch, len(train_loader), 'Location loss model v6 study level.png')\n",
    "plot_loss(losses_type, num_epoch, len(train_loader), 'Type loss model v6 study level.png')"
   ]
  },
  {
   "cell_type": "markdown",
   "metadata": {},
   "source": [
    "## Test the model"
   ]
  },
  {
   "cell_type": "code",
   "execution_count": null,
   "metadata": {
    "autoscroll": "auto",
    "collapsed": false,
    "jupyter": {
     "outputs_hidden": false
    }
   },
   "outputs": [],
   "source": [
    "# Load model for evaluation\n",
    "trained_model = ModelV6()\n",
    "trained_model.load_state_dict(torch.load('./models/model_v6.h5'))\n",
    "trained_model.to(device)"
   ]
  },
  {
   "cell_type": "code",
   "execution_count": null,
   "metadata": {},
   "outputs": [],
   "source": [
    "correct_ratio = 0\n",
    "correct_location = 0\n",
    "correct_type = 0\n",
    "correct = 0\n",
    "total = 0\n",
    "    \n",
    "with torch.no_grad():\n",
    "    for sample in test_loader:\n",
    "\n",
    "        images = sample['image'].to(device, dtype=torch.float)\n",
    "        ratios = sample['ratios'].to(device)\n",
    "        locations = sample['locations'].to(device)\n",
    "        types = sample['types'].to(device)\n",
    "        \n",
    "        location_out, ratio_out, type_out = trained_model(images)\n",
    "        \n",
    "        # Accuracy for ratios predictions\n",
    "        _, pred_ratio = torch.max(ratio_out.data, 1)\n",
    "        res_ratio = (pred_ratio == ratios).sum().item()\n",
    "        correct_ratio += res_ratio\n",
    "\n",
    "        if ((pred_ratio == ratios).item()): assert (res_ratio == 1)\n",
    "        \n",
    "        # Accuracy for types predictions\n",
    "        _, pred_type = torch.max(type_out.data, 1)\n",
    "        res_type = (pred_type == types).sum().item()\n",
    "        correct_type += res_type\n",
    "        \n",
    "        if ((pred_type == types).item()): assert (res_type == 1)\n",
    "        \n",
    "        # Accuracy for locations predictions\n",
    "        pred_location = torch.tensor([[0 if x < 0.5 else 1 for x in location_out[0]]]).to(device)\n",
    "        res_location = (pred_location == locations).all().sum().item()\n",
    "        correct_location += res_location\n",
    "        \n",
    "        if ((pred_location == locations).all().item()): assert (res_location == 1)\n",
    "            \n",
    "        # Global accuracy \n",
    "        corrects = res_ratio + res_location + res_type\n",
    "        \n",
    "        if corrects == 3: \n",
    "            correct += 1\n",
    "            \n",
    "        total += ratios.size(0)"
   ]
  },
  {
   "cell_type": "code",
   "execution_count": null,
   "metadata": {},
   "outputs": [],
   "source": [
    "print(f'Accuracy on {total} test patients for ratios prediction: {100 * correct_ratio / total:.2f}%')\n",
    "print(f'Accuracy on {total} test patients for locations prediction: {100 * correct_location / total:.2f}%')\n",
    "print(f'Accuracy on {total} test patients for types prediction: {100 * correct_type / total:.2f}%')\n",
    "print(f'Global accuracy on {total} test patients: {100 * correct / total:.2f}%')"
   ]
  }
 ],
 "metadata": {
  "kernelspec": {
   "display_name": "Python 3",
   "language": "python",
   "name": "python3"
  },
  "language_info": {
   "codemirror_mode": {
    "name": "ipython",
    "version": 3
   },
   "file_extension": ".py",
   "mimetype": "text/x-python",
   "name": "python",
   "nbconvert_exporter": "python",
   "pygments_lexer": "ipython3",
   "version": "3.8.3"
  }
 },
 "nbformat": 4,
 "nbformat_minor": 4
}
