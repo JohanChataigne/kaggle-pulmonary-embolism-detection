{
 "cells": [
  {
   "cell_type": "markdown",
   "metadata": {},
   "source": [
    "# Second model \n",
    "\n",
    "This model will try to predict wether pe is present or not on a full image (RGB level)"
   ]
  },
  {
   "cell_type": "markdown",
   "metadata": {},
   "source": [
    "## Imports"
   ]
  },
  {
   "cell_type": "code",
   "execution_count": 1,
   "metadata": {
    "execution": {
     "iopub.execute_input": "2021-01-23T12:22:54.646549Z",
     "iopub.status.busy": "2021-01-23T12:22:54.645220Z",
     "iopub.status.idle": "2021-01-23T12:22:55.179932Z",
     "shell.execute_reply": "2021-01-23T12:22:55.180843Z"
    }
   },
   "outputs": [],
   "source": [
    "import numpy as np\n",
    "from balance import *\n",
    "from model import *\n",
    "from torchsummary import summary"
   ]
  },
  {
   "cell_type": "code",
   "execution_count": 2,
   "metadata": {
    "execution": {
     "iopub.execute_input": "2021-01-23T12:22:55.318018Z",
     "iopub.status.busy": "2021-01-23T12:22:55.316830Z",
     "iopub.status.idle": "2021-01-23T12:22:55.321223Z",
     "shell.execute_reply": "2021-01-23T12:22:55.320233Z"
    }
   },
   "outputs": [],
   "source": [
    "import torch\n",
    "torch.cuda.empty_cache()\n",
    "\n",
    "print(f'PyTorch version: {torch.__version__}')\n",
    "print(\"GPU found :)\" if torch.cuda.is_available() else \"No GPU :(\")\n",
    "\n",
    "# Device configuration\n",
    "device = torch.device('cuda' if torch.cuda.is_available() else 'cpu')\n",
    "\n",
    "import torch.nn as nn\n",
    "import torch.nn.functional as F\n",
    "import torch.optim as optim\n",
    "from torch.utils.data import DataLoader"
   ]
  },
  {
   "cell_type": "markdown",
   "metadata": {},
   "source": [
    "# Load datasets"
   ]
  },
  {
   "cell_type": "code",
   "execution_count": 3,
   "metadata": {
    "execution": {
     "iopub.execute_input": "2021-01-23T12:22:55.326443Z",
     "iopub.status.busy": "2021-01-23T12:22:55.325315Z",
     "iopub.status.idle": "2021-01-23T12:22:55.794293Z",
     "shell.execute_reply": "2021-01-23T12:22:55.793314Z"
    }
   },
   "outputs": [],
   "source": [
    "full_image_dataset = torch.load('datasets/full_image_dataset.pt')"
   ]
  },
  {
   "cell_type": "markdown",
   "metadata": {},
   "source": [
    "## Simple CNN from scratch"
   ]
  },
  {
   "cell_type": "code",
   "execution_count": 4,
   "metadata": {
    "execution": {
     "iopub.execute_input": "2021-01-23T12:22:55.802159Z",
     "iopub.status.busy": "2021-01-23T12:22:55.800991Z",
     "iopub.status.idle": "2021-01-23T12:22:55.803376Z",
     "shell.execute_reply": "2021-01-23T12:22:55.804269Z"
    }
   },
   "outputs": [],
   "source": [
    "class ModelV2(nn.Module):\n",
    "    \n",
    "    def __init__(self, input_channels):\n",
    "        \"\"\"Simple Convnet with 2 convolution layer + pooling, with 2 fully connected at the end\"\"\"\n",
    "        super().__init__()\n",
    "        \n",
    "        self.conv1 = nn.Conv2d(in_channels=3, out_channels=32, kernel_size=3)\n",
    "        self.pool = nn.MaxPool2d(kernel_size=2)\n",
    "        self.conv2 = nn.Conv2d(32, 32, 3)\n",
    "        self.fc1 = nn.Linear(32*62*62 , 120)\n",
    "        self.fc2 = nn.Linear(120, 1)\n",
    "        self.sigmoid = nn.Sigmoid()\n",
    "        \n",
    "        \n",
    "    def forward(self, x):\n",
    "        \n",
    "        x = self.pool(F.relu(self.conv1(x)))\n",
    "        x = self.pool(F.relu(self.conv2(x)))\n",
    "        x = x.view(-1, 32*62*62) # Flatten\n",
    "        x = F.relu(self.fc1(x))\n",
    "        \n",
    "        # Binary classification\n",
    "        out = self.sigmoid(self.fc2(x))\n",
    "        \n",
    "        return out"
   ]
  },
  {
   "cell_type": "code",
   "execution_count": 5,
   "metadata": {
    "execution": {
     "iopub.execute_input": "2021-01-23T12:22:55.809837Z",
     "iopub.status.busy": "2021-01-23T12:22:55.808728Z",
     "iopub.status.idle": "2021-01-23T12:22:58.671564Z",
     "shell.execute_reply": "2021-01-23T12:22:58.670404Z"
    }
   },
   "outputs": [],
   "source": [
    "model = ModelV2(3).to(device)\n",
    "summary(model, (3, 256, 256))"
   ]
  },
  {
   "cell_type": "markdown",
   "metadata": {},
   "source": [
    "## Split data into train and test"
   ]
  },
  {
   "cell_type": "code",
   "execution_count": 6,
   "metadata": {
    "execution": {
     "iopub.execute_input": "2021-01-23T12:22:58.677890Z",
     "iopub.status.busy": "2021-01-23T12:22:58.676764Z",
     "iopub.status.idle": "2021-01-23T12:22:58.679094Z",
     "shell.execute_reply": "2021-01-23T12:22:58.680004Z"
    }
   },
   "outputs": [],
   "source": [
    "batch_size = 126\n",
    "ratio=0.2\n",
    "\n",
    "train_loader, test_loader = train_test_split(full_image_dataset, ratio, batch_size)"
   ]
  },
  {
   "cell_type": "markdown",
   "metadata": {},
   "source": [
    "## Model Training"
   ]
  },
  {
   "cell_type": "code",
   "execution_count": 7,
   "metadata": {
    "execution": {
     "iopub.execute_input": "2021-01-23T12:22:58.689128Z",
     "iopub.status.busy": "2021-01-23T12:22:58.687973Z",
     "iopub.status.idle": "2021-01-23T12:37:44.431208Z",
     "shell.execute_reply": "2021-01-23T12:37:44.430631Z"
    }
   },
   "outputs": [],
   "source": [
    "num_epoch = 30\n",
    "criterion = nn.BCELoss()\n",
    "optimizer=optim.Adam(model.parameters(), lr=0.001)\n",
    "save_filename = './models/model_v2.h5'\n",
    "\n",
    "model, losses = train(model, num_epoch, criterion, train_loader, optimizer, device, save_filename)"
   ]
  },
  {
   "cell_type": "code",
   "execution_count": 8,
   "metadata": {
    "execution": {
     "iopub.execute_input": "2021-01-23T12:37:44.435401Z",
     "iopub.status.busy": "2021-01-23T12:37:44.434770Z",
     "iopub.status.idle": "2021-01-23T12:37:44.761199Z",
     "shell.execute_reply": "2021-01-23T12:37:44.760841Z"
    }
   },
   "outputs": [],
   "source": [
    "plot_loss(losses, num_epoch, len(train_loader), 'Loss model v2 full image.png')"
   ]
  },
  {
   "cell_type": "markdown",
   "metadata": {},
   "source": [
    "## Test the model"
   ]
  },
  {
   "cell_type": "code",
   "execution_count": 9,
   "metadata": {
    "autoscroll": "auto",
    "collapsed": false,
    "execution": {
     "iopub.execute_input": "2021-01-23T12:37:44.767075Z",
     "iopub.status.busy": "2021-01-23T12:37:44.766734Z",
     "iopub.status.idle": "2021-01-23T12:37:44.952866Z",
     "shell.execute_reply": "2021-01-23T12:37:44.953793Z"
    }
   },
   "outputs": [
    {
     "data": {
      "text/plain": [
       "ModelV2(\n",
       "  (conv1): Conv2d(3, 32, kernel_size=(3, 3), stride=(1, 1))\n",
       "  (pool): MaxPool2d(kernel_size=2, stride=2, padding=0, dilation=1, ceil_mode=False)\n",
       "  (conv2): Conv2d(32, 32, kernel_size=(3, 3), stride=(1, 1))\n",
       "  (fc1): Linear(in_features=123008, out_features=120, bias=True)\n",
       "  (fc2): Linear(in_features=120, out_features=1, bias=True)\n",
       "  (sigmoid): Sigmoid()\n",
       ")"
      ]
     },
     "execution_count": 1,
     "metadata": {},
     "output_type": "execute_result"
    }
   ],
   "source": [
    "# Load model for evaluation\n",
    "trained_model = ModelV2(input_channels=3)\n",
    "trained_model.load_state_dict(torch.load('./models/model_v2.h5'))\n",
    "trained_model.to(device)"
   ]
  },
  {
   "cell_type": "code",
   "execution_count": 10,
   "metadata": {
    "execution": {
     "iopub.execute_input": "2021-01-23T12:37:44.959990Z",
     "iopub.status.busy": "2021-01-23T12:37:44.958822Z",
     "iopub.status.idle": "2021-01-23T12:38:08.337216Z",
     "shell.execute_reply": "2021-01-23T12:38:08.336789Z"
    }
   },
   "outputs": [],
   "source": [
    "accuracy, total = evaluate(trained_model, test_loader, device)"
   ]
  },
  {
   "cell_type": "code",
   "execution_count": 11,
   "metadata": {
    "execution": {
     "iopub.execute_input": "2021-01-23T12:38:08.341181Z",
     "iopub.status.busy": "2021-01-23T12:38:08.340725Z",
     "iopub.status.idle": "2021-01-23T12:38:08.343248Z",
     "shell.execute_reply": "2021-01-23T12:38:08.342855Z"
    }
   },
   "outputs": [],
   "source": [
    "total = len(test_loader)\n",
    "print(f'Accuracy of the network on the {total} test images: {accuracy:.2f}')"
   ]
  }
 ],
 "metadata": {
  "kernelspec": {
   "display_name": "Python 3",
   "language": "python",
   "name": "python3"
  },
  "language_info": {
   "codemirror_mode": {
    "name": "ipython",
    "version": 3
   },
   "file_extension": ".py",
   "mimetype": "text/x-python",
   "name": "python",
   "nbconvert_exporter": "python",
   "pygments_lexer": "ipython3",
   "version": "3.9.1"
  }
 },
 "nbformat": 4,
 "nbformat_minor": 4
}