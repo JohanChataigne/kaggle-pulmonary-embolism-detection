{
 "cells": [
  {
   "cell_type": "markdown",
   "metadata": {},
   "source": [
    "# Second model \n",
    "\n",
    "This model will try to predict wether pe is present or not on a full image (RGB level)"
   ]
  },
  {
   "cell_type": "markdown",
   "metadata": {},
   "source": [
    "## Imports"
   ]
  },
  {
   "cell_type": "code",
   "execution_count": 1,
   "metadata": {},
   "outputs": [],
   "source": [
    "import numpy as np\n",
    "from balance import *\n",
    "from torchsummary import summary"
   ]
  },
  {
   "cell_type": "code",
   "execution_count": 2,
   "metadata": {},
   "outputs": [
    {
     "name": "stdout",
     "output_type": "stream",
     "text": [
      "PyTorch version: 1.7.1\n",
      "GPU found :)\n"
     ]
    }
   ],
   "source": [
    "import torch\n",
    "torch.cuda.empty_cache()\n",
    "\n",
    "print(f'PyTorch version: {torch.__version__}')\n",
    "print(\"GPU found :)\" if torch.cuda.is_available() else \"No GPU :(\")\n",
    "\n",
    "# Device configuration\n",
    "device = torch.device('cuda' if torch.cuda.is_available() else 'cpu')\n",
    "\n",
    "import torch.nn as nn\n",
    "import torch.nn.functional as F\n",
    "import torch.optim as optim\n",
    "from torch.utils.data import DataLoader"
   ]
  },
  {
   "cell_type": "markdown",
   "metadata": {},
   "source": [
    "# Load datasets"
   ]
  },
  {
   "cell_type": "code",
   "execution_count": 3,
   "metadata": {},
   "outputs": [],
   "source": [
    "full_image_dataset = torch.load('datasets/full_image_dataset.pt')"
   ]
  },
  {
   "cell_type": "markdown",
   "metadata": {},
   "source": [
    "## Simple CNN from scratch"
   ]
  },
  {
   "cell_type": "code",
   "execution_count": 4,
   "metadata": {},
   "outputs": [],
   "source": [
    "class ModelV2(nn.Module):\n",
    "    \n",
    "    def __init__(self, input_channels):\n",
    "        \"\"\"Simple Convnet with 2 convolution layer + pooling, with 2 fully connected at the end\"\"\"\n",
    "        super().__init__()\n",
    "        \n",
    "        self.conv1 = nn.Conv2d(in_channels=3, out_channels=32, kernel_size=3)\n",
    "        self.pool = nn.MaxPool2d(kernel_size=2)\n",
    "        self.conv2 = nn.Conv2d(32, 32, 3)\n",
    "        self.fc1 = nn.Linear(32*62*62 , 120)\n",
    "        self.fc2 = nn.Linear(120, 1)\n",
    "        self.sigmoid = nn.Sigmoid()\n",
    "        \n",
    "        \n",
    "    def forward(self, x):\n",
    "        \n",
    "        x = self.pool(F.relu(self.conv1(x)))\n",
    "        x = self.pool(F.relu(self.conv2(x)))\n",
    "        x = x.view(-1, 32*62*62) # Flatten\n",
    "        x = F.relu(self.fc1(x))\n",
    "        \n",
    "        # Binary classification\n",
    "        out = self.sigmoid(self.fc2(x))\n",
    "        \n",
    "        return out"
   ]
  },
  {
   "cell_type": "code",
   "execution_count": 5,
   "metadata": {},
   "outputs": [
    {
     "name": "stdout",
     "output_type": "stream",
     "text": [
      "----------------------------------------------------------------\n",
      "        Layer (type)               Output Shape         Param #\n",
      "================================================================\n",
      "            Conv2d-1         [-1, 32, 254, 254]             896\n",
      "         MaxPool2d-2         [-1, 32, 127, 127]               0\n",
      "            Conv2d-3         [-1, 32, 125, 125]           9,248\n",
      "         MaxPool2d-4           [-1, 32, 62, 62]               0\n",
      "            Linear-5                  [-1, 120]      14,761,080\n",
      "            Linear-6                    [-1, 1]             121\n",
      "           Sigmoid-7                    [-1, 1]               0\n",
      "================================================================\n",
      "Total params: 14,771,345\n",
      "Trainable params: 14,771,345\n",
      "Non-trainable params: 0\n",
      "----------------------------------------------------------------\n",
      "Input size (MB): 0.75\n",
      "Forward/backward pass size (MB): 24.44\n",
      "Params size (MB): 56.35\n",
      "Estimated Total Size (MB): 81.54\n",
      "----------------------------------------------------------------\n"
     ]
    }
   ],
   "source": [
    "model = ModelV2(3).to(device)\n",
    "summary(model, (3, 256, 256))"
   ]
  },
  {
   "cell_type": "markdown",
   "metadata": {},
   "source": [
    "## Split data into train and test"
   ]
  },
  {
   "cell_type": "code",
   "execution_count": 6,
   "metadata": {},
   "outputs": [],
   "source": [
    "batch_size = 24\n",
    "ratio=0.2\n",
    "\n",
    "train_loader, test_loader = train_test_split(full_image_dataset, ratio, batch_size)"
   ]
  },
  {
   "cell_type": "markdown",
   "metadata": {},
   "source": [
    "## Model Training"
   ]
  },
  {
   "cell_type": "code",
   "execution_count": 7,
   "metadata": {},
   "outputs": [
    {
     "name": "stdout",
     "output_type": "stream",
     "text": [
      "Epoch [1/10], step [10/53], loss: 0.6949\n",
      "Epoch [1/10], step [20/53], loss: 0.6940\n",
      "Epoch [1/10], step [30/53], loss: 0.6988\n",
      "Epoch [1/10], step [40/53], loss: 0.6914\n",
      "Epoch [1/10], step [50/53], loss: 0.6887\n",
      "Epoch [2/10], step [10/53], loss: 0.6904\n",
      "Epoch [2/10], step [20/53], loss: 0.6956\n",
      "Epoch [2/10], step [30/53], loss: 0.6892\n",
      "Epoch [2/10], step [40/53], loss: 0.6910\n",
      "Epoch [2/10], step [50/53], loss: 0.6947\n",
      "Epoch [3/10], step [10/53], loss: 0.6881\n",
      "Epoch [3/10], step [20/53], loss: 0.6965\n",
      "Epoch [3/10], step [30/53], loss: 0.6993\n",
      "Epoch [3/10], step [40/53], loss: 0.6879\n",
      "Epoch [3/10], step [50/53], loss: 0.6934\n",
      "Epoch [4/10], step [10/53], loss: 0.6901\n",
      "Epoch [4/10], step [20/53], loss: 0.6952\n",
      "Epoch [4/10], step [30/53], loss: 0.6918\n",
      "Epoch [4/10], step [40/53], loss: 0.6973\n",
      "Epoch [4/10], step [50/53], loss: 0.6952\n",
      "Epoch [5/10], step [10/53], loss: 0.6934\n",
      "Epoch [5/10], step [20/53], loss: 0.6879\n",
      "Epoch [5/10], step [30/53], loss: 0.6874\n",
      "Epoch [5/10], step [40/53], loss: 0.6967\n",
      "Epoch [5/10], step [50/53], loss: 0.6973\n",
      "Epoch [6/10], step [10/53], loss: 0.7022\n",
      "Epoch [6/10], step [20/53], loss: 0.6856\n",
      "Epoch [6/10], step [30/53], loss: 0.6913\n",
      "Epoch [6/10], step [40/53], loss: 0.6839\n",
      "Epoch [6/10], step [50/53], loss: 0.6980\n",
      "Epoch [7/10], step [10/53], loss: 0.6977\n",
      "Epoch [7/10], step [20/53], loss: 0.6991\n",
      "Epoch [7/10], step [30/53], loss: 0.6953\n",
      "Epoch [7/10], step [40/53], loss: 0.6869\n",
      "Epoch [7/10], step [50/53], loss: 0.6935\n",
      "Epoch [8/10], step [10/53], loss: 0.6833\n",
      "Epoch [8/10], step [20/53], loss: 0.6883\n",
      "Epoch [8/10], step [30/53], loss: 0.6909\n",
      "Epoch [8/10], step [40/53], loss: 0.6864\n",
      "Epoch [8/10], step [50/53], loss: 0.6961\n",
      "Epoch [9/10], step [10/53], loss: 0.6883\n",
      "Epoch [9/10], step [20/53], loss: 0.6844\n",
      "Epoch [9/10], step [30/53], loss: 0.6913\n",
      "Epoch [9/10], step [40/53], loss: 0.6848\n",
      "Epoch [9/10], step [50/53], loss: 0.6847\n",
      "Epoch [10/10], step [10/53], loss: 0.6982\n",
      "Epoch [10/10], step [20/53], loss: 0.6974\n",
      "Epoch [10/10], step [30/53], loss: 0.6971\n",
      "Epoch [10/10], step [40/53], loss: 0.6846\n",
      "Epoch [10/10], step [50/53], loss: 0.6911\n"
     ]
    }
   ],
   "source": [
    "num_epoch = 10\n",
    "step_count = len(train_loader)\n",
    "loss_function = nn.BCELoss()\n",
    "optimizer = optim.SGD(model.parameters(), lr=0.001)\n",
    "\n",
    "for epoch in range(num_epoch):\n",
    "    for i, sample in enumerate(train_loader):\n",
    "        \n",
    "        image = sample['image'].to(device, dtype=torch.float)\n",
    "        target = sample['target'].to(device, dtype=torch.float)\n",
    "        target = target.view(target.shape[0], 1)\n",
    "        \n",
    "        # Reset gradiant\n",
    "        optimizer.zero_grad()\n",
    "        \n",
    "        # Forward pass\n",
    "        pred = model(image)\n",
    "        \n",
    "        # Compute loss\n",
    "        loss = loss_function(pred, target)\n",
    "        \n",
    "        # Backprop\n",
    "        loss.backward()\n",
    "        optimizer.step()\n",
    "        \n",
    "        del image\n",
    "        del target\n",
    "        del pred\n",
    "        del sample\n",
    "        \n",
    "        # Debug\n",
    "        if((i+1) % 10 == 0):\n",
    "            print(\n",
    "                        f\"Epoch [{epoch + 1}/{num_epoch}]\"\n",
    "                        f\", step [{i + 1}/{step_count}]\"\n",
    "                        f\", loss: {loss.item():.4f}\"\n",
    "                    )"
   ]
  },
  {
   "cell_type": "code",
   "execution_count": 15,
   "metadata": {},
   "outputs": [
    {
     "ename": "NameError",
     "evalue": "name 'model' is not defined",
     "output_type": "error",
     "traceback": [
      "\u001b[0;31m---------------------------------------------------------------------------\u001b[0m",
      "\u001b[0;31mNameError\u001b[0m                                 Traceback (most recent call last)",
      "\u001b[0;32m<ipython-input-15-8390578ec068>\u001b[0m in \u001b[0;36m<module>\u001b[0;34m\u001b[0m\n\u001b[1;32m      1\u001b[0m \u001b[0;31m# Save model\u001b[0m\u001b[0;34m\u001b[0m\u001b[0;34m\u001b[0m\u001b[0;34m\u001b[0m\u001b[0m\n\u001b[0;32m----> 2\u001b[0;31m \u001b[0mtorch\u001b[0m\u001b[0;34m.\u001b[0m\u001b[0msave\u001b[0m\u001b[0;34m(\u001b[0m\u001b[0mmodel\u001b[0m\u001b[0;34m.\u001b[0m\u001b[0mstate_dict\u001b[0m\u001b[0;34m(\u001b[0m\u001b[0;34m)\u001b[0m\u001b[0;34m,\u001b[0m \u001b[0;34m'./models/model_v2.h5'\u001b[0m\u001b[0;34m)\u001b[0m\u001b[0;34m\u001b[0m\u001b[0;34m\u001b[0m\u001b[0m\n\u001b[0m\u001b[1;32m      3\u001b[0m \u001b[0;32mdel\u001b[0m \u001b[0mmodel\u001b[0m\u001b[0;34m\u001b[0m\u001b[0;34m\u001b[0m\u001b[0m\n",
      "\u001b[0;31mNameError\u001b[0m: name 'model' is not defined"
     ]
    }
   ],
   "source": [
    "# Save model \n",
    "torch.save(model.state_dict(), './models/model_v2.h5')\n",
    "del model"
   ]
  },
  {
   "cell_type": "markdown",
   "metadata": {},
   "source": [
    "## Test the model"
   ]
  },
  {
   "cell_type": "code",
   "execution_count": 16,
   "metadata": {},
   "outputs": [
    {
     "data": {
      "text/plain": [
       "ModelV2(\n",
       "  (conv1): Conv2d(3, 32, kernel_size=(3, 3), stride=(1, 1))\n",
       "  (pool): MaxPool2d(kernel_size=2, stride=2, padding=0, dilation=1, ceil_mode=False)\n",
       "  (conv2): Conv2d(32, 32, kernel_size=(3, 3), stride=(1, 1))\n",
       "  (fc1): Linear(in_features=123008, out_features=120, bias=True)\n",
       "  (fc2): Linear(in_features=120, out_features=1, bias=True)\n",
       "  (sigmoid): Sigmoid()\n",
       ")"
      ]
     },
     "execution_count": 16,
     "metadata": {},
     "output_type": "execute_result"
    }
   ],
   "source": [
    "# Load model for evaluation\n",
    "trained_model = ModelV2(input_channels=3)\n",
    "trained_model.load_state_dict(torch.load('./models/model_v2.h5'))\n",
    "trained_model.to(device)"
   ]
  },
  {
   "cell_type": "code",
   "execution_count": 25,
   "metadata": {},
   "outputs": [],
   "source": [
    "correct = 0\n",
    "with torch.no_grad():\n",
    "    for sample in test_loader:\n",
    "        \n",
    "        image = sample['image'].to(device, dtype=torch.float)\n",
    "        target = sample['target'].to(device)\n",
    "        \n",
    "        output = trained_model(image)\n",
    "\n",
    "        pred = 1 if output[0][0] > 0.5 else 0\n",
    "\n",
    "        correct += (pred == target[0])"
   ]
  },
  {
   "cell_type": "code",
   "execution_count": 27,
   "metadata": {},
   "outputs": [
    {
     "name": "stdout",
     "output_type": "stream",
     "text": [
      "Accuracy of the network on the 1254 test images: 48.33\n"
     ]
    }
   ],
   "source": [
    "total = len(test_loader)\n",
    "print(f'Accuracy of the network on the {total} test images: {100 * correct / total:.2f}')"
   ]
  }
 ],
 "metadata": {
  "kernelspec": {
   "display_name": "Python 3",
   "language": "python",
   "name": "python3"
  },
  "language_info": {
   "codemirror_mode": {
    "name": "ipython",
    "version": 3
   },
   "file_extension": ".py",
   "mimetype": "text/x-python",
   "name": "python",
   "nbconvert_exporter": "python",
   "pygments_lexer": "ipython3",
   "version": "3.8.3"
  }
 },
 "nbformat": 4,
 "nbformat_minor": 4
}
