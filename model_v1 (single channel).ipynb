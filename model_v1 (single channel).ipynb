{
 "cells": [
  {
   "cell_type": "markdown",
   "metadata": {},
   "source": [
    "# First model \n",
    "\n",
    "This model will try to predict wether pe is present or not on a single image (grey level)"
   ]
  },
  {
   "cell_type": "markdown",
   "metadata": {},
   "source": [
    "## Imports"
   ]
  },
  {
   "cell_type": "code",
   "execution_count": 1,
   "metadata": {},
   "outputs": [],
   "source": [
    "import numpy as np\n",
    "from balance import *\n",
    "from model import *"
   ]
  },
  {
   "cell_type": "code",
   "execution_count": 2,
   "metadata": {},
   "outputs": [
    {
     "name": "stdout",
     "output_type": "stream",
     "text": [
      "PyTorch version: 1.7.1\n",
      "GPU found :)\n"
     ]
    }
   ],
   "source": [
    "import torch\n",
    "torch.cuda.empty_cache()\n",
    "\n",
    "print(f'PyTorch version: {torch.__version__}')\n",
    "print(\"GPU found :)\" if torch.cuda.is_available() else \"No GPU :(\")\n",
    "\n",
    "# Device configuration\n",
    "device = torch.device('cuda' if torch.cuda.is_available() else 'cpu')\n",
    "\n",
    "import torch.nn as nn\n",
    "import torch.nn.functional as F\n",
    "import torch.optim as optim\n",
    "from torch.utils.data import DataLoader\n",
    "from torchsummary import summary"
   ]
  },
  {
   "cell_type": "markdown",
   "metadata": {},
   "source": [
    "# Load datasets"
   ]
  },
  {
   "cell_type": "code",
   "execution_count": 3,
   "metadata": {},
   "outputs": [],
   "source": [
    "channel0_dataset = torch.load('datasets/channel0.pt')\n",
    "channel1_dataset = torch.load('datasets/channel1.pt')\n",
    "channel2_dataset = torch.load('datasets/channel2.pt')"
   ]
  },
  {
   "cell_type": "markdown",
   "metadata": {},
   "source": [
    "## Simple CNN from scratch"
   ]
  },
  {
   "cell_type": "code",
   "execution_count": 4,
   "metadata": {},
   "outputs": [
    {
     "name": "stdout",
     "output_type": "stream",
     "text": [
      "----------------------------------------------------------------\n",
      "        Layer (type)               Output Shape         Param #\n",
      "================================================================\n",
      "            Conv2d-1         [-1, 16, 254, 254]             160\n",
      "         MaxPool2d-2         [-1, 16, 127, 127]               0\n",
      "            Conv2d-3         [-1, 32, 125, 125]           4,640\n",
      "         MaxPool2d-4           [-1, 32, 62, 62]               0\n",
      "            Linear-5                  [-1, 120]      14,761,080\n",
      "            Linear-6                    [-1, 1]             121\n",
      "           Sigmoid-7                    [-1, 1]               0\n",
      "================================================================\n",
      "Total params: 14,766,001\n",
      "Trainable params: 14,766,001\n",
      "Non-trainable params: 0\n",
      "----------------------------------------------------------------\n",
      "Input size (MB): 0.25\n",
      "Forward/backward pass size (MB): 14.60\n",
      "Params size (MB): 56.33\n",
      "Estimated Total Size (MB): 71.18\n",
      "----------------------------------------------------------------\n"
     ]
    }
   ],
   "source": [
    "class ModelV1(nn.Module):\n",
    "    \n",
    "    def __init__(self, input_channels):\n",
    "        \"\"\"Simple Convnet with 2 convolution layer + pooling, with 2 fully connected at the end\"\"\"\n",
    "        super().__init__()\n",
    "        \n",
    "        self.conv1 = nn.Conv2d(in_channels=1, out_channels=16, kernel_size=3)\n",
    "        self.pool = nn.MaxPool2d(kernel_size=2)\n",
    "        self.conv2 = nn.Conv2d(16, 32, 3)\n",
    "        self.fc1 = nn.Linear(32*62*62 , 120)\n",
    "        self.fc2 = nn.Linear(120, 1)\n",
    "        self.sigmoid = nn.Sigmoid()\n",
    "        \n",
    "        \n",
    "    def forward(self, x):\n",
    "        \n",
    "        x = self.pool(F.relu(self.conv1(x)))\n",
    "        x = self.pool(F.relu(self.conv2(x)))\n",
    "        x = x.view(-1, 32*62*62) # Flatten\n",
    "        x = F.relu(self.fc1(x))\n",
    "        \n",
    "        # Binary classification\n",
    "        out = self.sigmoid(self.fc2(x))\n",
    "        \n",
    "        return out\n",
    "    \n",
    "summary(ModelV1(1).cuda(), (1, 256, 256))"
   ]
  },
  {
   "cell_type": "markdown",
   "metadata": {},
   "source": [
    "## Split data into train and test"
   ]
  },
  {
   "cell_type": "code",
   "execution_count": 5,
   "metadata": {},
   "outputs": [],
   "source": [
    "batch_size = 128\n",
    "\n",
    "train_loader0, test_loader0 = train_test_split(channel0_dataset, ratio=0.2, batch_size=batch_size)\n",
    "train_loader1, test_loader1 = train_test_split(channel1_dataset, ratio=0.2, batch_size=batch_size)\n",
    "train_loader2, test_loader2 = train_test_split(channel2_dataset, ratio=0.2, batch_size=batch_size)"
   ]
  },
  {
   "cell_type": "markdown",
   "metadata": {},
   "source": [
    "## Model Training"
   ]
  },
  {
   "cell_type": "code",
   "execution_count": 6,
   "metadata": {},
   "outputs": [],
   "source": [
    "model_channel0 = ModelV1(input_channels=1).to(device)\n",
    "model_channel1 = ModelV1(input_channels=1).to(device)\n",
    "model_channel2 = ModelV1(input_channels=1).to(device)"
   ]
  },
  {
   "cell_type": "code",
   "execution_count": null,
   "metadata": {},
   "outputs": [
    {
     "name": "stdout",
     "output_type": "stream",
     "text": [
      "Training begins\n",
      "Epoch [1/10], step [20/209], loss: 0.6952\n",
      "Epoch [1/10], step [40/209], loss: 0.6939\n",
      "Epoch [1/10], step [60/209], loss: 0.6919\n",
      "Epoch [1/10], step [80/209], loss: 0.6932\n",
      "Epoch [1/10], step [100/209], loss: 0.6927\n",
      "Epoch [1/10], step [120/209], loss: 0.6952\n",
      "Epoch [1/10], step [140/209], loss: 0.6910\n",
      "Epoch [1/10], step [160/209], loss: 0.6940\n",
      "Epoch [1/10], step [180/209], loss: 0.6948\n",
      "Epoch [1/10], step [200/209], loss: 0.6975\n",
      "Epoch [2/10], step [20/209], loss: 0.6930\n",
      "Epoch [2/10], step [40/209], loss: 0.6934\n",
      "Epoch [2/10], step [60/209], loss: 0.6942\n",
      "Epoch [2/10], step [80/209], loss: 0.6951\n",
      "Epoch [2/10], step [100/209], loss: 0.6924\n",
      "Epoch [2/10], step [120/209], loss: 0.6931\n",
      "Epoch [2/10], step [140/209], loss: 0.6932\n",
      "Epoch [2/10], step [160/209], loss: 0.6981\n",
      "Epoch [2/10], step [180/209], loss: 0.6932\n",
      "Epoch [2/10], step [200/209], loss: 0.6934\n",
      "Epoch [3/10], step [20/209], loss: 0.6931\n",
      "Epoch [3/10], step [40/209], loss: 0.6927\n",
      "Epoch [3/10], step [60/209], loss: 0.6927\n",
      "Epoch [3/10], step [80/209], loss: 0.6932\n",
      "Epoch [3/10], step [100/209], loss: 0.6928\n",
      "Epoch [3/10], step [120/209], loss: 0.6956\n",
      "Epoch [3/10], step [140/209], loss: 0.6935\n",
      "Epoch [3/10], step [160/209], loss: 0.6931\n",
      "Epoch [3/10], step [180/209], loss: 0.6930\n",
      "Epoch [3/10], step [200/209], loss: 0.6934\n",
      "Epoch [4/10], step [20/209], loss: 0.6931\n",
      "Epoch [4/10], step [40/209], loss: 0.6932\n",
      "Epoch [4/10], step [60/209], loss: 0.6937\n",
      "Epoch [4/10], step [80/209], loss: 0.6932\n",
      "Epoch [4/10], step [100/209], loss: 0.6934\n",
      "Epoch [4/10], step [120/209], loss: 0.6931\n",
      "Epoch [4/10], step [140/209], loss: 0.6935\n",
      "Epoch [4/10], step [160/209], loss: 0.6931\n",
      "Epoch [4/10], step [180/209], loss: 0.6910\n",
      "Epoch [4/10], step [200/209], loss: 0.6932\n",
      "Epoch [5/10], step [20/209], loss: 0.6940\n",
      "Epoch [5/10], step [40/209], loss: 0.6922\n",
      "Epoch [5/10], step [60/209], loss: 0.6925\n",
      "Epoch [5/10], step [80/209], loss: 0.6905\n",
      "Epoch [5/10], step [100/209], loss: 0.6949\n",
      "Epoch [5/10], step [120/209], loss: 0.6932\n",
      "Epoch [5/10], step [140/209], loss: 0.6929\n",
      "Epoch [5/10], step [160/209], loss: 0.6936\n",
      "Epoch [5/10], step [180/209], loss: 0.6932\n",
      "Epoch [5/10], step [200/209], loss: 0.6909\n",
      "Epoch [6/10], step [20/209], loss: 0.6917\n",
      "Epoch [6/10], step [40/209], loss: 0.6926\n",
      "Epoch [6/10], step [60/209], loss: 0.6915\n",
      "Epoch [6/10], step [80/209], loss: 0.6940\n",
      "Epoch [6/10], step [100/209], loss: 0.6934\n",
      "Epoch [6/10], step [120/209], loss: 0.6910\n",
      "Epoch [6/10], step [140/209], loss: 0.6925\n",
      "Epoch [6/10], step [160/209], loss: 0.6926\n",
      "Epoch [6/10], step [180/209], loss: 0.6934\n",
      "Epoch [6/10], step [200/209], loss: 0.6911\n",
      "Epoch [7/10], step [20/209], loss: 0.6923\n",
      "Epoch [7/10], step [40/209], loss: 0.6907\n",
      "Epoch [7/10], step [60/209], loss: 0.6891\n",
      "Epoch [7/10], step [80/209], loss: 0.6950\n",
      "Epoch [7/10], step [100/209], loss: 0.6917\n",
      "Epoch [7/10], step [120/209], loss: 0.6937\n",
      "Epoch [7/10], step [140/209], loss: 0.6930\n",
      "Epoch [7/10], step [160/209], loss: 0.6931\n",
      "Epoch [7/10], step [180/209], loss: 0.6956\n",
      "Epoch [7/10], step [200/209], loss: 0.6926\n",
      "Epoch [8/10], step [20/209], loss: 0.6932\n",
      "Epoch [8/10], step [40/209], loss: 0.6935\n",
      "Epoch [8/10], step [60/209], loss: 0.6934\n",
      "Epoch [8/10], step [80/209], loss: 0.6924\n",
      "Epoch [8/10], step [100/209], loss: 0.6956\n",
      "Epoch [8/10], step [120/209], loss: 0.6943\n",
      "Epoch [8/10], step [140/209], loss: 0.6930\n",
      "Epoch [8/10], step [160/209], loss: 0.6930\n",
      "Epoch [8/10], step [180/209], loss: 0.6943\n",
      "Epoch [8/10], step [200/209], loss: 0.6928\n",
      "Epoch [9/10], step [20/209], loss: 0.6954\n",
      "Epoch [9/10], step [40/209], loss: 0.6911\n",
      "Epoch [9/10], step [60/209], loss: 0.6941\n",
      "Epoch [9/10], step [80/209], loss: 0.6937\n",
      "Epoch [9/10], step [100/209], loss: 0.6931\n",
      "Epoch [9/10], step [120/209], loss: 0.6936\n",
      "Epoch [9/10], step [140/209], loss: 0.6917\n",
      "Epoch [9/10], step [160/209], loss: 0.6984\n",
      "Epoch [9/10], step [180/209], loss: 0.6939\n",
      "Epoch [9/10], step [200/209], loss: 0.6929\n",
      "Epoch [10/10], step [20/209], loss: 0.6933\n",
      "Epoch [10/10], step [40/209], loss: 0.6943\n",
      "Epoch [10/10], step [60/209], loss: 0.6954\n",
      "Epoch [10/10], step [80/209], loss: 0.6975\n",
      "Epoch [10/10], step [100/209], loss: 0.6945\n",
      "Epoch [10/10], step [120/209], loss: 0.6925\n",
      "Epoch [10/10], step [140/209], loss: 0.6928\n",
      "Epoch [10/10], step [160/209], loss: 0.6933\n",
      "Epoch [10/10], step [180/209], loss: 0.6931\n",
      "Epoch [10/10], step [200/209], loss: 0.6935\n",
      "Finished training\n",
      "Training begins\n",
      "Epoch [1/10], step [20/209], loss: 0.6883\n",
      "Epoch [1/10], step [40/209], loss: 0.6933\n",
      "Epoch [1/10], step [60/209], loss: 0.6934\n",
      "Epoch [1/10], step [80/209], loss: 0.6932\n",
      "Epoch [1/10], step [100/209], loss: 0.6934\n",
      "Epoch [1/10], step [120/209], loss: 0.6989\n",
      "Epoch [1/10], step [140/209], loss: 0.6921\n",
      "Epoch [1/10], step [160/209], loss: 0.6947\n",
      "Epoch [1/10], step [180/209], loss: 0.6941\n",
      "Epoch [1/10], step [200/209], loss: 0.6917\n",
      "Epoch [2/10], step [20/209], loss: 0.6936\n",
      "Epoch [2/10], step [40/209], loss: 0.6932\n",
      "Epoch [2/10], step [60/209], loss: 0.6951\n",
      "Epoch [2/10], step [80/209], loss: 0.6938\n",
      "Epoch [2/10], step [100/209], loss: 0.6918\n",
      "Epoch [2/10], step [120/209], loss: 0.6933\n",
      "Epoch [2/10], step [140/209], loss: 0.6947\n",
      "Epoch [2/10], step [160/209], loss: 0.6924\n",
      "Epoch [2/10], step [180/209], loss: 0.6962\n",
      "Epoch [2/10], step [200/209], loss: 0.6912\n",
      "Epoch [3/10], step [20/209], loss: 0.6932\n",
      "Epoch [3/10], step [40/209], loss: 0.6927\n",
      "Epoch [3/10], step [60/209], loss: 0.6900\n",
      "Epoch [3/10], step [80/209], loss: 0.6929\n",
      "Epoch [3/10], step [100/209], loss: 0.6931\n",
      "Epoch [3/10], step [120/209], loss: 0.6922\n",
      "Epoch [3/10], step [140/209], loss: 0.6933\n",
      "Epoch [3/10], step [160/209], loss: 0.6938\n",
      "Epoch [3/10], step [180/209], loss: 0.6932\n",
      "Epoch [3/10], step [200/209], loss: 0.6946\n",
      "Epoch [4/10], step [20/209], loss: 0.6919\n",
      "Epoch [4/10], step [40/209], loss: 0.6924\n",
      "Epoch [4/10], step [60/209], loss: 0.6931\n",
      "Epoch [4/10], step [80/209], loss: 0.6931\n",
      "Epoch [4/10], step [100/209], loss: 0.6921\n",
      "Epoch [4/10], step [120/209], loss: 0.6931\n",
      "Epoch [4/10], step [140/209], loss: 0.6962\n",
      "Epoch [4/10], step [160/209], loss: 0.6964\n",
      "Epoch [4/10], step [180/209], loss: 0.6907\n",
      "Epoch [4/10], step [200/209], loss: 0.6953\n",
      "Epoch [5/10], step [20/209], loss: 0.6932\n",
      "Epoch [5/10], step [40/209], loss: 0.6931\n",
      "Epoch [5/10], step [60/209], loss: 0.6940\n",
      "Epoch [5/10], step [80/209], loss: 0.6942\n",
      "Epoch [5/10], step [100/209], loss: 0.6942\n",
      "Epoch [5/10], step [120/209], loss: 0.6946\n",
      "Epoch [5/10], step [140/209], loss: 0.6910\n",
      "Epoch [5/10], step [160/209], loss: 0.6929\n",
      "Epoch [5/10], step [180/209], loss: 0.6925\n",
      "Epoch [5/10], step [200/209], loss: 0.6938\n",
      "Epoch [6/10], step [20/209], loss: 0.6938\n",
      "Epoch [6/10], step [40/209], loss: 0.6916\n",
      "Epoch [6/10], step [60/209], loss: 0.6948\n",
      "Epoch [6/10], step [80/209], loss: 0.6935\n",
      "Epoch [6/10], step [100/209], loss: 0.6932\n",
      "Epoch [6/10], step [120/209], loss: 0.6932\n",
      "Epoch [6/10], step [140/209], loss: 0.6925\n",
      "Epoch [6/10], step [160/209], loss: 0.6928\n",
      "Epoch [6/10], step [180/209], loss: 0.6929\n",
      "Epoch [6/10], step [200/209], loss: 0.6932\n",
      "Epoch [7/10], step [20/209], loss: 0.6907\n",
      "Epoch [7/10], step [40/209], loss: 0.6940\n",
      "Epoch [7/10], step [60/209], loss: 0.6921\n",
      "Epoch [7/10], step [80/209], loss: 0.6904\n",
      "Epoch [7/10], step [100/209], loss: 0.6928\n",
      "Epoch [7/10], step [120/209], loss: 0.6936\n",
      "Epoch [7/10], step [140/209], loss: 0.6933\n",
      "Epoch [7/10], step [160/209], loss: 0.6932\n",
      "Epoch [7/10], step [180/209], loss: 0.6955\n",
      "Epoch [7/10], step [200/209], loss: 0.6937\n",
      "Epoch [8/10], step [20/209], loss: 0.6940\n",
      "Epoch [8/10], step [40/209], loss: 0.6906\n",
      "Epoch [8/10], step [60/209], loss: 0.6932\n",
      "Epoch [8/10], step [80/209], loss: 0.6932\n",
      "Epoch [8/10], step [100/209], loss: 0.6923\n",
      "Epoch [8/10], step [120/209], loss: 0.6903\n",
      "Epoch [8/10], step [140/209], loss: 0.6933\n",
      "Epoch [8/10], step [160/209], loss: 0.6943\n",
      "Epoch [8/10], step [180/209], loss: 0.6948\n",
      "Epoch [8/10], step [200/209], loss: 0.6931\n",
      "Epoch [9/10], step [20/209], loss: 0.6924\n",
      "Epoch [9/10], step [40/209], loss: 0.6932\n",
      "Epoch [9/10], step [60/209], loss: 0.6931\n",
      "Epoch [9/10], step [80/209], loss: 0.6930\n",
      "Epoch [9/10], step [100/209], loss: 0.6928\n",
      "Epoch [9/10], step [120/209], loss: 0.6932\n",
      "Epoch [9/10], step [140/209], loss: 0.6932\n",
      "Epoch [9/10], step [160/209], loss: 0.6933\n",
      "Epoch [9/10], step [180/209], loss: 0.6928\n",
      "Epoch [9/10], step [200/209], loss: 0.6943\n",
      "Epoch [10/10], step [20/209], loss: 0.6929\n"
     ]
    }
   ],
   "source": [
    "model_channel0, losses_0 = train(model_channel0, num_epoch=10, criterion=nn.BCELoss(), \n",
    "                       data_loader=train_loader0, optimizer=optim.SGD(model_channel0.parameters(), lr=0.001), device=device, './models/model_v1_channel0.h5')\n",
    "\n",
    "model_channel1, losses_1 = train(model_channel1, num_epoch=10, criterion=nn.BCELoss(),\n",
    "                       data_loader=train_loader1, optimizer=optim.SGD(model_channel1.parameters(), lr=0.001), device=device, './models/model_v1_channel1.h5')\n",
    "\n",
    "model_channel2, losses_2 = train(model_channel2, num_epoch=10, criterion=nn.BCELoss(), \n",
    "                       data_loader=train_loader2, optimizer=optim.SGD(model_channel2.parameters(), lr=0.001), device=device, './models/model_v1_channel2.h5')"
   ]
  },
  {
   "cell_type": "markdown",
   "metadata": {},
   "source": [
    "## Test the model"
   ]
  },
  {
   "cell_type": "code",
   "execution_count": null,
   "metadata": {},
   "outputs": [],
   "source": [
    "# Load models for evaluation\n",
    "model_channel0 = ModelV1(input_channels=1)\n",
    "model_channel0.load_state_dict(torch.load('./models/model_v1_channel0.h5'))\n",
    "model_channel0.to(device)\n",
    "\n",
    "model_channel1 = ModelV1(input_channels=1)\n",
    "model_channel1.load_state_dict(torch.load('./models/model_v1_channel1.h5'))\n",
    "model_channel1.to(device)\n",
    "\n",
    "model_channel2 = ModelV1(input_channels=1)\n",
    "model_channel2.load_state_dict(torch.load('./models/model_v1_channel2.h5'))\n",
    "model_channel2.to(device)"
   ]
  },
  {
   "cell_type": "code",
   "execution_count": null,
   "metadata": {},
   "outputs": [],
   "source": [
    "evaluate(model_channel0, test_loader0, device)\n",
    "evaluate(model_channel1, test_loader1, device)\n",
    "evaluate(model_channel2, test_loader2, device)"
   ]
  }
 ],
 "metadata": {
  "kernelspec": {
   "display_name": "Python 3",
   "language": "python",
   "name": "python3"
  },
  "language_info": {
   "codemirror_mode": {
    "name": "ipython",
    "version": 3
   },
   "file_extension": ".py",
   "mimetype": "text/x-python",
   "name": "python",
   "nbconvert_exporter": "python",
   "pygments_lexer": "ipython3",
   "version": "3.8.3"
  }
 },
 "nbformat": 4,
 "nbformat_minor": 4
}
