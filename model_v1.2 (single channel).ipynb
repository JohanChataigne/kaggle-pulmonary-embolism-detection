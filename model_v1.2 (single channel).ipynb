{
 "cells": [
  {
   "cell_type": "markdown",
   "metadata": {},
   "source": [
    "# First model (version 2)\n",
    "\n",
    "This model will try to predict wether pe is present or not on a single image (grey level)"
   ]
  },
  {
   "cell_type": "markdown",
   "metadata": {},
   "source": [
    "## Imports"
   ]
  },
  {
   "cell_type": "code",
   "execution_count": 1,
   "metadata": {
    "execution": {
     "iopub.execute_input": "2021-01-26T14:41:16.664956Z",
     "iopub.status.busy": "2021-01-26T14:41:16.663611Z",
     "iopub.status.idle": "2021-01-26T14:41:17.352763Z",
     "shell.execute_reply": "2021-01-26T14:41:17.351549Z"
    }
   },
   "outputs": [],
   "source": [
    "import numpy as np\n",
    "from modules.balance import *\n",
    "from modules.model import *"
   ]
  },
  {
   "cell_type": "code",
   "execution_count": 2,
   "metadata": {
    "execution": {
     "iopub.execute_input": "2021-01-26T14:41:17.514632Z",
     "iopub.status.busy": "2021-01-26T14:41:17.364225Z",
     "iopub.status.idle": "2021-01-26T14:41:17.524637Z",
     "shell.execute_reply": "2021-01-26T14:41:17.523655Z"
    }
   },
   "outputs": [],
   "source": [
    "import torch\n",
    "torch.cuda.empty_cache()\n",
    "\n",
    "print(f'PyTorch version: {torch.__version__}')\n",
    "print(\"GPU found :)\" if torch.cuda.is_available() else \"No GPU :(\")\n",
    "\n",
    "# Device configuration\n",
    "device = torch.device('cuda' if torch.cuda.is_available() else 'cpu')\n",
    "\n",
    "import torch.nn as nn\n",
    "import torch.nn.functional as F\n",
    "import torch.optim as optim\n",
    "from torch.utils.data import DataLoader\n",
    "from torchsummary import summary"
   ]
  },
  {
   "cell_type": "markdown",
   "metadata": {},
   "source": [
    "# Load datasets"
   ]
  },
  {
   "cell_type": "code",
   "execution_count": 3,
   "metadata": {
    "execution": {
     "iopub.execute_input": "2021-01-26T14:41:17.532535Z",
     "iopub.status.busy": "2021-01-26T14:41:17.531413Z",
     "iopub.status.idle": "2021-01-26T14:41:17.931148Z",
     "shell.execute_reply": "2021-01-26T14:41:17.932014Z"
    }
   },
   "outputs": [],
   "source": [
    "channel0_dataset = torch.load('datasets/channel0.pt')\n",
    "channel1_dataset = torch.load('datasets/channel1.pt')\n",
    "channel2_dataset = torch.load('datasets/channel2.pt')"
   ]
  },
  {
   "cell_type": "markdown",
   "metadata": {},
   "source": [
    "## Deeper CNN than the previous"
   ]
  },
  {
   "cell_type": "code",
   "execution_count": 4,
   "metadata": {
    "execution": {
     "iopub.execute_input": "2021-01-26T14:41:17.941836Z",
     "iopub.status.busy": "2021-01-26T14:41:17.940678Z",
     "iopub.status.idle": "2021-01-26T14:41:17.943269Z",
     "shell.execute_reply": "2021-01-26T14:41:17.944176Z"
    }
   },
   "outputs": [],
   "source": [
    "class ModelV1(nn.Module):\n",
    "    \n",
    "    def __init__(self, input_channels):\n",
    "        \"\"\"Convnet with 4 convolution layer + pooling + BN, with 3 fully connected at the end\"\"\"\n",
    "        super().__init__()\n",
    "        \n",
    "        self.conv1 = nn.Conv2d(in_channels=1, out_channels=32, kernel_size=5)\n",
    "        self.bn1 = nn.BatchNorm2d(32)\n",
    "        self.conv2 = nn.Conv2d(32, 64, 3)\n",
    "        self.bn2 = nn.BatchNorm2d(64)\n",
    "        self.conv3 = nn.Conv2d(64, 64, 3)\n",
    "        self.bn3 = nn.BatchNorm2d(64)\n",
    "        self.conv4 = nn.Conv2d(64, 64, 3)\n",
    "        self.bn4 = nn.BatchNorm2d(64)\n",
    "        \n",
    "        self.pool = nn.MaxPool2d(kernel_size=2)\n",
    "        \n",
    "        self.fc1 = nn.Linear(64*14*14 , 512)\n",
    "        self.fc2 = nn.Linear(512, 128)\n",
    "        self.fc3 = nn.Linear(128, 1)\n",
    "        \n",
    "        self.dropout = nn.Dropout(0.5)\n",
    "        \n",
    "        self.sigmoid = nn.Sigmoid()\n",
    "        \n",
    "        \n",
    "    def forward(self, x):\n",
    "        \n",
    "        x = self.pool(F.relu(self.bn1(self.conv1(x))))\n",
    "        x = self.pool(F.relu(self.bn2(self.conv2(x))))\n",
    "        x = self.pool(F.relu(self.bn3(self.conv3(x))))\n",
    "        x = self.pool(F.relu(self.bn4(self.conv4(x))))\n",
    "        x = x.view(-1, 64*14*14) # Flatten\n",
    "        x = self.dropout(x)\n",
    "        x = F.relu(self.fc1(x))\n",
    "        x = self.dropout(x)\n",
    "        x = F.relu(self.fc2(x))\n",
    "        \n",
    "        # Binary classification\n",
    "        out = self.sigmoid(self.fc3(x))\n",
    "        \n",
    "        return out\n",
    "    \n",
    "summary(ModelV1(1).to(device), (1, 256, 256))"
   ]
  },
  {
   "cell_type": "markdown",
   "metadata": {},
   "source": [
    "## Split data into train and test"
   ]
  },
  {
   "cell_type": "code",
   "execution_count": 5,
   "metadata": {
    "execution": {
     "iopub.execute_input": "2021-01-26T14:41:17.951407Z",
     "iopub.status.busy": "2021-01-26T14:41:17.950269Z",
     "iopub.status.idle": "2021-01-26T14:41:17.953690Z",
     "shell.execute_reply": "2021-01-26T14:41:17.952597Z"
    }
   },
   "outputs": [],
   "source": [
    "batch_size = 128\n",
    "\n",
    "train_loader0, test_loader0 = train_test_split(channel0_dataset, ratio=0.2, batch_size=batch_size)\n",
    "train_loader1, test_loader1 = train_test_split(channel1_dataset, ratio=0.2, batch_size=batch_size)\n",
    "train_loader2, test_loader2 = train_test_split(channel2_dataset, ratio=0.2, batch_size=batch_size)"
   ]
  },
  {
   "cell_type": "markdown",
   "metadata": {},
   "source": [
    "## Model Training"
   ]
  },
  {
   "cell_type": "code",
   "execution_count": 6,
   "metadata": {
    "execution": {
     "iopub.execute_input": "2021-01-26T14:41:17.962159Z",
     "iopub.status.busy": "2021-01-26T14:41:17.961046Z",
     "iopub.status.idle": "2021-01-26T14:41:19.214184Z",
     "shell.execute_reply": "2021-01-26T14:41:19.213122Z"
    }
   },
   "outputs": [],
   "source": [
    "model_channel0 = ModelV1(input_channels=1).to(device)\n",
    "model_channel1 = ModelV1(input_channels=1).to(device)\n",
    "model_channel2 = ModelV1(input_channels=1).to(device)"
   ]
  },
  {
   "cell_type": "code",
   "execution_count": 7,
   "metadata": {
    "autoscroll": "auto",
    "collapsed": false,
    "execution": {
     "iopub.execute_input": "2021-01-26T14:41:19.228353Z",
     "iopub.status.busy": "2021-01-26T14:41:19.227214Z",
     "iopub.status.idle": "2021-01-26T15:10:39.707159Z",
     "shell.execute_reply": "2021-01-26T15:10:39.705404Z"
    },
    "jupyter": {
     "outputs_hidden": false
    }
   },
   "outputs": [],
   "source": [
    "num_epoch = 15\n",
    "criterion = nn.BCELoss()\n",
    "optimizer0 = optim.Adam(model_channel0.parameters(), lr=0.001)\n",
    "optimizer1 = optim.Adam(model_channel1.parameters(), lr=0.001)\n",
    "optimizer2 = optim.Adam(model_channel2.parameters(), lr=0.001)\n",
    "\n",
    "save_filename0 = './models/model_v1.2_channel0.h5'\n",
    "save_filename1 = './models/model_v1.2_channel1.h5'\n",
    "save_filename2 = './models/model_v1.2_channel2.h5'\n",
    "\n",
    "model_channel0, losses_0 = train(model_channel0, num_epoch, criterion, train_loader0, optimizer0, device, save_filename0)\n",
    "model_channel1, losses_1 = train(model_channel1, num_epoch, criterion, train_loader1, optimizer1, device, save_filename1)\n",
    "model_channel2, losses_2 = train(model_channel2, num_epoch, criterion, train_loader2, optimizer2, device, save_filename2)"
   ]
  },
  {
   "cell_type": "code",
   "execution_count": 8,
   "metadata": {
    "autoscroll": "auto",
    "collapsed": false,
    "execution": {
     "iopub.execute_input": "2021-01-26T15:10:39.714860Z",
     "iopub.status.busy": "2021-01-26T15:10:39.713902Z",
     "iopub.status.idle": "2021-01-26T15:10:40.058331Z",
     "shell.execute_reply": "2021-01-26T15:10:40.059260Z"
    },
    "jupyter": {
     "outputs_hidden": false
    }
   },
   "outputs": [
    {
     "data": {
      "image/png": "[encoded data removed]",
      "text/plain": [
       "<Figure size 432x288 with 1 Axes>"
      ]
     },
     "metadata": {
      "needs_background": "light"
     },
     "output_type": "display_data"
    },
    {
     "data": {
      "image/png": "[encoded data removed]",
      "text/plain": [
       "<Figure size 432x288 with 1 Axes>"
      ]
     },
     "metadata": {
      "needs_background": "light"
     },
     "output_type": "display_data"
    },
    {
     "data": {
      "image/png": "[encoded data removed]",
      "text/plain": [
       "<Figure size 432x288 with 1 Axes>"
      ]
     },
     "metadata": {
      "needs_background": "light"
     },
     "output_type": "display_data"
    }
   ],
   "source": [
    "plot_loss(losses_0, num_epoch, len(train_loader0), './figures/Loss model v1.2 channel 0.png')\n",
    "plot_loss(losses_1, num_epoch, len(train_loader1), './figures/Loss model v1.2 channel 1.png')\n",
    "plot_loss(losses_2, num_epoch, len(train_loader2), './figures/Loss model v1.2 channel 2.png')"
   ]
  },
  {
   "cell_type": "markdown",
   "metadata": {},
   "source": [
    "## Test the model"
   ]
  },
  {
   "cell_type": "code",
   "execution_count": 9,
   "metadata": {
    "autoscroll": "auto",
    "collapsed": false,
    "execution": {
     "iopub.execute_input": "2021-01-26T15:10:40.065389Z",
     "iopub.status.busy": "2021-01-26T15:10:40.064256Z",
     "iopub.status.idle": "2021-01-26T15:10:40.285625Z",
     "shell.execute_reply": "2021-01-26T15:10:40.286569Z"
    },
    "jupyter": {
     "outputs_hidden": false
    }
   },
   "outputs": [
    {
     "data": {
      "text/plain": [
       "ModelV1(\n",
       "  (conv1): Conv2d(1, 32, kernel_size=(5, 5), stride=(1, 1))\n",
       "  (bn1): BatchNorm2d(32, eps=1e-05, momentum=0.1, affine=True, track_running_stats=True)\n",
       "  (conv2): Conv2d(32, 64, kernel_size=(3, 3), stride=(1, 1))\n",
       "  (bn2): BatchNorm2d(64, eps=1e-05, momentum=0.1, affine=True, track_running_stats=True)\n",
       "  (conv3): Conv2d(64, 64, kernel_size=(3, 3), stride=(1, 1))\n",
       "  (bn3): BatchNorm2d(64, eps=1e-05, momentum=0.1, affine=True, track_running_stats=True)\n",
       "  (conv4): Conv2d(64, 64, kernel_size=(3, 3), stride=(1, 1))\n",
       "  (bn4): BatchNorm2d(64, eps=1e-05, momentum=0.1, affine=True, track_running_stats=True)\n",
       "  (pool): MaxPool2d(kernel_size=2, stride=2, padding=0, dilation=1, ceil_mode=False)\n",
       "  (fc1): Linear(in_features=12544, out_features=512, bias=True)\n",
       "  (fc2): Linear(in_features=512, out_features=128, bias=True)\n",
       "  (fc3): Linear(in_features=128, out_features=1, bias=True)\n",
       "  (dropout): Dropout(p=0.5, inplace=False)\n",
       "  (sigmoid): Sigmoid()\n",
       ")"
      ]
     },
     "execution_count": 1,
     "metadata": {},
     "output_type": "execute_result"
    }
   ],
   "source": [
    "# Load models for evaluation\n",
    "model_channel0 = ModelV1(input_channels=1)\n",
    "model_channel0.load_state_dict(torch.load('./models/model_v1.2_channel0.h5'))\n",
    "model_channel0.to(device)\n",
    "\n",
    "model_channel1 = ModelV1(input_channels=1)\n",
    "model_channel1.load_state_dict(torch.load('./models/model_v1.2_channel1.h5'))\n",
    "model_channel1.to(device)\n",
    "\n",
    "model_channel2 = ModelV1(input_channels=1)\n",
    "model_channel2.load_state_dict(torch.load('./models/model_v1.2_channel2.h5'))\n",
    "model_channel2.to(device)"
   ]
  },
  {
   "cell_type": "code",
   "execution_count": 10,
   "metadata": {
    "execution": {
     "iopub.execute_input": "2021-01-26T15:10:40.292290Z",
     "iopub.status.busy": "2021-01-26T15:10:40.291151Z",
     "iopub.status.idle": "2021-01-26T15:11:10.419695Z",
     "shell.execute_reply": "2021-01-26T15:11:10.420076Z"
    }
   },
   "outputs": [],
   "source": [
    "acc0, total0 = evaluate(model_channel0, test_loader0, device)\n",
    "acc1, total1 = evaluate(model_channel1, test_loader1, device)\n",
    "acc2, total2 = evaluate(model_channel2, test_loader2, device)"
   ]
  },
  {
   "cell_type": "code",
   "execution_count": 11,
   "metadata": {
    "autoscroll": "auto",
    "collapsed": false,
    "execution": {
     "iopub.execute_input": "2021-01-26T15:11:10.423407Z",
     "iopub.status.busy": "2021-01-26T15:11:10.422956Z",
     "iopub.status.idle": "2021-01-26T15:11:10.425771Z",
     "shell.execute_reply": "2021-01-26T15:11:10.425319Z"
    },
    "jupyter": {
     "outputs_hidden": false
    }
   },
   "outputs": [],
   "source": [
    "print(f'Accuracy of the network on the {total0} test studies (channel 0): {acc0:.2f}')\n",
    "print(f'Accuracy of the network on the {total1} test studies (channel 1): {acc1:.2f}')\n",
    "print(f'Accuracy of the network on the {total2} test studies (channel 2): {acc2:.2f}')"
   ]
  }
 ],
 "metadata": {
  "kernelspec": {
   "display_name": "Python 3",
   "language": "python",
   "name": "python3"
  },
  "language_info": {
   "codemirror_mode": {
    "name": "ipython",
    "version": 3
   },
   "file_extension": ".py",
   "mimetype": "text/x-python",
   "name": "python",
   "nbconvert_exporter": "python",
   "pygments_lexer": "ipython3",
   "version": "3.8.3"
  }
 },
 "nbformat": 4,
 "nbformat_minor": 4
}
