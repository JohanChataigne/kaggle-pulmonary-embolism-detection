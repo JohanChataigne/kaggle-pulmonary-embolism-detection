{
 "cells": [
  {
   "cell_type": "markdown",
   "metadata": {},
   "source": [
    "# First model \n",
    "\n",
    "This model will try to predict wether pe is present or not on a single image (grey level)"
   ]
  },
  {
   "cell_type": "markdown",
   "metadata": {},
   "source": [
    "## Imports"
   ]
  },
  {
   "cell_type": "code",
   "execution_count": 1,
   "metadata": {},
   "outputs": [],
   "source": [
    "import numpy as np"
   ]
  },
  {
   "cell_type": "code",
   "execution_count": 2,
   "metadata": {},
   "outputs": [
    {
     "name": "stdout",
     "output_type": "stream",
     "text": [
      "PyTorch version: 1.7.1\n",
      "GPU found :)\n"
     ]
    }
   ],
   "source": [
    "import torch\n",
    "torch.cuda.empty_cache()\n",
    "\n",
    "print(f'PyTorch version: {torch.__version__}')\n",
    "print(\"GPU found :)\" if torch.cuda.is_available() else \"No GPU :(\")\n",
    "\n",
    "# Device configuration\n",
    "device = torch.device('cuda' if torch.cuda.is_available() else 'cpu')\n",
    "\n",
    "import torch.nn as nn\n",
    "import torch.nn.functional as F\n",
    "import torch.optim as optim\n",
    "from torch.utils.data import DataLoader\n",
    "from torch.utils.data.sampler import SubsetRandomSampler"
   ]
  },
  {
   "cell_type": "markdown",
   "metadata": {},
   "source": [
    "# Load datasets"
   ]
  },
  {
   "cell_type": "code",
   "execution_count": 3,
   "metadata": {},
   "outputs": [],
   "source": [
    "channel0_dataset = torch.load('datasets/channel0.pt')\n",
    "channel1_dataset = torch.load('datasets/channel1.pt')\n",
    "channel2_dataset = torch.load('datasets/channel2.pt')"
   ]
  },
  {
   "cell_type": "markdown",
   "metadata": {},
   "source": [
    "## Simple CNN from scratch"
   ]
  },
  {
   "cell_type": "code",
   "execution_count": 4,
   "metadata": {},
   "outputs": [],
   "source": [
    "class ModelV1(nn.Module):\n",
    "    \n",
    "    def __init__(self, input_channels):\n",
    "        \"\"\"Simple Convnet with 2 convolution layer + pooling, with 2 fully connected at the end\"\"\"\n",
    "        super().__init__()\n",
    "        \n",
    "        self.conv1 = nn.Conv2d(in_channels=1, out_channels=16, kernel_size=3)\n",
    "        self.pool = nn.MaxPool2d(kernel_size=2)\n",
    "        self.conv2 = nn.Conv2d(16, 32, 3)\n",
    "        self.fc1 = nn.Linear(32*62*62 , 120)\n",
    "        self.fc2 = nn.Linear(120, 2)\n",
    "        \n",
    "        \n",
    "    def forward(self, x):\n",
    "        \n",
    "        x = self.pool(F.relu(self.conv1(x)))\n",
    "        x = self.pool(F.relu(self.conv2(x)))\n",
    "        x = x.view(-1, 32*62*62) # Flatten\n",
    "        x = F.relu(self.fc1(x))\n",
    "        \n",
    "        # Binary classification\n",
    "        out = torch.sigmoid(self.fc2(x))\n",
    "        \n",
    "        return out"
   ]
  },
  {
   "cell_type": "markdown",
   "metadata": {},
   "source": [
    "## Split data into train and test"
   ]
  },
  {
   "cell_type": "code",
   "execution_count": 5,
   "metadata": {},
   "outputs": [],
   "source": [
    "dataset = channel0_dataset\n",
    "\n",
    "# Compute sizes for the split\n",
    "test_ratio = 0.2\n",
    "test_size = int(test_ratio * len(dataset))\n",
    "train_size = len(dataset) - test_size\n",
    "\n",
    "# Get indices for train and test, then sample them\n",
    "indices = list(range(len(dataset)))\n",
    "np.random.seed(12345)\n",
    "np.random.shuffle(indices)\n",
    "\n",
    "train_indices, test_indices = indices[train_size:], indices[:test_size]\n",
    "\n",
    "train_sampler = SubsetRandomSampler(train_indices)\n",
    "test_sampler = SubsetRandomSampler(test_indices)\n",
    "\n",
    "# Data loaders for the split\n",
    "train_loader = DataLoader(dataset, batch_size=1, sampler=train_sampler)\n",
    "test_loader = DataLoader(dataset, sampler=test_sampler)"
   ]
  },
  {
   "cell_type": "markdown",
   "metadata": {},
   "source": [
    "## Model Training"
   ]
  },
  {
   "cell_type": "code",
   "execution_count": 6,
   "metadata": {},
   "outputs": [
    {
     "name": "stdout",
     "output_type": "stream",
     "text": [
      "Epoch [1/5], step [100/1254], loss: 0.6923\n",
      "Epoch [1/5], step [200/1254], loss: 0.6908\n",
      "Epoch [1/5], step [300/1254], loss: 0.7001\n",
      "Epoch [1/5], step [400/1254], loss: 0.7042\n",
      "Epoch [1/5], step [500/1254], loss: 0.6876\n",
      "Epoch [1/5], step [600/1254], loss: 0.6957\n",
      "Epoch [1/5], step [700/1254], loss: 0.6909\n",
      "Epoch [1/5], step [800/1254], loss: 0.6973\n",
      "Epoch [1/5], step [900/1254], loss: 0.6891\n",
      "Epoch [1/5], step [1000/1254], loss: 0.6909\n",
      "Epoch [1/5], step [1100/1254], loss: 0.6866\n",
      "Epoch [1/5], step [1200/1254], loss: 0.6889\n",
      "Epoch [2/5], step [100/1254], loss: 0.6894\n",
      "Epoch [2/5], step [200/1254], loss: 0.6950\n",
      "Epoch [2/5], step [300/1254], loss: 0.6957\n",
      "Epoch [2/5], step [400/1254], loss: 0.6998\n",
      "Epoch [2/5], step [500/1254], loss: 0.6966\n",
      "Epoch [2/5], step [600/1254], loss: 0.6958\n",
      "Epoch [2/5], step [700/1254], loss: 0.7000\n",
      "Epoch [2/5], step [800/1254], loss: 0.6749\n",
      "Epoch [2/5], step [900/1254], loss: 0.7219\n",
      "Epoch [2/5], step [1000/1254], loss: 0.7091\n",
      "Epoch [2/5], step [1100/1254], loss: 0.6959\n",
      "Epoch [2/5], step [1200/1254], loss: 0.6864\n",
      "Epoch [3/5], step [100/1254], loss: 0.6990\n",
      "Epoch [3/5], step [200/1254], loss: 0.6774\n",
      "Epoch [3/5], step [300/1254], loss: 0.7059\n",
      "Epoch [3/5], step [400/1254], loss: 0.7021\n",
      "Epoch [3/5], step [500/1254], loss: 0.6762\n",
      "Epoch [3/5], step [600/1254], loss: 0.6958\n",
      "Epoch [3/5], step [700/1254], loss: 0.6863\n",
      "Epoch [3/5], step [800/1254], loss: 0.6982\n",
      "Epoch [3/5], step [900/1254], loss: 0.6951\n",
      "Epoch [3/5], step [1000/1254], loss: 0.7005\n",
      "Epoch [3/5], step [1100/1254], loss: 0.6835\n",
      "Epoch [3/5], step [1200/1254], loss: 0.6870\n",
      "Epoch [4/5], step [100/1254], loss: 0.6893\n",
      "Epoch [4/5], step [200/1254], loss: 0.6830\n",
      "Epoch [4/5], step [300/1254], loss: 0.6823\n",
      "Epoch [4/5], step [400/1254], loss: 0.6977\n",
      "Epoch [4/5], step [500/1254], loss: 0.7001\n",
      "Epoch [4/5], step [600/1254], loss: 0.6959\n",
      "Epoch [4/5], step [700/1254], loss: 0.6945\n",
      "Epoch [4/5], step [800/1254], loss: 0.6929\n",
      "Epoch [4/5], step [900/1254], loss: 0.7022\n",
      "Epoch [4/5], step [1000/1254], loss: 0.6811\n",
      "Epoch [4/5], step [1100/1254], loss: 0.6823\n",
      "Epoch [4/5], step [1200/1254], loss: 0.7150\n",
      "Epoch [5/5], step [100/1254], loss: 0.6812\n",
      "Epoch [5/5], step [200/1254], loss: 0.7043\n",
      "Epoch [5/5], step [300/1254], loss: 0.6703\n",
      "Epoch [5/5], step [400/1254], loss: 0.7072\n",
      "Epoch [5/5], step [500/1254], loss: 0.7021\n",
      "Epoch [5/5], step [600/1254], loss: 0.6998\n",
      "Epoch [5/5], step [700/1254], loss: 0.6930\n",
      "Epoch [5/5], step [800/1254], loss: 0.6906\n",
      "Epoch [5/5], step [900/1254], loss: 0.6858\n",
      "Epoch [5/5], step [1000/1254], loss: 0.6998\n",
      "Epoch [5/5], step [1100/1254], loss: 0.6931\n",
      "Epoch [5/5], step [1200/1254], loss: 0.7113\n"
     ]
    }
   ],
   "source": [
    "num_epoch = 5\n",
    "step_count = len(train_loader)\n",
    "loss_function = nn.CrossEntropyLoss()\n",
    "model = ModelV1(input_channels=1).to(device)\n",
    "optimizer = optim.SGD(model.parameters(), lr=0.001)\n",
    "\n",
    "for epoch in range(num_epoch):\n",
    "    for i, sample in enumerate(train_loader):\n",
    "        \n",
    "        image = sample['image'].to(device, dtype=torch.float)\n",
    "        target = sample['target'].to(device)\n",
    "        \n",
    "        # Reset gradiant\n",
    "        optimizer.zero_grad()\n",
    "        \n",
    "        # Forward pass\n",
    "        pred = model(image)\n",
    "        \n",
    "        # Compute loss\n",
    "        loss = loss_function(pred, target)\n",
    "        \n",
    "        # Backprop\n",
    "        loss.backward()\n",
    "        optimizer.step()\n",
    "        \n",
    "        # Debug\n",
    "        if((i+1) % 100 == 0):\n",
    "            print(\n",
    "                        f\"Epoch [{epoch + 1}/{num_epoch}]\"\n",
    "                        f\", step [{i + 1}/{step_count}]\"\n",
    "                        f\", loss: {loss.item():.4f}\"\n",
    "                    )"
   ]
  },
  {
   "cell_type": "code",
   "execution_count": 7,
   "metadata": {},
   "outputs": [],
   "source": [
    "# Save model \n",
    "torch.save(model.state_dict(), './models/model_v1.h5')"
   ]
  },
  {
   "cell_type": "markdown",
   "metadata": {},
   "source": [
    "## Test the model"
   ]
  },
  {
   "cell_type": "code",
   "execution_count": 8,
   "metadata": {},
   "outputs": [
    {
     "data": {
      "text/plain": [
       "ModelV1(\n",
       "  (conv1): Conv2d(1, 16, kernel_size=(3, 3), stride=(1, 1))\n",
       "  (pool): MaxPool2d(kernel_size=2, stride=2, padding=0, dilation=1, ceil_mode=False)\n",
       "  (conv2): Conv2d(16, 32, kernel_size=(3, 3), stride=(1, 1))\n",
       "  (fc1): Linear(in_features=123008, out_features=120, bias=True)\n",
       "  (fc2): Linear(in_features=120, out_features=2, bias=True)\n",
       ")"
      ]
     },
     "execution_count": 8,
     "metadata": {},
     "output_type": "execute_result"
    }
   ],
   "source": [
    "# Load model for evaluation\n",
    "trained_model = ModelV1(input_channels=1)\n",
    "trained_model.load_state_dict(torch.load('./models/model_v1.h5'))\n",
    "trained_model.to(device)"
   ]
  },
  {
   "cell_type": "code",
   "execution_count": 14,
   "metadata": {},
   "outputs": [
    {
     "name": "stdout",
     "output_type": "stream",
     "text": [
      "Accuracy of the network on the 1254 test images: 50.87719298245614\n"
     ]
    }
   ],
   "source": [
    "correct = 0\n",
    "total = 0\n",
    "with torch.no_grad():\n",
    "    for sample in test_loader:\n",
    "        \n",
    "        image = sample['image'].to(device, dtype=torch.float)\n",
    "        target = sample['target'].to(device)\n",
    "        \n",
    "        output = model(image)\n",
    "        prob, index = torch.max(output, 1)\n",
    "        total += target.size(0)\n",
    "        correct += (index == target).sum().item()\n",
    "\n",
    "print(f'Accuracy of the network on the {len(test_loader)} test images: {100 * correct / total}')"
   ]
  }
 ],
 "metadata": {
  "kernelspec": {
   "display_name": "Python 3",
   "language": "python",
   "name": "python3"
  },
  "language_info": {
   "codemirror_mode": {
    "name": "ipython",
    "version": 3
   },
   "file_extension": ".py",
   "mimetype": "text/x-python",
   "name": "python",
   "nbconvert_exporter": "python",
   "pygments_lexer": "ipython3",
   "version": "3.8.3"
  }
 },
 "nbformat": 4,
 "nbformat_minor": 4
}
