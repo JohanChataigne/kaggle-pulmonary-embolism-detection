{
 "cells": [
  {
   "cell_type": "markdown",
   "metadata": {},
   "source": [
    "# Fourth model \n",
    "\n",
    "This model will try to predict wether pe is present or not on a full image (RGB level)"
   ]
  },
  {
   "cell_type": "markdown",
   "metadata": {},
   "source": [
    "## Imports"
   ]
  },
  {
   "cell_type": "code",
   "execution_count": 2,
   "metadata": {},
   "outputs": [],
   "source": [
    "import numpy as np\n",
    "from balance import *\n",
    "#from torchsummary import summary"
   ]
  },
  {
   "cell_type": "code",
   "execution_count": 3,
   "metadata": {},
   "outputs": [
    {
     "name": "stdout",
     "output_type": "stream",
     "text": [
      "PyTorch version: 1.7.1\n",
      "GPU found :)\n"
     ]
    }
   ],
   "source": [
    "import torch\n",
    "torch.cuda.empty_cache()\n",
    "\n",
    "print(f'PyTorch version: {torch.__version__}')\n",
    "print(\"GPU found :)\" if torch.cuda.is_available() else \"No GPU :(\")\n",
    "\n",
    "# Device configuration\n",
    "device = torch.device('cuda' if torch.cuda.is_available() else 'cpu')\n",
    "\n",
    "import torch.nn as nn\n",
    "import torch.nn.functional as F\n",
    "import torch.optim as optim\n",
    "from torch.utils.data import DataLoader"
   ]
  },
  {
   "cell_type": "markdown",
   "metadata": {},
   "source": [
    "# Load datasets"
   ]
  },
  {
   "cell_type": "code",
   "execution_count": 4,
   "metadata": {},
   "outputs": [],
   "source": [
    "multi_image_dataset = torch.load('datasets/multi_image_dataset.pt')\n",
    "nb_images = 50"
   ]
  },
  {
   "cell_type": "markdown",
   "metadata": {},
   "source": [
    "## CNN"
   ]
  },
  {
   "cell_type": "code",
   "execution_count": 5,
   "metadata": {},
   "outputs": [],
   "source": [
    "class ModelV4(nn.Module):\n",
    "    \n",
    "    def __init__(self, input_channels=3*nb_images):\n",
    "        \"\"\"Convnet with 4 convolution layer + pooling + BN, with 3 fully connected at the end\"\"\"\n",
    "        super().__init__()\n",
    "        \n",
    "        self.conv1 = nn.Conv2d(in_channels=input_channels, out_channels=256, kernel_size=5)\n",
    "        self.bn1 = nn.BatchNorm2d(256)\n",
    "        self.conv2 = nn.Conv2d(256, 512, 3)\n",
    "        self.bn2 = nn.BatchNorm2d(512)\n",
    "        self.conv3 = nn.Conv2d(512, 256, 3)\n",
    "        self.bn3 = nn.BatchNorm2d(256)\n",
    "        self.conv4 = nn.Conv2d(256, 64, 3)\n",
    "        self.bn4 = nn.BatchNorm2d(64)\n",
    "        \n",
    "        self.pool = nn.MaxPool2d(kernel_size=2)\n",
    "        \n",
    "        self.fc1 = nn.Linear(64*14*14 , 512)\n",
    "        self.fc2 = nn.Linear(512, 128)\n",
    "        self.fc3 = nn.Linear(128, 1)\n",
    "        \n",
    "        self.dropout = nn.Dropout(0.5)\n",
    "        \n",
    "        self.sigmoid = nn.Sigmoid()\n",
    "        \n",
    "        \n",
    "    def forward(self, x):\n",
    "        \n",
    "        x = self.pool(F.relu(self.bn1(self.conv1(x))))\n",
    "        x = self.pool(F.relu(self.bn2(self.conv2(x))))\n",
    "        x = self.pool(F.relu(self.bn3(self.conv3(x))))\n",
    "        x = self.pool(F.relu(self.bn4(self.conv4(x))))\n",
    "        x = x.view(-1, 64*14*14) # Flatten\n",
    "        x = self.dropout(x)\n",
    "        x = F.relu(self.fc1(x))\n",
    "        x = self.dropout(x)\n",
    "        x = F.relu(self.fc2(x))\n",
    "        \n",
    "        # Binary classification\n",
    "        out = self.sigmoid(self.fc3(x))\n",
    "        \n",
    "        return out"
   ]
  },
  {
   "cell_type": "code",
   "execution_count": 5,
   "metadata": {},
   "outputs": [],
   "source": [
    "model = ModelV4().to(device)\n",
    "#summary(model, (150, 256, 256))"
   ]
  },
  {
   "cell_type": "markdown",
   "metadata": {},
   "source": [
    "## Split data into train and test"
   ]
  },
  {
   "cell_type": "code",
   "execution_count": 6,
   "metadata": {},
   "outputs": [
    {
     "name": "stdout",
     "output_type": "stream",
     "text": [
      "Train size: 72\n",
      "Test size: 18\n"
     ]
    }
   ],
   "source": [
    "batch_size = 2\n",
    "ratio=0.2\n",
    "\n",
    "train_loader, test_loader = train_test_split(multi_image_dataset, ratio, batch_size)\n",
    "\n",
    "print(f'Train size: {len(train_loader)}')\n",
    "print(f'Test size: {len(test_loader)}')"
   ]
  },
  {
   "cell_type": "markdown",
   "metadata": {},
   "source": [
    "## Model Training"
   ]
  },
  {
   "cell_type": "code",
   "execution_count": 7,
   "metadata": {},
   "outputs": [
    {
     "name": "stdout",
     "output_type": "stream",
     "text": [
      "Epoch [1/30], step [10/72], loss: 3.0015\n",
      "Epoch [1/30], step [20/72], loss: 1.8430\n",
      "Epoch [1/30], step [30/72], loss: 1.1515\n",
      "Epoch [1/30], step [40/72], loss: 0.4439\n",
      "Epoch [1/30], step [50/72], loss: 3.0187\n",
      "Epoch [1/30], step [60/72], loss: 0.7358\n",
      "Epoch [1/30], step [70/72], loss: 1.9809\n",
      "Epoch [2/30], step [10/72], loss: 0.9579\n",
      "Epoch [2/30], step [20/72], loss: 0.2688\n",
      "Epoch [2/30], step [30/72], loss: 0.8959\n",
      "Epoch [2/30], step [40/72], loss: 0.1908\n",
      "Epoch [2/30], step [50/72], loss: 0.6346\n",
      "Epoch [2/30], step [60/72], loss: 0.6501\n",
      "Epoch [2/30], step [70/72], loss: 0.9049\n",
      "Epoch [3/30], step [10/72], loss: 0.4758\n",
      "Epoch [3/30], step [20/72], loss: 1.3479\n",
      "Epoch [3/30], step [30/72], loss: 0.7052\n",
      "Epoch [3/30], step [40/72], loss: 1.0295\n",
      "Epoch [3/30], step [50/72], loss: 0.3774\n",
      "Epoch [3/30], step [60/72], loss: 0.5993\n",
      "Epoch [3/30], step [70/72], loss: 0.6180\n",
      "Epoch [4/30], step [10/72], loss: 0.7291\n",
      "Epoch [4/30], step [20/72], loss: 2.6632\n",
      "Epoch [4/30], step [30/72], loss: 0.8675\n",
      "Epoch [4/30], step [40/72], loss: 0.6521\n",
      "Epoch [4/30], step [50/72], loss: 1.0975\n",
      "Epoch [4/30], step [60/72], loss: 0.7021\n",
      "Epoch [4/30], step [70/72], loss: 0.6237\n",
      "Epoch [5/30], step [10/72], loss: 1.1430\n",
      "Epoch [5/30], step [20/72], loss: 0.6428\n",
      "Epoch [5/30], step [30/72], loss: 0.4980\n",
      "Epoch [5/30], step [40/72], loss: 0.1883\n",
      "Epoch [5/30], step [50/72], loss: 0.8038\n",
      "Epoch [5/30], step [60/72], loss: 0.3961\n",
      "Epoch [5/30], step [70/72], loss: 0.5819\n",
      "Epoch [6/30], step [10/72], loss: 0.8608\n",
      "Epoch [6/30], step [20/72], loss: 0.6163\n",
      "Epoch [6/30], step [30/72], loss: 0.7178\n",
      "Epoch [6/30], step [40/72], loss: 0.8354\n",
      "Epoch [6/30], step [50/72], loss: 0.7540\n",
      "Epoch [6/30], step [60/72], loss: 0.8125\n",
      "Epoch [6/30], step [70/72], loss: 0.7008\n",
      "Epoch [7/30], step [10/72], loss: 0.6581\n",
      "Epoch [7/30], step [20/72], loss: 0.8636\n",
      "Epoch [7/30], step [30/72], loss: 0.8383\n",
      "Epoch [7/30], step [40/72], loss: 0.5882\n",
      "Epoch [7/30], step [50/72], loss: 0.7034\n",
      "Epoch [7/30], step [60/72], loss: 0.7220\n",
      "Epoch [7/30], step [70/72], loss: 0.8579\n",
      "Epoch [8/30], step [10/72], loss: 0.7735\n",
      "Epoch [8/30], step [20/72], loss: 0.6342\n",
      "Epoch [8/30], step [30/72], loss: 1.2155\n",
      "Epoch [8/30], step [40/72], loss: 0.7251\n",
      "Epoch [8/30], step [50/72], loss: 0.5259\n",
      "Epoch [8/30], step [60/72], loss: 0.6708\n",
      "Epoch [8/30], step [70/72], loss: 0.5248\n",
      "Epoch [9/30], step [10/72], loss: 0.7110\n",
      "Epoch [9/30], step [20/72], loss: 0.5115\n",
      "Epoch [9/30], step [30/72], loss: 0.8716\n",
      "Epoch [9/30], step [40/72], loss: 0.5617\n",
      "Epoch [9/30], step [50/72], loss: 0.7329\n",
      "Epoch [9/30], step [60/72], loss: 0.9152\n",
      "Epoch [9/30], step [70/72], loss: 0.7359\n",
      "Epoch [10/30], step [10/72], loss: 0.6810\n",
      "Epoch [10/30], step [20/72], loss: 0.6032\n",
      "Epoch [10/30], step [30/72], loss: 0.5759\n",
      "Epoch [10/30], step [40/72], loss: 0.5359\n",
      "Epoch [10/30], step [50/72], loss: 0.4490\n",
      "Epoch [10/30], step [60/72], loss: 0.3336\n",
      "Epoch [10/30], step [70/72], loss: 0.4882\n",
      "Epoch [11/30], step [10/72], loss: 0.4051\n",
      "Epoch [11/30], step [20/72], loss: 1.5155\n",
      "Epoch [11/30], step [30/72], loss: 0.6284\n",
      "Epoch [11/30], step [40/72], loss: 0.4536\n",
      "Epoch [11/30], step [50/72], loss: 0.4936\n",
      "Epoch [11/30], step [60/72], loss: 0.7000\n",
      "Epoch [11/30], step [70/72], loss: 0.7415\n",
      "Epoch [12/30], step [10/72], loss: 0.6235\n",
      "Epoch [12/30], step [20/72], loss: 0.7585\n",
      "Epoch [12/30], step [30/72], loss: 0.4930\n",
      "Epoch [12/30], step [40/72], loss: 0.2034\n",
      "Epoch [12/30], step [50/72], loss: 0.7322\n",
      "Epoch [12/30], step [60/72], loss: 0.3940\n",
      "Epoch [12/30], step [70/72], loss: 0.2822\n",
      "Epoch [13/30], step [10/72], loss: 0.8282\n",
      "Epoch [13/30], step [20/72], loss: 0.3882\n",
      "Epoch [13/30], step [30/72], loss: 2.2955\n",
      "Epoch [13/30], step [40/72], loss: 1.1312\n",
      "Epoch [13/30], step [50/72], loss: 0.5499\n",
      "Epoch [13/30], step [60/72], loss: 0.7918\n",
      "Epoch [13/30], step [70/72], loss: 1.2505\n",
      "Epoch [14/30], step [10/72], loss: 0.6774\n",
      "Epoch [14/30], step [20/72], loss: 0.5771\n",
      "Epoch [14/30], step [30/72], loss: 0.6357\n",
      "Epoch [14/30], step [40/72], loss: 0.9892\n",
      "Epoch [14/30], step [50/72], loss: 0.2745\n",
      "Epoch [14/30], step [60/72], loss: 0.0759\n",
      "Epoch [14/30], step [70/72], loss: 0.6656\n",
      "Epoch [15/30], step [10/72], loss: 0.3891\n",
      "Epoch [15/30], step [20/72], loss: 0.3114\n",
      "Epoch [15/30], step [30/72], loss: 0.6045\n",
      "Epoch [15/30], step [40/72], loss: 0.2444\n",
      "Epoch [15/30], step [50/72], loss: 0.1026\n",
      "Epoch [15/30], step [60/72], loss: 0.3640\n",
      "Epoch [15/30], step [70/72], loss: 0.7347\n",
      "Epoch [16/30], step [10/72], loss: 0.1619\n",
      "Epoch [16/30], step [20/72], loss: 0.3429\n",
      "Epoch [16/30], step [30/72], loss: 0.1253\n",
      "Epoch [16/30], step [40/72], loss: 0.7709\n",
      "Epoch [16/30], step [50/72], loss: 0.5381\n",
      "Epoch [16/30], step [60/72], loss: 0.4862\n",
      "Epoch [16/30], step [70/72], loss: 0.2081\n",
      "Epoch [17/30], step [10/72], loss: 1.6281\n",
      "Epoch [17/30], step [20/72], loss: 0.1642\n",
      "Epoch [17/30], step [30/72], loss: 0.2710\n",
      "Epoch [17/30], step [40/72], loss: 0.2291\n",
      "Epoch [17/30], step [50/72], loss: 0.3110\n",
      "Epoch [17/30], step [60/72], loss: 0.0079\n",
      "Epoch [17/30], step [70/72], loss: 0.0565\n",
      "Epoch [18/30], step [10/72], loss: 0.2631\n",
      "Epoch [18/30], step [20/72], loss: 0.0628\n",
      "Epoch [18/30], step [30/72], loss: 0.2895\n",
      "Epoch [18/30], step [40/72], loss: 0.5799\n",
      "Epoch [18/30], step [50/72], loss: 0.0350\n",
      "Epoch [18/30], step [60/72], loss: 0.1065\n",
      "Epoch [18/30], step [70/72], loss: 0.6183\n",
      "Epoch [19/30], step [10/72], loss: 0.0551\n",
      "Epoch [19/30], step [20/72], loss: 0.0631\n",
      "Epoch [19/30], step [30/72], loss: 0.3302\n",
      "Epoch [19/30], step [40/72], loss: 0.0485\n",
      "Epoch [19/30], step [50/72], loss: 0.2553\n",
      "Epoch [19/30], step [60/72], loss: 0.0499\n",
      "Epoch [19/30], step [70/72], loss: 0.0508\n",
      "Epoch [20/30], step [10/72], loss: 0.4088\n",
      "Epoch [20/30], step [20/72], loss: 0.9239\n",
      "Epoch [20/30], step [30/72], loss: 0.5696\n",
      "Epoch [20/30], step [40/72], loss: 0.0693\n",
      "Epoch [20/30], step [50/72], loss: 0.0516\n",
      "Epoch [20/30], step [60/72], loss: 0.0878\n",
      "Epoch [20/30], step [70/72], loss: 0.2418\n",
      "Epoch [21/30], step [10/72], loss: 0.1822\n",
      "Epoch [21/30], step [20/72], loss: 1.1757\n",
      "Epoch [21/30], step [30/72], loss: 0.4965\n",
      "Epoch [21/30], step [40/72], loss: 0.0172\n",
      "Epoch [21/30], step [50/72], loss: 0.4626\n",
      "Epoch [21/30], step [60/72], loss: 0.3424\n",
      "Epoch [21/30], step [70/72], loss: 0.0579\n",
      "Epoch [22/30], step [10/72], loss: 0.8675\n",
      "Epoch [22/30], step [20/72], loss: 0.0753\n",
      "Epoch [22/30], step [30/72], loss: 0.0176\n",
      "Epoch [22/30], step [40/72], loss: 0.0949\n",
      "Epoch [22/30], step [50/72], loss: 0.0639\n",
      "Epoch [22/30], step [60/72], loss: 0.0855\n",
      "Epoch [22/30], step [70/72], loss: 0.0384\n",
      "Epoch [23/30], step [10/72], loss: 0.1814\n",
      "Epoch [23/30], step [20/72], loss: 0.1106\n",
      "Epoch [23/30], step [30/72], loss: 0.0367\n",
      "Epoch [23/30], step [40/72], loss: 0.0048\n",
      "Epoch [23/30], step [50/72], loss: 1.1394\n",
      "Epoch [23/30], step [60/72], loss: 0.0062\n",
      "Epoch [23/30], step [70/72], loss: 0.8978\n",
      "Epoch [24/30], step [10/72], loss: 0.1680\n",
      "Epoch [24/30], step [20/72], loss: 0.5023\n",
      "Epoch [24/30], step [30/72], loss: 0.6460\n",
      "Epoch [24/30], step [40/72], loss: 0.1204\n",
      "Epoch [24/30], step [50/72], loss: 0.1475\n",
      "Epoch [24/30], step [60/72], loss: 0.1281\n",
      "Epoch [24/30], step [70/72], loss: 0.0221\n",
      "Epoch [25/30], step [10/72], loss: 0.0196\n",
      "Epoch [25/30], step [20/72], loss: 0.0793\n",
      "Epoch [25/30], step [30/72], loss: 0.0098\n",
      "Epoch [25/30], step [40/72], loss: 0.6077\n",
      "Epoch [25/30], step [50/72], loss: 0.5075\n",
      "Epoch [25/30], step [60/72], loss: 0.0000\n",
      "Epoch [25/30], step [70/72], loss: 0.0000\n",
      "Epoch [26/30], step [10/72], loss: 0.0027\n",
      "Epoch [26/30], step [20/72], loss: 0.0218\n",
      "Epoch [26/30], step [30/72], loss: 0.0003\n",
      "Epoch [26/30], step [40/72], loss: 0.0624\n",
      "Epoch [26/30], step [50/72], loss: 0.1355\n",
      "Epoch [26/30], step [60/72], loss: 0.0125\n",
      "Epoch [26/30], step [70/72], loss: 0.0492\n",
      "Epoch [27/30], step [10/72], loss: 0.0156\n",
      "Epoch [27/30], step [20/72], loss: 0.1332\n",
      "Epoch [27/30], step [30/72], loss: 0.0364\n",
      "Epoch [27/30], step [40/72], loss: 0.0680\n",
      "Epoch [27/30], step [50/72], loss: 0.0036\n",
      "Epoch [27/30], step [60/72], loss: 0.0002\n",
      "Epoch [27/30], step [70/72], loss: 0.0040\n",
      "Epoch [28/30], step [10/72], loss: 0.0041\n",
      "Epoch [28/30], step [20/72], loss: 0.0004\n",
      "Epoch [28/30], step [30/72], loss: 0.0000\n",
      "Epoch [28/30], step [40/72], loss: 0.2826\n",
      "Epoch [28/30], step [50/72], loss: 0.0000\n",
      "Epoch [28/30], step [60/72], loss: 0.0010\n",
      "Epoch [28/30], step [70/72], loss: 0.0020\n",
      "Epoch [29/30], step [10/72], loss: 0.0058\n",
      "Epoch [29/30], step [20/72], loss: 0.0000\n",
      "Epoch [29/30], step [30/72], loss: 0.0017\n",
      "Epoch [29/30], step [40/72], loss: 0.1436\n",
      "Epoch [29/30], step [50/72], loss: 0.0017\n",
      "Epoch [29/30], step [60/72], loss: 0.0001\n",
      "Epoch [29/30], step [70/72], loss: 0.0082\n",
      "Epoch [30/30], step [10/72], loss: 0.0014\n",
      "Epoch [30/30], step [20/72], loss: 0.9561\n",
      "Epoch [30/30], step [30/72], loss: 1.9210\n",
      "Epoch [30/30], step [40/72], loss: 0.0092\n",
      "Epoch [30/30], step [50/72], loss: 0.1388\n",
      "Epoch [30/30], step [60/72], loss: 0.0060\n",
      "Epoch [30/30], step [70/72], loss: 0.2304\n"
     ]
    }
   ],
   "source": [
    "num_epoch = 30\n",
    "step_count = len(train_loader)\n",
    "loss_function = nn.BCELoss()\n",
    "losses = list()\n",
    "optimizer = optim.Adam(model.parameters(), lr=0.001)\n",
    "\n",
    "for epoch in range(num_epoch):\n",
    "    \n",
    "    epoch_loss = 0\n",
    "    \n",
    "    for i, sample in enumerate(train_loader):\n",
    "        \n",
    "        image = sample['image'].to(device, dtype=torch.float)\n",
    "        target = sample['target'].to(device, dtype=torch.float)\n",
    "        target = target.view(target.shape[0], 1)\n",
    "        \n",
    "        # Reset gradiant\n",
    "        optimizer.zero_grad()\n",
    "        \n",
    "        # Forward pass\n",
    "        pred = model(image)\n",
    "        \n",
    "        # Compute loss\n",
    "        loss = loss_function(pred, target)\n",
    "        epoch_loss += loss\n",
    "        \n",
    "        # Backprop\n",
    "        loss.backward()\n",
    "        optimizer.step()\n",
    "        \n",
    "        del image\n",
    "        del target\n",
    "        del pred\n",
    "        del sample\n",
    "        \n",
    "        # Debug\n",
    "        if((i+1) % 10 == 0):\n",
    "            print(\n",
    "                        f\"Epoch [{epoch + 1}/{num_epoch}]\"\n",
    "                        f\", step [{i + 1}/{step_count}]\"\n",
    "                        f\", loss: {loss.item():.4f}\"\n",
    "                    )\n",
    "            \n",
    "    losses.append(epoch_loss)"
   ]
  },
  {
   "cell_type": "code",
   "execution_count": 8,
   "metadata": {},
   "outputs": [],
   "source": [
    "# Save model \n",
    "torch.save(model.state_dict(), './models/model_v4.h5')\n",
    "del model"
   ]
  },
  {
   "cell_type": "markdown",
   "metadata": {},
   "source": [
    "## Test the model"
   ]
  },
  {
   "cell_type": "code",
   "execution_count": 7,
   "metadata": {},
   "outputs": [
    {
     "data": {
      "text/plain": [
       "ModelV4(\n",
       "  (conv1): Conv2d(150, 256, kernel_size=(5, 5), stride=(1, 1))\n",
       "  (bn1): BatchNorm2d(256, eps=1e-05, momentum=0.1, affine=True, track_running_stats=True)\n",
       "  (conv2): Conv2d(256, 512, kernel_size=(3, 3), stride=(1, 1))\n",
       "  (bn2): BatchNorm2d(512, eps=1e-05, momentum=0.1, affine=True, track_running_stats=True)\n",
       "  (conv3): Conv2d(512, 256, kernel_size=(3, 3), stride=(1, 1))\n",
       "  (bn3): BatchNorm2d(256, eps=1e-05, momentum=0.1, affine=True, track_running_stats=True)\n",
       "  (conv4): Conv2d(256, 64, kernel_size=(3, 3), stride=(1, 1))\n",
       "  (bn4): BatchNorm2d(64, eps=1e-05, momentum=0.1, affine=True, track_running_stats=True)\n",
       "  (pool): MaxPool2d(kernel_size=2, stride=2, padding=0, dilation=1, ceil_mode=False)\n",
       "  (fc1): Linear(in_features=12544, out_features=512, bias=True)\n",
       "  (fc2): Linear(in_features=512, out_features=128, bias=True)\n",
       "  (fc3): Linear(in_features=128, out_features=1, bias=True)\n",
       "  (dropout): Dropout(p=0.5, inplace=False)\n",
       "  (sigmoid): Sigmoid()\n",
       ")"
      ]
     },
     "execution_count": 7,
     "metadata": {},
     "output_type": "execute_result"
    }
   ],
   "source": [
    "# Load model for evaluation\n",
    "trained_model = ModelV4()\n",
    "trained_model.load_state_dict(torch.load('./models/model_v4.h5'))\n",
    "trained_model.to(device)"
   ]
  },
  {
   "cell_type": "code",
   "execution_count": 10,
   "metadata": {},
   "outputs": [
    {
     "data": {
      "image/png": "[encoded data removed]",
      "text/plain": [
       "<Figure size 432x288 with 1 Axes>"
      ]
     },
     "metadata": {
      "needs_background": "light"
     },
     "output_type": "display_data"
    }
   ],
   "source": [
    "import matplotlib.pyplot as plt\n",
    "\n",
    "epochs = list(range(1, num_epoch+1))\n",
    "mean_losses = list(map(lambda x: x/step_count, losses))\n",
    "plt.plot(epochs, mean_losses)\n",
    "plt.xlabel('Epoch')\n",
    "plt.ylabel('Average loss')\n",
    "plt.grid()\n",
    "plt.savefig('Loss model v4 study level.png')\n",
    "plt.show()"
   ]
  },
  {
   "cell_type": "code",
   "execution_count": 27,
   "metadata": {},
   "outputs": [],
   "source": [
    "correct = 0\n",
    "total = 0\n",
    "with torch.no_grad():\n",
    "    for sample in test_loader:\n",
    "        \n",
    "        images = sample['image'].to(device, dtype=torch.float)        \n",
    "        targets = sample['target'].to(device)\n",
    "        \n",
    "        outputs = trained_model(images)\n",
    "        class_0 = torch.full((targets.size(0),1), 0.5).to(device)\n",
    "        outputs = torch.cat((class_0, outputs), 1)\n",
    "\n",
    "        _, pred = torch.max(outputs.data, 1)\n",
    "        \n",
    "        total += targets.size(0)\n",
    "        correct += (pred == targets).sum().item()"
   ]
  },
  {
   "cell_type": "code",
   "execution_count": 28,
   "metadata": {},
   "outputs": [
    {
     "name": "stdout",
     "output_type": "stream",
     "text": [
      "Accuracy of the network on the 36 test studies: 88.89\n"
     ]
    }
   ],
   "source": [
    "print(f'Accuracy of the network on the {total} test studies: {100 * correct / total:.2f}')"
   ]
  }
 ],
 "metadata": {
  "kernelspec": {
   "display_name": "Python 3",
   "language": "python",
   "name": "python3"
  },
  "language_info": {
   "codemirror_mode": {
    "name": "ipython",
    "version": 3
   },
   "file_extension": ".py",
   "mimetype": "text/x-python",
   "name": "python",
   "nbconvert_exporter": "python",
   "pygments_lexer": "ipython3",
   "version": "3.8.3"
  }
 },
 "nbformat": 4,
 "nbformat_minor": 4
}
