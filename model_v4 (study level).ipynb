{
 "cells": [
  {
   "cell_type": "markdown",
   "metadata": {},
   "source": [
    "# Fourth model \n",
    "\n",
    "This model will try to predict wether pe is present or not on a full image (RGB level)"
   ]
  },
  {
   "cell_type": "markdown",
   "metadata": {},
   "source": [
    "## Imports"
   ]
  },
  {
   "cell_type": "code",
   "execution_count": 1,
   "metadata": {},
   "outputs": [],
   "source": [
    "import numpy as np\n",
    "from balance import *\n",
    "from torchsummary import summary"
   ]
  },
  {
   "cell_type": "code",
   "execution_count": 2,
   "metadata": {},
   "outputs": [
    {
     "name": "stdout",
     "output_type": "stream",
     "text": [
      "PyTorch version: 1.7.1\n",
      "GPU found :)\n"
     ]
    }
   ],
   "source": [
    "import torch\n",
    "torch.cuda.empty_cache()\n",
    "\n",
    "print(f'PyTorch version: {torch.__version__}')\n",
    "print(\"GPU found :)\" if torch.cuda.is_available() else \"No GPU :(\")\n",
    "\n",
    "# Device configuration\n",
    "device = torch.device('cuda' if torch.cuda.is_available() else 'cpu')\n",
    "\n",
    "import torch.nn as nn\n",
    "import torch.nn.functional as F\n",
    "import torch.optim as optim\n",
    "from torch.utils.data import DataLoader"
   ]
  },
  {
   "cell_type": "markdown",
   "metadata": {},
   "source": [
    "# Load datasets"
   ]
  },
  {
   "cell_type": "code",
   "execution_count": 26,
   "metadata": {},
   "outputs": [
    {
     "ename": "KeyError",
     "evalue": "229",
     "output_type": "error",
     "traceback": [
      "\u001b[0;31m---------------------------------------------------------------------------\u001b[0m",
      "\u001b[0;31mKeyError\u001b[0m                                  Traceback (most recent call last)",
      "\u001b[0;32m<ipython-input-26-998d77751d8f>\u001b[0m in \u001b[0;36m<module>\u001b[0;34m\u001b[0m\n\u001b[1;32m      2\u001b[0m \u001b[0mnb_images\u001b[0m \u001b[0;34m=\u001b[0m \u001b[0;36m50\u001b[0m\u001b[0;34m\u001b[0m\u001b[0;34m\u001b[0m\u001b[0m\n\u001b[1;32m      3\u001b[0m \u001b[0;34m\u001b[0m\u001b[0m\n\u001b[0;32m----> 4\u001b[0;31m \u001b[0msizes\u001b[0m \u001b[0;34m=\u001b[0m \u001b[0mlist\u001b[0m\u001b[0;34m(\u001b[0m\u001b[0mmap\u001b[0m\u001b[0;34m(\u001b[0m\u001b[0;32mlambda\u001b[0m \u001b[0mx\u001b[0m\u001b[0;34m:\u001b[0m \u001b[0mx\u001b[0m\u001b[0;34m[\u001b[0m\u001b[0;34m'image'\u001b[0m\u001b[0;34m]\u001b[0m\u001b[0;34m.\u001b[0m\u001b[0mshape\u001b[0m\u001b[0;34m,\u001b[0m \u001b[0mmulti_image_dataset\u001b[0m\u001b[0;34m)\u001b[0m\u001b[0;34m)\u001b[0m\u001b[0;34m\u001b[0m\u001b[0;34m\u001b[0m\u001b[0m\n\u001b[0m\u001b[1;32m      5\u001b[0m \u001b[0mprint\u001b[0m\u001b[0;34m(\u001b[0m\u001b[0mset\u001b[0m\u001b[0;34m(\u001b[0m\u001b[0msizes\u001b[0m\u001b[0;34m)\u001b[0m\u001b[0;34m)\u001b[0m\u001b[0;34m\u001b[0m\u001b[0;34m\u001b[0m\u001b[0m\n",
      "\u001b[0;32m~/Documents/Option_IA/PFE/kaggle-pulmonary-embolism-detection/multi_image_dataset.py\u001b[0m in \u001b[0;36m__getitem__\u001b[0;34m(self, index)\u001b[0m\n\u001b[1;32m     32\u001b[0m \u001b[0;34m\u001b[0m\u001b[0m\n\u001b[1;32m     33\u001b[0m     \u001b[0;32mdef\u001b[0m \u001b[0minit_sample\u001b[0m\u001b[0;34m(\u001b[0m\u001b[0mself\u001b[0m\u001b[0;34m,\u001b[0m \u001b[0mindex\u001b[0m\u001b[0;34m)\u001b[0m\u001b[0;34m:\u001b[0m\u001b[0;34m\u001b[0m\u001b[0;34m\u001b[0m\u001b[0m\n\u001b[0;32m---> 34\u001b[0;31m \u001b[0;34m\u001b[0m\u001b[0m\n\u001b[0m\u001b[1;32m     35\u001b[0m         \u001b[0mstudy\u001b[0m \u001b[0;34m=\u001b[0m \u001b[0mself\u001b[0m\u001b[0;34m.\u001b[0m\u001b[0mstudies\u001b[0m\u001b[0;34m[\u001b[0m\u001b[0mindex\u001b[0m\u001b[0;34m]\u001b[0m\u001b[0;34m\u001b[0m\u001b[0;34m\u001b[0m\u001b[0m\n\u001b[1;32m     36\u001b[0m         \u001b[0mimages\u001b[0m \u001b[0;34m=\u001b[0m \u001b[0mself\u001b[0m\u001b[0;34m.\u001b[0m\u001b[0mannotations\u001b[0m\u001b[0;34m.\u001b[0m\u001b[0mloc\u001b[0m\u001b[0;34m[\u001b[0m\u001b[0mself\u001b[0m\u001b[0;34m.\u001b[0m\u001b[0mannotations\u001b[0m\u001b[0;34m[\u001b[0m\u001b[0;34m'StudyInstanceUID'\u001b[0m\u001b[0;34m]\u001b[0m \u001b[0;34m==\u001b[0m \u001b[0mstudy\u001b[0m\u001b[0;34m]\u001b[0m\u001b[0;34m[\u001b[0m\u001b[0;34m[\u001b[0m\u001b[0;34m'SOPInstanceUID'\u001b[0m\u001b[0;34m,\u001b[0m\u001b[0;34m'pe_present_on_image'\u001b[0m\u001b[0;34m]\u001b[0m\u001b[0;34m]\u001b[0m\u001b[0;34m\u001b[0m\u001b[0;34m\u001b[0m\u001b[0m\n",
      "\u001b[0;31mKeyError\u001b[0m: 229"
     ]
    }
   ],
   "source": [
    "multi_image_dataset = torch.load('datasets/multi_image_dataset.pt')\n",
    "nb_images = 50\n",
    "\n",
    "sizes = list(map(lambda x: x['image'].shape, multi_image_dataset))\n",
    "print(set(sizes))"
   ]
  },
  {
   "cell_type": "markdown",
   "metadata": {},
   "source": [
    "## CNN"
   ]
  },
  {
   "cell_type": "code",
   "execution_count": 4,
   "metadata": {},
   "outputs": [],
   "source": [
    "class ModelV4(nn.Module):\n",
    "    \n",
    "    def __init__(self, input_channels=3*nb_images):\n",
    "        \"\"\"Convnet with 4 convolution layer + pooling + BN, with 3 fully connected at the end\"\"\"\n",
    "        super().__init__()\n",
    "        \n",
    "        self.conv1 = nn.Conv2d(in_channels=input_channels, out_channels=256, kernel_size=5)\n",
    "        self.bn1 = nn.BatchNorm2d(256)\n",
    "        self.conv2 = nn.Conv2d(256, 512, 3)\n",
    "        self.bn2 = nn.BatchNorm2d(512)\n",
    "        self.conv3 = nn.Conv2d(512, 256, 3)\n",
    "        self.bn3 = nn.BatchNorm2d(256)\n",
    "        self.conv4 = nn.Conv2d(256, 64, 3)\n",
    "        self.bn4 = nn.BatchNorm2d(64)\n",
    "        \n",
    "        self.pool = nn.MaxPool2d(kernel_size=2)\n",
    "        \n",
    "        self.fc1 = nn.Linear(64*14*14 , 512)\n",
    "        self.fc2 = nn.Linear(512, 128)\n",
    "        self.fc3 = nn.Linear(128, 1)\n",
    "        \n",
    "        self.dropout = nn.Dropout(0.5)\n",
    "        \n",
    "        self.sigmoid = nn.Sigmoid()\n",
    "        \n",
    "        \n",
    "    def forward(self, x):\n",
    "        \n",
    "        x = self.pool(F.relu(self.bn1(self.conv1(x))))\n",
    "        x = self.pool(F.relu(self.bn2(self.conv2(x))))\n",
    "        x = self.pool(F.relu(self.bn3(self.conv3(x))))\n",
    "        x = self.pool(F.relu(self.bn4(self.conv4(x))))\n",
    "        x = x.view(-1, 64*14*14) # Flatten\n",
    "        x = self.dropout(x)\n",
    "        x = F.relu(self.fc1(x))\n",
    "        x = self.dropout(x)\n",
    "        x = F.relu(self.fc2(x))\n",
    "        \n",
    "        # Binary classification\n",
    "        out = self.sigmoid(self.fc3(x))\n",
    "        \n",
    "        return out"
   ]
  },
  {
   "cell_type": "code",
   "execution_count": 5,
   "metadata": {},
   "outputs": [
    {
     "name": "stdout",
     "output_type": "stream",
     "text": [
      "----------------------------------------------------------------\n",
      "        Layer (type)               Output Shape         Param #\n",
      "================================================================\n",
      "            Conv2d-1        [-1, 256, 252, 252]         960,256\n",
      "       BatchNorm2d-2        [-1, 256, 252, 252]             512\n",
      "         MaxPool2d-3        [-1, 256, 126, 126]               0\n",
      "            Conv2d-4        [-1, 512, 124, 124]       1,180,160\n",
      "       BatchNorm2d-5        [-1, 512, 124, 124]           1,024\n",
      "         MaxPool2d-6          [-1, 512, 62, 62]               0\n",
      "            Conv2d-7          [-1, 256, 60, 60]       1,179,904\n",
      "       BatchNorm2d-8          [-1, 256, 60, 60]             512\n",
      "         MaxPool2d-9          [-1, 256, 30, 30]               0\n",
      "           Conv2d-10           [-1, 64, 28, 28]         147,520\n",
      "      BatchNorm2d-11           [-1, 64, 28, 28]             128\n",
      "        MaxPool2d-12           [-1, 64, 14, 14]               0\n",
      "          Dropout-13                [-1, 12544]               0\n",
      "           Linear-14                  [-1, 512]       6,423,040\n",
      "          Dropout-15                  [-1, 512]               0\n",
      "           Linear-16                  [-1, 128]          65,664\n",
      "           Linear-17                    [-1, 1]             129\n",
      "          Sigmoid-18                    [-1, 1]               0\n",
      "================================================================\n",
      "Total params: 9,958,849\n",
      "Trainable params: 9,958,849\n",
      "Non-trainable params: 0\n",
      "----------------------------------------------------------------\n",
      "Input size (MB): 37.50\n",
      "Forward/backward pass size (MB): 431.00\n",
      "Params size (MB): 37.99\n",
      "Estimated Total Size (MB): 506.49\n",
      "----------------------------------------------------------------\n"
     ]
    }
   ],
   "source": [
    "model = ModelV4().to(device)\n",
    "summary(model, (150, 256, 256))"
   ]
  },
  {
   "cell_type": "markdown",
   "metadata": {},
   "source": [
    "## Split data into train and test"
   ]
  },
  {
   "cell_type": "code",
   "execution_count": null,
   "metadata": {},
   "outputs": [],
   "source": [
    "batch_size = 1\n",
    "ratio=0.2\n",
    "\n",
    "train_loader, test_loader = train_test_split(multi_image_dataset, ratio, batch_size)"
   ]
  },
  {
   "cell_type": "markdown",
   "metadata": {},
   "source": [
    "## Model Training"
   ]
  },
  {
   "cell_type": "code",
   "execution_count": 7,
   "metadata": {},
   "outputs": [
    {
     "name": "stdout",
     "output_type": "stream",
     "text": [
      "Epoch [1/20], step [10/46], loss: 0.0005\n",
      "Epoch [1/20], step [20/46], loss: 0.0585\n",
      "Epoch [1/20], step [30/46], loss: 0.3728\n",
      "Epoch [1/20], step [40/46], loss: 0.7594\n",
      "Epoch [2/20], step [10/46], loss: 0.0222\n",
      "Epoch [2/20], step [20/46], loss: 0.1368\n",
      "Epoch [2/20], step [30/46], loss: 1.9851\n",
      "Epoch [2/20], step [40/46], loss: 0.8779\n",
      "Epoch [3/20], step [10/46], loss: 1.6825\n",
      "Epoch [3/20], step [20/46], loss: 0.0988\n",
      "Epoch [3/20], step [30/46], loss: 0.2381\n",
      "Epoch [3/20], step [40/46], loss: 0.5448\n",
      "Epoch [4/20], step [10/46], loss: 0.5356\n",
      "Epoch [4/20], step [20/46], loss: 0.1542\n",
      "Epoch [4/20], step [30/46], loss: 1.2493\n",
      "Epoch [4/20], step [40/46], loss: 0.4328\n",
      "Epoch [5/20], step [10/46], loss: 1.0519\n",
      "Epoch [5/20], step [20/46], loss: 0.1935\n",
      "Epoch [5/20], step [30/46], loss: 0.3286\n",
      "Epoch [5/20], step [40/46], loss: 0.5755\n",
      "Epoch [6/20], step [10/46], loss: 0.3675\n",
      "Epoch [6/20], step [20/46], loss: 0.4972\n",
      "Epoch [6/20], step [30/46], loss: 1.1519\n",
      "Epoch [6/20], step [40/46], loss: 0.6756\n",
      "Epoch [7/20], step [10/46], loss: 0.5439\n",
      "Epoch [7/20], step [20/46], loss: 0.6780\n",
      "Epoch [7/20], step [30/46], loss: 0.7027\n",
      "Epoch [7/20], step [40/46], loss: 0.6782\n",
      "Epoch [8/20], step [10/46], loss: 0.6908\n",
      "Epoch [8/20], step [20/46], loss: 0.6180\n",
      "Epoch [8/20], step [30/46], loss: 0.7262\n",
      "Epoch [8/20], step [40/46], loss: 0.7714\n",
      "Epoch [9/20], step [10/46], loss: 0.6914\n",
      "Epoch [9/20], step [20/46], loss: 0.9944\n",
      "Epoch [9/20], step [30/46], loss: 0.5975\n",
      "Epoch [9/20], step [40/46], loss: 0.3679\n",
      "Epoch [10/20], step [10/46], loss: 0.2415\n",
      "Epoch [10/20], step [20/46], loss: 0.4955\n",
      "Epoch [10/20], step [30/46], loss: 1.3919\n",
      "Epoch [10/20], step [40/46], loss: 0.3787\n",
      "Epoch [11/20], step [10/46], loss: 0.8047\n",
      "Epoch [11/20], step [20/46], loss: 0.9086\n",
      "Epoch [11/20], step [30/46], loss: 0.6581\n",
      "Epoch [11/20], step [40/46], loss: 0.4795\n",
      "Epoch [12/20], step [10/46], loss: 0.5367\n",
      "Epoch [12/20], step [20/46], loss: 0.1777\n",
      "Epoch [12/20], step [30/46], loss: 1.5160\n",
      "Epoch [12/20], step [40/46], loss: 0.8804\n",
      "Epoch [13/20], step [10/46], loss: 0.6708\n",
      "Epoch [13/20], step [20/46], loss: 0.5065\n",
      "Epoch [13/20], step [30/46], loss: 0.8738\n",
      "Epoch [13/20], step [40/46], loss: 0.0881\n",
      "Epoch [14/20], step [10/46], loss: 1.8814\n",
      "Epoch [14/20], step [20/46], loss: 0.8624\n",
      "Epoch [14/20], step [30/46], loss: 0.8637\n",
      "Epoch [14/20], step [40/46], loss: 0.4246\n",
      "Epoch [15/20], step [10/46], loss: 0.3239\n",
      "Epoch [15/20], step [20/46], loss: 0.0736\n",
      "Epoch [15/20], step [30/46], loss: 0.0519\n",
      "Epoch [15/20], step [40/46], loss: 0.2189\n",
      "Epoch [16/20], step [10/46], loss: 0.7589\n",
      "Epoch [16/20], step [20/46], loss: 1.1664\n",
      "Epoch [16/20], step [30/46], loss: 0.3121\n",
      "Epoch [16/20], step [40/46], loss: 0.3255\n",
      "Epoch [17/20], step [10/46], loss: 0.1428\n",
      "Epoch [17/20], step [20/46], loss: 0.5280\n",
      "Epoch [17/20], step [30/46], loss: 0.0989\n",
      "Epoch [17/20], step [40/46], loss: 0.3952\n",
      "Epoch [18/20], step [10/46], loss: 0.1956\n",
      "Epoch [18/20], step [20/46], loss: 0.7069\n",
      "Epoch [18/20], step [30/46], loss: 0.1544\n",
      "Epoch [18/20], step [40/46], loss: 0.0007\n",
      "Epoch [19/20], step [10/46], loss: 0.0002\n",
      "Epoch [19/20], step [20/46], loss: 0.0015\n",
      "Epoch [19/20], step [30/46], loss: 0.0000\n",
      "Epoch [19/20], step [40/46], loss: 4.3311\n",
      "Epoch [20/20], step [10/46], loss: 0.4696\n",
      "Epoch [20/20], step [20/46], loss: 0.0224\n",
      "Epoch [20/20], step [30/46], loss: 0.0487\n",
      "Epoch [20/20], step [40/46], loss: 0.0792\n"
     ]
    }
   ],
   "source": [
    "num_epoch = 20\n",
    "step_count = len(train_loader)\n",
    "loss_function = nn.BCELoss()\n",
    "losses = list()\n",
    "optimizer = optim.Adam(model.parameters(), lr=0.001)\n",
    "\n",
    "for epoch in range(num_epoch):\n",
    "    \n",
    "    epoch_loss = 0\n",
    "    \n",
    "    for i, sample in enumerate(train_loader):\n",
    "        \n",
    "        image = sample['image'].to(device, dtype=torch.float)\n",
    "        target = sample['target'].to(device, dtype=torch.float)\n",
    "        target = target.view(target.shape[0], 1)\n",
    "        \n",
    "        # Reset gradiant\n",
    "        optimizer.zero_grad()\n",
    "        \n",
    "        # Forward pass\n",
    "        pred = model(image)\n",
    "        \n",
    "        # Compute loss\n",
    "        loss = loss_function(pred, target)\n",
    "        epoch_loss += loss\n",
    "        \n",
    "        # Backprop\n",
    "        loss.backward()\n",
    "        optimizer.step()\n",
    "        \n",
    "        del image\n",
    "        del target\n",
    "        del pred\n",
    "        del sample\n",
    "        \n",
    "        # Debug\n",
    "        if((i+1) % 10 == 0):\n",
    "            print(\n",
    "                        f\"Epoch [{epoch + 1}/{num_epoch}]\"\n",
    "                        f\", step [{i + 1}/{step_count}]\"\n",
    "                        f\", loss: {loss.item():.4f}\"\n",
    "                    )\n",
    "            \n",
    "    losses.append(epoch_loss)"
   ]
  },
  {
   "cell_type": "code",
   "execution_count": 8,
   "metadata": {},
   "outputs": [],
   "source": [
    "# Save model \n",
    "torch.save(model.state_dict(), './models/model_v4.h5')\n",
    "del model"
   ]
  },
  {
   "cell_type": "markdown",
   "metadata": {},
   "source": [
    "## Test the model"
   ]
  },
  {
   "cell_type": "code",
   "execution_count": 10,
   "metadata": {},
   "outputs": [
    {
     "data": {
      "text/plain": [
       "ModelV4(\n",
       "  (conv1): Conv2d(150, 256, kernel_size=(5, 5), stride=(1, 1))\n",
       "  (bn1): BatchNorm2d(256, eps=1e-05, momentum=0.1, affine=True, track_running_stats=True)\n",
       "  (conv2): Conv2d(256, 512, kernel_size=(3, 3), stride=(1, 1))\n",
       "  (bn2): BatchNorm2d(512, eps=1e-05, momentum=0.1, affine=True, track_running_stats=True)\n",
       "  (conv3): Conv2d(512, 256, kernel_size=(3, 3), stride=(1, 1))\n",
       "  (bn3): BatchNorm2d(256, eps=1e-05, momentum=0.1, affine=True, track_running_stats=True)\n",
       "  (conv4): Conv2d(256, 64, kernel_size=(3, 3), stride=(1, 1))\n",
       "  (bn4): BatchNorm2d(64, eps=1e-05, momentum=0.1, affine=True, track_running_stats=True)\n",
       "  (pool): MaxPool2d(kernel_size=2, stride=2, padding=0, dilation=1, ceil_mode=False)\n",
       "  (fc1): Linear(in_features=12544, out_features=512, bias=True)\n",
       "  (fc2): Linear(in_features=512, out_features=128, bias=True)\n",
       "  (fc3): Linear(in_features=128, out_features=1, bias=True)\n",
       "  (dropout): Dropout(p=0.5, inplace=False)\n",
       "  (sigmoid): Sigmoid()\n",
       ")"
      ]
     },
     "execution_count": 10,
     "metadata": {},
     "output_type": "execute_result"
    }
   ],
   "source": [
    "# Load model for evaluation\n",
    "trained_model = ModelV4()\n",
    "trained_model.load_state_dict(torch.load('./models/model_v4.h5'))\n",
    "trained_model.to(device)"
   ]
  },
  {
   "cell_type": "code",
   "execution_count": 13,
   "metadata": {},
   "outputs": [
    {
     "data": {
      "image/png": "[encoded data removed]",
      "text/plain": [
       "<Figure size 432x288 with 1 Axes>"
      ]
     },
     "metadata": {
      "needs_background": "light"
     },
     "output_type": "display_data"
    }
   ],
   "source": [
    "import matplotlib.pyplot as plt\n",
    "\n",
    "epochs = list(range(1, num_epoch+1))\n",
    "mean_losses = list(map(lambda x: x/step_count, losses))\n",
    "plt.plot(epochs, mean_losses)\n",
    "plt.xlabel('Epoch')\n",
    "plt.ylabel('Average loss')\n",
    "plt.grid()\n",
    "plt.savefig('Loss model v4 study level.png')\n",
    "plt.show()"
   ]
  },
  {
   "cell_type": "code",
   "execution_count": 23,
   "metadata": {},
   "outputs": [],
   "source": [
    "correct = 0\n",
    "with torch.no_grad():\n",
    "    for sample in test_loader:\n",
    "        \n",
    "        image = sample['image'].to(device, dtype=torch.float)        \n",
    "        \n",
    "        target = sample['target'].to(device)\n",
    "        \n",
    "        output = trained_model(image)\n",
    "\n",
    "        pred = 1 if output[0][0] > 0.5 else 0\n",
    "\n",
    "        correct += (pred == target[0])"
   ]
  },
  {
   "cell_type": "code",
   "execution_count": 24,
   "metadata": {},
   "outputs": [
    {
     "name": "stdout",
     "output_type": "stream",
     "text": [
      "Accuracy of the network on the 46 test studies: 71.74\n"
     ]
    }
   ],
   "source": [
    "total = len(test_loader)\n",
    "print(f'Accuracy of the network on the {total} test studies: {100 * correct / total:.2f}')"
   ]
  }
 ],
 "metadata": {
  "kernelspec": {
   "display_name": "Python 3",
   "language": "python",
   "name": "python3"
  },
  "language_info": {
   "codemirror_mode": {
    "name": "ipython",
    "version": 3
   },
   "file_extension": ".py",
   "mimetype": "text/x-python",
   "name": "python",
   "nbconvert_exporter": "python",
   "pygments_lexer": "ipython3",
   "version": "3.8.3"
  }
 },
 "nbformat": 4,
 "nbformat_minor": 4
}
