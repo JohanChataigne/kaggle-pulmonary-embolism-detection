{
 "metadata": {
  "language_info": {
   "codemirror_mode": {
    "name": "ipython",
    "version": 3
   },
   "file_extension": ".py",
   "mimetype": "text/x-python",
   "name": "python",
   "nbconvert_exporter": "python",
   "pygments_lexer": "ipython3",
   "version": "3.8.5-final"
  },
  "orig_nbformat": 2,
  "kernelspec": {
   "name": "Python 3.8.5 64-bit",
   "display_name": "Python 3.8.5 64-bit",
   "metadata": {
    "interpreter": {
     "hash": "916dbcbb3f70747c44a77c7bcd40155683ae19c65e1c03b4aa3499c5328201f1"
    }
   }
  }
 },
 "nbformat": 4,
 "nbformat_minor": 2,
 "cells": [
  {
   "cell_type": "code",
   "execution_count": 1,
   "metadata": {},
   "outputs": [],
   "source": [
    "import numpy as np\n",
    "import pandas as pd\n",
    "import os\n",
    "import matplotlib\n",
    "import matplotlib.pyplot as plt\n",
    "import matplotlib.image as mpllimg\n",
    "import seaborn as sns"
   ]
  },
  {
   "cell_type": "code",
   "execution_count": 2,
   "metadata": {},
   "outputs": [],
   "source": [
    "# Setup plots\n",
    "%matplotlib inline\n",
    "plt.rcParams['figure.figsize'] = 10, 8\n",
    "%config InlineBackend.figure_format = 'retina'\n",
    "sns.set()"
   ]
  },
  {
   "cell_type": "code",
   "execution_count": 3,
   "metadata": {},
   "outputs": [
    {
     "output_type": "stream",
     "name": "stdout",
     "text": [
      "Train shape: (1790594, 17)\nTest shape: (146853, 3)\n"
     ]
    }
   ],
   "source": [
    "# Load colums in dataframes for each dataset\n",
    "df_train = pd.read_csv('../train.csv')\n",
    "df_test = pd.read_csv('../test.csv')\n",
    "\n",
    "print(f\"Train shape: {df_train.shape}\")\n",
    "print(f\"Test shape: {df_test.shape}\")"
   ]
  },
  {
   "cell_type": "code",
   "execution_count": 4,
   "metadata": {},
   "outputs": [],
   "source": [
    "# Builds the list of images IDs available in the given directory\n",
    "def listAvailableImages(directory, extension):\n",
    "    return list(map(lambda x: x.split(extension)[0], os.listdir(directory)))\n",
    "\n",
    "\n",
    "available_images = listAvailableImages('../images', '.jpg')"
   ]
  },
  {
   "cell_type": "code",
   "execution_count": 5,
   "metadata": {},
   "outputs": [
    {
     "output_type": "execute_result",
     "data": {
      "text/plain": [
       "      StudyInstanceUID SeriesInstanceUID SOPInstanceUID  pe_present_on_image  \\\n",
       "0         6897fa9de148      2bfbb7fd2e8b   c0f3cb036d06                    0   \n",
       "1         6897fa9de148      2bfbb7fd2e8b   f57ffd3883b6                    0   \n",
       "2         6897fa9de148      2bfbb7fd2e8b   41220fda34a3                    0   \n",
       "3         6897fa9de148      2bfbb7fd2e8b   13b685b4b14f                    0   \n",
       "4         6897fa9de148      2bfbb7fd2e8b   be0b7524ffb4                    0   \n",
       "...                ...               ...            ...                  ...   \n",
       "88507     9934197d1d7d      16f3c3d9851d   9a899e0be9a6                    0   \n",
       "88508     9934197d1d7d      16f3c3d9851d   996873b9192b                    0   \n",
       "88509     9934197d1d7d      16f3c3d9851d   f3d335a3fd4e                    0   \n",
       "88510     9934197d1d7d      16f3c3d9851d   1144e3048221                    0   \n",
       "88511     9934197d1d7d      16f3c3d9851d   4fc9a8f74f71                    0   \n",
       "\n",
       "       negative_exam_for_pe  qa_motion  qa_contrast  flow_artifact  \\\n",
       "0                         0          0            0              0   \n",
       "1                         0          0            0              0   \n",
       "2                         0          0            0              0   \n",
       "3                         0          0            0              0   \n",
       "4                         0          0            0              0   \n",
       "...                     ...        ...          ...            ...   \n",
       "88507                     1          0            0              0   \n",
       "88508                     1          0            0              0   \n",
       "88509                     1          0            0              0   \n",
       "88510                     1          0            0              0   \n",
       "88511                     1          0            0              0   \n",
       "\n",
       "       rv_lv_ratio_gte_1  rv_lv_ratio_lt_1  leftsided_pe  chronic_pe  \\\n",
       "0                      0                 1             1           0   \n",
       "1                      0                 1             1           0   \n",
       "2                      0                 1             1           0   \n",
       "3                      0                 1             1           0   \n",
       "4                      0                 1             1           0   \n",
       "...                  ...               ...           ...         ...   \n",
       "88507                  0                 0             0           0   \n",
       "88508                  0                 0             0           0   \n",
       "88509                  0                 0             0           0   \n",
       "88510                  0                 0             0           0   \n",
       "88511                  0                 0             0           0   \n",
       "\n",
       "       true_filling_defect_not_pe  rightsided_pe  acute_and_chronic_pe  \\\n",
       "0                               0              1                     0   \n",
       "1                               0              1                     0   \n",
       "2                               0              1                     0   \n",
       "3                               0              1                     0   \n",
       "4                               0              1                     0   \n",
       "...                           ...            ...                   ...   \n",
       "88507                           0              0                     0   \n",
       "88508                           0              0                     0   \n",
       "88509                           0              0                     0   \n",
       "88510                           0              0                     0   \n",
       "88511                           0              0                     0   \n",
       "\n",
       "       central_pe  indeterminate  \n",
       "0               0              0  \n",
       "1               0              0  \n",
       "2               0              0  \n",
       "3               0              0  \n",
       "4               0              0  \n",
       "...           ...            ...  \n",
       "88507           0              0  \n",
       "88508           0              0  \n",
       "88509           0              0  \n",
       "88510           0              0  \n",
       "88511           0              0  \n",
       "\n",
       "[45000 rows x 17 columns]"
      ],
      "text/html": "<div>\n<style scoped>\n    .dataframe tbody tr th:only-of-type {\n        vertical-align: middle;\n    }\n\n    .dataframe tbody tr th {\n        vertical-align: top;\n    }\n\n    .dataframe thead th {\n        text-align: right;\n    }\n</style>\n<table border=\"1\" class=\"dataframe\">\n  <thead>\n    <tr style=\"text-align: right;\">\n      <th></th>\n      <th>StudyInstanceUID</th>\n      <th>SeriesInstanceUID</th>\n      <th>SOPInstanceUID</th>\n      <th>pe_present_on_image</th>\n      <th>negative_exam_for_pe</th>\n      <th>qa_motion</th>\n      <th>qa_contrast</th>\n      <th>flow_artifact</th>\n      <th>rv_lv_ratio_gte_1</th>\n      <th>rv_lv_ratio_lt_1</th>\n      <th>leftsided_pe</th>\n      <th>chronic_pe</th>\n      <th>true_filling_defect_not_pe</th>\n      <th>rightsided_pe</th>\n      <th>acute_and_chronic_pe</th>\n      <th>central_pe</th>\n      <th>indeterminate</th>\n    </tr>\n  </thead>\n  <tbody>\n    <tr>\n      <th>0</th>\n      <td>6897fa9de148</td>\n      <td>2bfbb7fd2e8b</td>\n      <td>c0f3cb036d06</td>\n      <td>0</td>\n      <td>0</td>\n      <td>0</td>\n      <td>0</td>\n      <td>0</td>\n      <td>0</td>\n      <td>1</td>\n      <td>1</td>\n      <td>0</td>\n      <td>0</td>\n      <td>1</td>\n      <td>0</td>\n      <td>0</td>\n      <td>0</td>\n    </tr>\n    <tr>\n      <th>1</th>\n      <td>6897fa9de148</td>\n      <td>2bfbb7fd2e8b</td>\n      <td>f57ffd3883b6</td>\n      <td>0</td>\n      <td>0</td>\n      <td>0</td>\n      <td>0</td>\n      <td>0</td>\n      <td>0</td>\n      <td>1</td>\n      <td>1</td>\n      <td>0</td>\n      <td>0</td>\n      <td>1</td>\n      <td>0</td>\n      <td>0</td>\n      <td>0</td>\n    </tr>\n    <tr>\n      <th>2</th>\n      <td>6897fa9de148</td>\n      <td>2bfbb7fd2e8b</td>\n      <td>41220fda34a3</td>\n      <td>0</td>\n      <td>0</td>\n      <td>0</td>\n      <td>0</td>\n      <td>0</td>\n      <td>0</td>\n      <td>1</td>\n      <td>1</td>\n      <td>0</td>\n      <td>0</td>\n      <td>1</td>\n      <td>0</td>\n      <td>0</td>\n      <td>0</td>\n    </tr>\n    <tr>\n      <th>3</th>\n      <td>6897fa9de148</td>\n      <td>2bfbb7fd2e8b</td>\n      <td>13b685b4b14f</td>\n      <td>0</td>\n      <td>0</td>\n      <td>0</td>\n      <td>0</td>\n      <td>0</td>\n      <td>0</td>\n      <td>1</td>\n      <td>1</td>\n      <td>0</td>\n      <td>0</td>\n      <td>1</td>\n      <td>0</td>\n      <td>0</td>\n      <td>0</td>\n    </tr>\n    <tr>\n      <th>4</th>\n      <td>6897fa9de148</td>\n      <td>2bfbb7fd2e8b</td>\n      <td>be0b7524ffb4</td>\n      <td>0</td>\n      <td>0</td>\n      <td>0</td>\n      <td>0</td>\n      <td>0</td>\n      <td>0</td>\n      <td>1</td>\n      <td>1</td>\n      <td>0</td>\n      <td>0</td>\n      <td>1</td>\n      <td>0</td>\n      <td>0</td>\n      <td>0</td>\n    </tr>\n    <tr>\n      <th>...</th>\n      <td>...</td>\n      <td>...</td>\n      <td>...</td>\n      <td>...</td>\n      <td>...</td>\n      <td>...</td>\n      <td>...</td>\n      <td>...</td>\n      <td>...</td>\n      <td>...</td>\n      <td>...</td>\n      <td>...</td>\n      <td>...</td>\n      <td>...</td>\n      <td>...</td>\n      <td>...</td>\n      <td>...</td>\n    </tr>\n    <tr>\n      <th>88507</th>\n      <td>9934197d1d7d</td>\n      <td>16f3c3d9851d</td>\n      <td>9a899e0be9a6</td>\n      <td>0</td>\n      <td>1</td>\n      <td>0</td>\n      <td>0</td>\n      <td>0</td>\n      <td>0</td>\n      <td>0</td>\n      <td>0</td>\n      <td>0</td>\n      <td>0</td>\n      <td>0</td>\n      <td>0</td>\n      <td>0</td>\n      <td>0</td>\n    </tr>\n    <tr>\n      <th>88508</th>\n      <td>9934197d1d7d</td>\n      <td>16f3c3d9851d</td>\n      <td>996873b9192b</td>\n      <td>0</td>\n      <td>1</td>\n      <td>0</td>\n      <td>0</td>\n      <td>0</td>\n      <td>0</td>\n      <td>0</td>\n      <td>0</td>\n      <td>0</td>\n      <td>0</td>\n      <td>0</td>\n      <td>0</td>\n      <td>0</td>\n      <td>0</td>\n    </tr>\n    <tr>\n      <th>88509</th>\n      <td>9934197d1d7d</td>\n      <td>16f3c3d9851d</td>\n      <td>f3d335a3fd4e</td>\n      <td>0</td>\n      <td>1</td>\n      <td>0</td>\n      <td>0</td>\n      <td>0</td>\n      <td>0</td>\n      <td>0</td>\n      <td>0</td>\n      <td>0</td>\n      <td>0</td>\n      <td>0</td>\n      <td>0</td>\n      <td>0</td>\n      <td>0</td>\n    </tr>\n    <tr>\n      <th>88510</th>\n      <td>9934197d1d7d</td>\n      <td>16f3c3d9851d</td>\n      <td>1144e3048221</td>\n      <td>0</td>\n      <td>1</td>\n      <td>0</td>\n      <td>0</td>\n      <td>0</td>\n      <td>0</td>\n      <td>0</td>\n      <td>0</td>\n      <td>0</td>\n      <td>0</td>\n      <td>0</td>\n      <td>0</td>\n      <td>0</td>\n      <td>0</td>\n    </tr>\n    <tr>\n      <th>88511</th>\n      <td>9934197d1d7d</td>\n      <td>16f3c3d9851d</td>\n      <td>4fc9a8f74f71</td>\n      <td>0</td>\n      <td>1</td>\n      <td>0</td>\n      <td>0</td>\n      <td>0</td>\n      <td>0</td>\n      <td>0</td>\n      <td>0</td>\n      <td>0</td>\n      <td>0</td>\n      <td>0</td>\n      <td>0</td>\n      <td>0</td>\n      <td>0</td>\n    </tr>\n  </tbody>\n</table>\n<p>45000 rows × 17 columns</p>\n</div>"
     },
     "metadata": {},
     "execution_count": 5
    }
   ],
   "source": [
    "# Only keep available images rows\n",
    "def cleanUpDataframe(df):\n",
    "    return df.loc[df_train['SOPInstanceUID'].isin(available_images)]\n",
    "    \n",
    "\n",
    "df_train_clean = cleanUpDataframe(df_train)\n",
    "df_train_clean"
   ]
  },
  {
   "cell_type": "code",
   "execution_count": 6,
   "metadata": {},
   "outputs": [],
   "source": [
    "# Remove packed features\n",
    "\n",
    "# TODO add asserts to ensure a good behavior before dropping\n",
    "df_train_clean.drop(['negative_exam_for_pe','qa_motion','qa_contrast','flow_artifact'], axis=1, inplace=True)\n",
    "df_train_clean.drop(['rv_lv_ratio_gte_1','rv_lv_ratio_lt_1'], axis=1, inplace=True)\n",
    "df_train_clean.drop(['leftsided_pe','rightsided_pe','central_pe'], axis=1, inplace=True)\n",
    "df_train_clean.drop(['chronic_pe','acute_and_chronic_pe'], axis=1, inplace=True)\n",
    "df_train_clean.drop(['true_filling_defect_not_pe','indeterminate'], axis=1, inplace=True)\n",
    "df_train_clean.drop(['SOPInstanceUID'], axis=1, inplace=True)"
   ]
  },
  {
   "cell_type": "code",
   "execution_count": 7,
   "metadata": {},
   "outputs": [
    {
     "output_type": "execute_result",
     "data": {
      "text/plain": [
       "                                    pe_present_on_image\n",
       "StudyInstanceUID SeriesInstanceUID                     \n",
       "0045f113e031     454c8fdfb649                         0\n",
       "008626c99017     461fe63dec07                         0\n",
       "0112fd91fdd0     2b363f6cfd3d                         0\n",
       "013358b540bb     2805267980e7                         0\n",
       "01796cd8f2cd     9cfdde6c6987                         0\n",
       "018b5097a129     0729127097da                        47\n",
       "02aca64c04a9     ec4e2e757b0c                         0\n",
       "0358701cd26a     c8fa9c024b17                         0\n",
       "045a692f7143     de09eb5de208                         5\n",
       "07bd8cc56850     e580d22aa050                         8"
      ],
      "text/html": "<div>\n<style scoped>\n    .dataframe tbody tr th:only-of-type {\n        vertical-align: middle;\n    }\n\n    .dataframe tbody tr th {\n        vertical-align: top;\n    }\n\n    .dataframe thead th {\n        text-align: right;\n    }\n</style>\n<table border=\"1\" class=\"dataframe\">\n  <thead>\n    <tr style=\"text-align: right;\">\n      <th></th>\n      <th></th>\n      <th>pe_present_on_image</th>\n    </tr>\n    <tr>\n      <th>StudyInstanceUID</th>\n      <th>SeriesInstanceUID</th>\n      <th></th>\n    </tr>\n  </thead>\n  <tbody>\n    <tr>\n      <th>0045f113e031</th>\n      <th>454c8fdfb649</th>\n      <td>0</td>\n    </tr>\n    <tr>\n      <th>008626c99017</th>\n      <th>461fe63dec07</th>\n      <td>0</td>\n    </tr>\n    <tr>\n      <th>0112fd91fdd0</th>\n      <th>2b363f6cfd3d</th>\n      <td>0</td>\n    </tr>\n    <tr>\n      <th>013358b540bb</th>\n      <th>2805267980e7</th>\n      <td>0</td>\n    </tr>\n    <tr>\n      <th>01796cd8f2cd</th>\n      <th>9cfdde6c6987</th>\n      <td>0</td>\n    </tr>\n    <tr>\n      <th>018b5097a129</th>\n      <th>0729127097da</th>\n      <td>47</td>\n    </tr>\n    <tr>\n      <th>02aca64c04a9</th>\n      <th>ec4e2e757b0c</th>\n      <td>0</td>\n    </tr>\n    <tr>\n      <th>0358701cd26a</th>\n      <th>c8fa9c024b17</th>\n      <td>0</td>\n    </tr>\n    <tr>\n      <th>045a692f7143</th>\n      <th>de09eb5de208</th>\n      <td>5</td>\n    </tr>\n    <tr>\n      <th>07bd8cc56850</th>\n      <th>e580d22aa050</th>\n      <td>8</td>\n    </tr>\n  </tbody>\n</table>\n</div>"
     },
     "metadata": {},
     "execution_count": 7
    }
   ],
   "source": [
    "df2 = df_train_clean.groupby(['StudyInstanceUID','SeriesInstanceUID']).sum()\n",
    "df2.head(10)"
   ]
  },
  {
   "cell_type": "code",
   "execution_count": 10,
   "metadata": {},
   "outputs": [
    {
     "output_type": "execute_result",
     "data": {
      "text/plain": [
       "0      144\n",
       "6        5\n",
       "35       4\n",
       "15       4\n",
       "5        3\n",
       "8        3\n",
       "19       3\n",
       "2        3\n",
       "3        2\n",
       "9        2\n",
       "57       2\n",
       "17       2\n",
       "20       2\n",
       "26       2\n",
       "28       2\n",
       "45       2\n",
       "52       2\n",
       "42       2\n",
       "61       2\n",
       "59       1\n",
       "14       1\n",
       "21       1\n",
       "69       1\n",
       "78       1\n",
       "18       1\n",
       "82       1\n",
       "16       1\n",
       "83       1\n",
       "12       1\n",
       "23       1\n",
       "86       1\n",
       "87       1\n",
       "7        1\n",
       "89       1\n",
       "92       1\n",
       "93       1\n",
       "97       1\n",
       "22       1\n",
       "24       1\n",
       "55       1\n",
       "25       1\n",
       "53       1\n",
       "49       1\n",
       "48       1\n",
       "47       1\n",
       "46       1\n",
       "65       1\n",
       "44       1\n",
       "109      1\n",
       "39       1\n",
       "38       1\n",
       "37       1\n",
       "66       1\n",
       "34       1\n",
       "67       1\n",
       "68       1\n",
       "121      1\n",
       "Name: pe_present_on_image, dtype: int64"
      ]
     },
     "metadata": {},
     "execution_count": 10
    }
   ],
   "source": [
    "df2['pe_present_on_image'].value_counts()"
   ]
  },
  {
   "cell_type": "code",
   "execution_count": null,
   "metadata": {},
   "outputs": [],
   "source": []
  }
 ]
}