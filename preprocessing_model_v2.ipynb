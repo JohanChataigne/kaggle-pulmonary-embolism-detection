{
 "cells": [
  {
   "cell_type": "markdown",
   "metadata": {},
   "source": [
    "# Preprocessing datas for first model"
   ]
  },
  {
   "cell_type": "markdown",
   "metadata": {},
   "source": [
    "## Imports"
   ]
  },
  {
   "cell_type": "code",
   "execution_count": 1,
   "metadata": {
    "execution": {
     "iopub.execute_input": "2021-01-23T14:47:11.571640Z",
     "iopub.status.busy": "2021-01-23T14:47:11.570339Z",
     "iopub.status.idle": "2021-01-23T14:47:12.365438Z",
     "shell.execute_reply": "2021-01-23T14:47:12.364262Z"
    }
   },
   "outputs": [],
   "source": [
    "import pandas as pd\n",
    "import numpy as np\n",
    "import os\n",
    "from full_image_dataset import *\n",
    "from balance import *"
   ]
  },
  {
   "cell_type": "code",
   "execution_count": 2,
   "metadata": {
    "execution": {
     "iopub.execute_input": "2021-01-23T14:47:12.370698Z",
     "iopub.status.busy": "2021-01-23T14:47:12.369564Z",
     "iopub.status.idle": "2021-01-23T14:47:12.577850Z",
     "shell.execute_reply": "2021-01-23T14:47:12.576819Z"
    }
   },
   "outputs": [],
   "source": [
    "import torch\n",
    "from torchvision import transforms\n",
    "from transforms import *"
   ]
  },
  {
   "cell_type": "markdown",
   "metadata": {},
   "source": [
    "## Informations about annotations"
   ]
  },
  {
   "cell_type": "code",
   "execution_count": 3,
   "metadata": {
    "execution": {
     "iopub.execute_input": "2021-01-23T14:47:12.583328Z",
     "iopub.status.busy": "2021-01-23T14:47:12.582193Z",
     "iopub.status.idle": "2021-01-23T14:47:14.221381Z",
     "shell.execute_reply": "2021-01-23T14:47:14.220368Z"
    }
   },
   "outputs": [],
   "source": [
    "# Load annotations\n",
    "df = pd.read_csv('train.csv')"
   ]
  },
  {
   "cell_type": "code",
   "execution_count": 4,
   "metadata": {
    "autoscroll": "auto",
    "collapsed": false,
    "execution": {
     "iopub.execute_input": "2021-01-23T14:47:14.235208Z",
     "iopub.status.busy": "2021-01-23T14:47:14.234045Z",
     "iopub.status.idle": "2021-01-23T14:47:14.242369Z",
     "shell.execute_reply": "2021-01-23T14:47:14.243283Z"
    }
   },
   "outputs": [
    {
     "data": {
      "text/html": [
       "<div>\n",
       "<style scoped>\n",
       "    .dataframe tbody tr th:only-of-type {\n",
       "        vertical-align: middle;\n",
       "    }\n",
       "\n",
       "    .dataframe tbody tr th {\n",
       "        vertical-align: top;\n",
       "    }\n",
       "\n",
       "    .dataframe thead th {\n",
       "        text-align: right;\n",
       "    }\n",
       "</style>\n",
       "<table border=\"1\" class=\"dataframe\">\n",
       "  <thead>\n",
       "    <tr style=\"text-align: right;\">\n",
       "      <th></th>\n",
       "      <th>StudyInstanceUID</th>\n",
       "      <th>SeriesInstanceUID</th>\n",
       "      <th>SOPInstanceUID</th>\n",
       "      <th>pe_present_on_image</th>\n",
       "      <th>negative_exam_for_pe</th>\n",
       "      <th>qa_motion</th>\n",
       "      <th>qa_contrast</th>\n",
       "      <th>flow_artifact</th>\n",
       "      <th>rv_lv_ratio_gte_1</th>\n",
       "      <th>rv_lv_ratio_lt_1</th>\n",
       "      <th>leftsided_pe</th>\n",
       "      <th>chronic_pe</th>\n",
       "      <th>true_filling_defect_not_pe</th>\n",
       "      <th>rightsided_pe</th>\n",
       "      <th>acute_and_chronic_pe</th>\n",
       "      <th>central_pe</th>\n",
       "      <th>indeterminate</th>\n",
       "    </tr>\n",
       "  </thead>\n",
       "  <tbody>\n",
       "    <tr>\n",
       "      <th>0</th>\n",
       "      <td>6897fa9de148</td>\n",
       "      <td>2bfbb7fd2e8b</td>\n",
       "      <td>c0f3cb036d06</td>\n",
       "      <td>0</td>\n",
       "      <td>0</td>\n",
       "      <td>0</td>\n",
       "      <td>0</td>\n",
       "      <td>0</td>\n",
       "      <td>0</td>\n",
       "      <td>1</td>\n",
       "      <td>1</td>\n",
       "      <td>0</td>\n",
       "      <td>0</td>\n",
       "      <td>1</td>\n",
       "      <td>0</td>\n",
       "      <td>0</td>\n",
       "      <td>0</td>\n",
       "    </tr>\n",
       "    <tr>\n",
       "      <th>1</th>\n",
       "      <td>6897fa9de148</td>\n",
       "      <td>2bfbb7fd2e8b</td>\n",
       "      <td>f57ffd3883b6</td>\n",
       "      <td>0</td>\n",
       "      <td>0</td>\n",
       "      <td>0</td>\n",
       "      <td>0</td>\n",
       "      <td>0</td>\n",
       "      <td>0</td>\n",
       "      <td>1</td>\n",
       "      <td>1</td>\n",
       "      <td>0</td>\n",
       "      <td>0</td>\n",
       "      <td>1</td>\n",
       "      <td>0</td>\n",
       "      <td>0</td>\n",
       "      <td>0</td>\n",
       "    </tr>\n",
       "    <tr>\n",
       "      <th>2</th>\n",
       "      <td>6897fa9de148</td>\n",
       "      <td>2bfbb7fd2e8b</td>\n",
       "      <td>41220fda34a3</td>\n",
       "      <td>0</td>\n",
       "      <td>0</td>\n",
       "      <td>0</td>\n",
       "      <td>0</td>\n",
       "      <td>0</td>\n",
       "      <td>0</td>\n",
       "      <td>1</td>\n",
       "      <td>1</td>\n",
       "      <td>0</td>\n",
       "      <td>0</td>\n",
       "      <td>1</td>\n",
       "      <td>0</td>\n",
       "      <td>0</td>\n",
       "      <td>0</td>\n",
       "    </tr>\n",
       "    <tr>\n",
       "      <th>3</th>\n",
       "      <td>6897fa9de148</td>\n",
       "      <td>2bfbb7fd2e8b</td>\n",
       "      <td>13b685b4b14f</td>\n",
       "      <td>0</td>\n",
       "      <td>0</td>\n",
       "      <td>0</td>\n",
       "      <td>0</td>\n",
       "      <td>0</td>\n",
       "      <td>0</td>\n",
       "      <td>1</td>\n",
       "      <td>1</td>\n",
       "      <td>0</td>\n",
       "      <td>0</td>\n",
       "      <td>1</td>\n",
       "      <td>0</td>\n",
       "      <td>0</td>\n",
       "      <td>0</td>\n",
       "    </tr>\n",
       "    <tr>\n",
       "      <th>4</th>\n",
       "      <td>6897fa9de148</td>\n",
       "      <td>2bfbb7fd2e8b</td>\n",
       "      <td>be0b7524ffb4</td>\n",
       "      <td>0</td>\n",
       "      <td>0</td>\n",
       "      <td>0</td>\n",
       "      <td>0</td>\n",
       "      <td>0</td>\n",
       "      <td>0</td>\n",
       "      <td>1</td>\n",
       "      <td>1</td>\n",
       "      <td>0</td>\n",
       "      <td>0</td>\n",
       "      <td>1</td>\n",
       "      <td>0</td>\n",
       "      <td>0</td>\n",
       "      <td>0</td>\n",
       "    </tr>\n",
       "    <tr>\n",
       "      <th>5</th>\n",
       "      <td>6897fa9de148</td>\n",
       "      <td>2bfbb7fd2e8b</td>\n",
       "      <td>c7b99cb454d4</td>\n",
       "      <td>0</td>\n",
       "      <td>0</td>\n",
       "      <td>0</td>\n",
       "      <td>0</td>\n",
       "      <td>0</td>\n",
       "      <td>0</td>\n",
       "      <td>1</td>\n",
       "      <td>1</td>\n",
       "      <td>0</td>\n",
       "      <td>0</td>\n",
       "      <td>1</td>\n",
       "      <td>0</td>\n",
       "      <td>0</td>\n",
       "      <td>0</td>\n",
       "    </tr>\n",
       "    <tr>\n",
       "      <th>6</th>\n",
       "      <td>6897fa9de148</td>\n",
       "      <td>2bfbb7fd2e8b</td>\n",
       "      <td>e153deb813ed</td>\n",
       "      <td>0</td>\n",
       "      <td>0</td>\n",
       "      <td>0</td>\n",
       "      <td>0</td>\n",
       "      <td>0</td>\n",
       "      <td>0</td>\n",
       "      <td>1</td>\n",
       "      <td>1</td>\n",
       "      <td>0</td>\n",
       "      <td>0</td>\n",
       "      <td>1</td>\n",
       "      <td>0</td>\n",
       "      <td>0</td>\n",
       "      <td>0</td>\n",
       "    </tr>\n",
       "    <tr>\n",
       "      <th>7</th>\n",
       "      <td>6897fa9de148</td>\n",
       "      <td>2bfbb7fd2e8b</td>\n",
       "      <td>c6bbe08f2736</td>\n",
       "      <td>0</td>\n",
       "      <td>0</td>\n",
       "      <td>0</td>\n",
       "      <td>0</td>\n",
       "      <td>0</td>\n",
       "      <td>0</td>\n",
       "      <td>1</td>\n",
       "      <td>1</td>\n",
       "      <td>0</td>\n",
       "      <td>0</td>\n",
       "      <td>1</td>\n",
       "      <td>0</td>\n",
       "      <td>0</td>\n",
       "      <td>0</td>\n",
       "    </tr>\n",
       "    <tr>\n",
       "      <th>8</th>\n",
       "      <td>6897fa9de148</td>\n",
       "      <td>2bfbb7fd2e8b</td>\n",
       "      <td>09886998dc28</td>\n",
       "      <td>0</td>\n",
       "      <td>0</td>\n",
       "      <td>0</td>\n",
       "      <td>0</td>\n",
       "      <td>0</td>\n",
       "      <td>0</td>\n",
       "      <td>1</td>\n",
       "      <td>1</td>\n",
       "      <td>0</td>\n",
       "      <td>0</td>\n",
       "      <td>1</td>\n",
       "      <td>0</td>\n",
       "      <td>0</td>\n",
       "      <td>0</td>\n",
       "    </tr>\n",
       "    <tr>\n",
       "      <th>9</th>\n",
       "      <td>6897fa9de148</td>\n",
       "      <td>2bfbb7fd2e8b</td>\n",
       "      <td>5b5226ac7bac</td>\n",
       "      <td>0</td>\n",
       "      <td>0</td>\n",
       "      <td>0</td>\n",
       "      <td>0</td>\n",
       "      <td>0</td>\n",
       "      <td>0</td>\n",
       "      <td>1</td>\n",
       "      <td>1</td>\n",
       "      <td>0</td>\n",
       "      <td>0</td>\n",
       "      <td>1</td>\n",
       "      <td>0</td>\n",
       "      <td>0</td>\n",
       "      <td>0</td>\n",
       "    </tr>\n",
       "  </tbody>\n",
       "</table>\n",
       "</div>"
      ],
      "text/plain": [
       "  StudyInstanceUID SeriesInstanceUID SOPInstanceUID  pe_present_on_image  \\\n",
       "0     6897fa9de148      2bfbb7fd2e8b   c0f3cb036d06                    0   \n",
       "1     6897fa9de148      2bfbb7fd2e8b   f57ffd3883b6                    0   \n",
       "2     6897fa9de148      2bfbb7fd2e8b   41220fda34a3                    0   \n",
       "3     6897fa9de148      2bfbb7fd2e8b   13b685b4b14f                    0   \n",
       "4     6897fa9de148      2bfbb7fd2e8b   be0b7524ffb4                    0   \n",
       "5     6897fa9de148      2bfbb7fd2e8b   c7b99cb454d4                    0   \n",
       "6     6897fa9de148      2bfbb7fd2e8b   e153deb813ed                    0   \n",
       "7     6897fa9de148      2bfbb7fd2e8b   c6bbe08f2736                    0   \n",
       "8     6897fa9de148      2bfbb7fd2e8b   09886998dc28                    0   \n",
       "9     6897fa9de148      2bfbb7fd2e8b   5b5226ac7bac                    0   \n",
       "\n",
       "   negative_exam_for_pe  qa_motion  qa_contrast  flow_artifact  \\\n",
       "0                     0          0            0              0   \n",
       "1                     0          0            0              0   \n",
       "2                     0          0            0              0   \n",
       "3                     0          0            0              0   \n",
       "4                     0          0            0              0   \n",
       "5                     0          0            0              0   \n",
       "6                     0          0            0              0   \n",
       "7                     0          0            0              0   \n",
       "8                     0          0            0              0   \n",
       "9                     0          0            0              0   \n",
       "\n",
       "   rv_lv_ratio_gte_1  rv_lv_ratio_lt_1  leftsided_pe  chronic_pe  \\\n",
       "0                  0                 1             1           0   \n",
       "1                  0                 1             1           0   \n",
       "2                  0                 1             1           0   \n",
       "3                  0                 1             1           0   \n",
       "4                  0                 1             1           0   \n",
       "5                  0                 1             1           0   \n",
       "6                  0                 1             1           0   \n",
       "7                  0                 1             1           0   \n",
       "8                  0                 1             1           0   \n",
       "9                  0                 1             1           0   \n",
       "\n",
       "   true_filling_defect_not_pe  rightsided_pe  acute_and_chronic_pe  \\\n",
       "0                           0              1                     0   \n",
       "1                           0              1                     0   \n",
       "2                           0              1                     0   \n",
       "3                           0              1                     0   \n",
       "4                           0              1                     0   \n",
       "5                           0              1                     0   \n",
       "6                           0              1                     0   \n",
       "7                           0              1                     0   \n",
       "8                           0              1                     0   \n",
       "9                           0              1                     0   \n",
       "\n",
       "   central_pe  indeterminate  \n",
       "0           0              0  \n",
       "1           0              0  \n",
       "2           0              0  \n",
       "3           0              0  \n",
       "4           0              0  \n",
       "5           0              0  \n",
       "6           0              0  \n",
       "7           0              0  \n",
       "8           0              0  \n",
       "9           0              0  "
      ]
     },
     "execution_count": 1,
     "metadata": {},
     "output_type": "execute_result"
    }
   ],
   "source": [
    "df.head(n=10)"
   ]
  },
  {
   "cell_type": "markdown",
   "metadata": {},
   "source": [
    "## Keep only the available images"
   ]
  },
  {
   "cell_type": "code",
   "execution_count": 5,
   "metadata": {
    "execution": {
     "iopub.execute_input": "2021-01-23T14:47:14.248588Z",
     "iopub.status.busy": "2021-01-23T14:47:14.247450Z",
     "iopub.status.idle": "2021-01-23T14:47:14.498179Z",
     "shell.execute_reply": "2021-01-23T14:47:14.497181Z"
    }
   },
   "outputs": [],
   "source": [
    "# List of available images (only keep their ID) in folder\n",
    "available_images = list(map(lambda x: x.split('.')[0], os.listdir('images/')))\n",
    "\n",
    "df = df.loc[df['SOPInstanceUID'].isin(available_images)]"
   ]
  },
  {
   "cell_type": "markdown",
   "metadata": {},
   "source": [
    "## Create a balanced dataset of 2 classes as a starter"
   ]
  },
  {
   "cell_type": "code",
   "execution_count": 6,
   "metadata": {
    "autoscroll": "auto",
    "collapsed": false,
    "execution": {
     "iopub.execute_input": "2021-01-23T14:47:14.504935Z",
     "iopub.status.busy": "2021-01-23T14:47:14.503822Z",
     "iopub.status.idle": "2021-01-23T14:47:14.508150Z",
     "shell.execute_reply": "2021-01-23T14:47:14.509085Z"
    }
   },
   "outputs": [
    {
     "data": {
      "text/plain": [
       "0    41865\n",
       "1     3135\n",
       "Name: pe_present_on_image, dtype: int64"
      ]
     },
     "execution_count": 1,
     "metadata": {},
     "output_type": "execute_result"
    }
   ],
   "source": [
    "# Reduced prediction problem for one image\n",
    "df_predict_pe_image = df[['SOPInstanceUID', 'pe_present_on_image']]\n",
    "df_predict_pe_image['pe_present_on_image'].value_counts()"
   ]
  },
  {
   "cell_type": "code",
   "execution_count": 7,
   "metadata": {
    "autoscroll": "auto",
    "collapsed": false,
    "execution": {
     "iopub.execute_input": "2021-01-23T14:47:14.514153Z",
     "iopub.status.busy": "2021-01-23T14:47:14.513133Z",
     "iopub.status.idle": "2021-01-23T14:47:14.524323Z",
     "shell.execute_reply": "2021-01-23T14:47:14.525264Z"
    }
   },
   "outputs": [
    {
     "data": {
      "text/plain": [
       "1    3135\n",
       "0    3135\n",
       "Name: pe_present_on_image, dtype: int64"
      ]
     },
     "execution_count": 1,
     "metadata": {},
     "output_type": "execute_result"
    }
   ],
   "source": [
    "# Create the biggest balanced dataframe\n",
    "df_balanced = balance_dataframe(df_predict_pe_image, 'pe_present_on_image')\n",
    "df_balanced['pe_present_on_image'].value_counts()"
   ]
  },
  {
   "cell_type": "markdown",
   "metadata": {},
   "source": [
    "## One dataset per channel approach"
   ]
  },
  {
   "cell_type": "code",
   "execution_count": 8,
   "metadata": {
    "execution": {
     "iopub.execute_input": "2021-01-23T14:47:14.532188Z",
     "iopub.status.busy": "2021-01-23T14:47:14.529554Z",
     "iopub.status.idle": "2021-01-23T14:47:14.535292Z",
     "shell.execute_reply": "2021-01-23T14:47:14.534312Z"
    }
   },
   "outputs": [],
   "source": [
    "t = transforms.Compose([Rescale(256), Normalize(), ToTensor()])\n",
    "\n",
    "full_image_dataset = FullImageDataset(df_balanced, 'images/', transform=t)\n",
    "torch.save(full_image_dataset, 'datasets/full_image_dataset.pt')"
   ]
  },
  {
   "cell_type": "code",
   "execution_count": 9,
   "metadata": {
    "autoscroll": "auto",
    "collapsed": false,
    "execution": {
     "iopub.execute_input": "2021-01-23T14:47:14.540918Z",
     "iopub.status.busy": "2021-01-23T14:47:14.539811Z",
     "iopub.status.idle": "2021-01-23T14:47:14.594174Z",
     "shell.execute_reply": "2021-01-23T14:47:14.595097Z"
    }
   },
   "outputs": [
    {
     "data": {
      "text/plain": [
       "{'image': tensor([[[0.0000e+00, 0.0000e+00, 2.3068e-05,  ..., 1.5379e-05,\n",
       "           7.6894e-05, 0.0000e+00],\n",
       "          [1.5379e-05, 7.6894e-05, 0.0000e+00,  ..., 5.3825e-05,\n",
       "           0.0000e+00, 0.0000e+00],\n",
       "          [5.7670e-05, 0.0000e+00, 0.0000e+00,  ..., 0.0000e+00,\n",
       "           0.0000e+00, 0.0000e+00],\n",
       "          ...,\n",
       "          [1.2841e-03, 3.3026e-03, 1.5340e-03,  ..., 3.5563e-03,\n",
       "           2.3183e-03, 1.7955e-03],\n",
       "          [3.6332e-03, 2.6644e-03, 2.1069e-03,  ..., 0.0000e+00,\n",
       "           0.0000e+00, 6.1515e-05],\n",
       "          [1.2457e-03, 1.2149e-03, 3.3564e-03,  ..., 1.4994e-03,\n",
       "           3.4948e-03, 1.4802e-03]],\n",
       " \n",
       "         [[1.2572e-03, 3.2795e-03, 1.4648e-03,  ..., 3.6870e-03,\n",
       "           2.5298e-03, 1.9377e-03],\n",
       "          [3.7332e-03, 2.3799e-03, 1.8032e-03,  ..., 0.0000e+00,\n",
       "           0.0000e+00, 4.6136e-05],\n",
       "          [9.8039e-04, 1.0611e-03, 3.2026e-03,  ..., 1.4917e-03,\n",
       "           3.4833e-03, 1.6532e-03],\n",
       "          ...,\n",
       "          [1.1803e-03, 1.1534e-05, 0.0000e+00,  ..., 0.0000e+00,\n",
       "           0.0000e+00, 8.4583e-05],\n",
       "          [0.0000e+00, 3.8447e-06, 1.0727e-03,  ..., 0.0000e+00,\n",
       "           7.3818e-04, 0.0000e+00],\n",
       "          [0.0000e+00, 7.6125e-04, 0.0000e+00,  ..., 1.1150e-03,\n",
       "           3.8447e-06, 0.0000e+00]],\n",
       " \n",
       "         [[1.1649e-03, 3.8447e-06, 0.0000e+00,  ..., 0.0000e+00,\n",
       "           0.0000e+00, 5.7670e-05],\n",
       "          [0.0000e+00, 0.0000e+00, 6.4206e-04,  ..., 0.0000e+00,\n",
       "           9.2657e-04, 0.0000e+00],\n",
       "          [0.0000e+00, 9.0734e-04, 0.0000e+00,  ..., 9.9577e-04,\n",
       "           0.0000e+00, 0.0000e+00],\n",
       "          ...,\n",
       "          [0.0000e+00, 0.0000e+00, 0.0000e+00,  ..., 0.0000e+00,\n",
       "           2.7682e-04, 0.0000e+00],\n",
       "          [0.0000e+00, 2.9220e-04, 0.0000e+00,  ..., 2.7682e-04,\n",
       "           0.0000e+00, 0.0000e+00],\n",
       "          [2.7682e-04, 0.0000e+00, 0.0000e+00,  ..., 0.0000e+00,\n",
       "           0.0000e+00, 0.0000e+00]]], dtype=torch.float64),\n",
       " 'target': 0}"
      ]
     },
     "execution_count": 1,
     "metadata": {},
     "output_type": "execute_result"
    }
   ],
   "source": [
    "full_image_dataset[0]"
   ]
  }
 ],
 "metadata": {
  "kernelspec": {
   "display_name": "Python 3",
   "language": "python",
   "name": "python3"
  },
  "language_info": {
   "codemirror_mode": {
    "name": "ipython",
    "version": 3
   },
   "file_extension": ".py",
   "mimetype": "text/x-python",
   "name": "python",
   "nbconvert_exporter": "python",
   "pygments_lexer": "ipython3",
   "version": "3.9.1"
  }
 },
 "nbformat": 4,
 "nbformat_minor": 4
}
