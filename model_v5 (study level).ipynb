{
 "cells": [
  {
   "cell_type": "markdown",
   "metadata": {},
   "source": [
    "# Fifth model \n",
    "\n",
    "This model will try to predict exam level labels for positive patients"
   ]
  },
  {
   "cell_type": "markdown",
   "metadata": {},
   "source": [
    "## Imports"
   ]
  },
  {
   "cell_type": "code",
   "execution_count": 1,
   "metadata": {},
   "outputs": [],
   "source": [
    "import numpy as np\n",
    "from balance import *\n",
    "from model import *\n",
    "from torchsummary import summary"
   ]
  },
  {
   "cell_type": "code",
   "execution_count": 2,
   "metadata": {},
   "outputs": [
    {
     "name": "stdout",
     "output_type": "stream",
     "text": [
      "PyTorch version: 1.7.1\n",
      "GPU found :)\n"
     ]
    }
   ],
   "source": [
    "import torch\n",
    "torch.cuda.empty_cache()\n",
    "\n",
    "print(f'PyTorch version: {torch.__version__}')\n",
    "print(\"GPU found :)\" if torch.cuda.is_available() else \"No GPU :(\")\n",
    "\n",
    "# Device configuration\n",
    "device = torch.device('cuda' if torch.cuda.is_available() else 'cpu')\n",
    "\n",
    "import torch.nn as nn\n",
    "import torch.nn.functional as F\n",
    "import torch.optim as optim\n",
    "from torch.utils.data import DataLoader"
   ]
  },
  {
   "cell_type": "markdown",
   "metadata": {},
   "source": [
    "# Load datasets"
   ]
  },
  {
   "cell_type": "code",
   "execution_count": 3,
   "metadata": {},
   "outputs": [],
   "source": [
    "dataset = torch.load('datasets/multi_image_multi_label_dataset.pt')\n",
    "nb_images = 50"
   ]
  },
  {
   "cell_type": "markdown",
   "metadata": {},
   "source": [
    "## CNN"
   ]
  },
  {
   "cell_type": "code",
   "execution_count": 4,
   "metadata": {},
   "outputs": [],
   "source": [
    "class ModelV5(nn.Module):\n",
    "    \n",
    "    def __init__(self, input_channels=3*nb_images):\n",
    "        \"\"\"Convnet with 4 convolution layer + pooling + BN, with 3 fully connected at the end\"\"\"\n",
    "        super().__init__()\n",
    "        \n",
    "        self.conv1 = nn.Conv2d(in_channels=input_channels, out_channels=256, kernel_size=5)\n",
    "        self.bn1 = nn.BatchNorm2d(256)\n",
    "        self.conv2 = nn.Conv2d(256, 512, 3)\n",
    "        self.bn2 = nn.BatchNorm2d(512)\n",
    "        self.conv3 = nn.Conv2d(512, 256, 3)\n",
    "        self.bn3 = nn.BatchNorm2d(256)\n",
    "        self.conv4 = nn.Conv2d(256, 64, 3)\n",
    "        self.bn4 = nn.BatchNorm2d(64)\n",
    "        \n",
    "        self.pool = nn.MaxPool2d(kernel_size=2)\n",
    "        \n",
    "        self.fc1 = nn.Linear(64*14*14 , 512)\n",
    "        self.fc2 = nn.Linear(512, 128)\n",
    "        \n",
    "        self.fc_location = nn.Linear(128, 3)\n",
    "        self.fc_ratio = nn.Linear(128, 2)\n",
    "        self.fc_type = nn.Linear(128, 3)\n",
    "        \n",
    "        self.dropout = nn.Dropout(0.5)\n",
    "        \n",
    "        self.softmax = nn.LogSoftmax(dim=1)\n",
    "        self.sigmoid = nn.Sigmoid()\n",
    "        \n",
    "        \n",
    "    def forward(self, x):\n",
    "        \n",
    "        x = self.pool(F.relu(self.bn1(self.conv1(x))))\n",
    "        x = self.pool(F.relu(self.bn2(self.conv2(x))))\n",
    "        x = self.pool(F.relu(self.bn3(self.conv3(x))))\n",
    "        x = self.pool(F.relu(self.bn4(self.conv4(x))))\n",
    "        x = x.view(-1, 64*14*14) # Flatten\n",
    "        x = self.dropout(x)\n",
    "        x = F.relu(self.fc1(x))\n",
    "        x = self.dropout(x)\n",
    "        x = F.relu(self.fc2(x))\n",
    "        \n",
    "        location_out = self.sigmoid(self.fc_location(x))\n",
    "        ratio_out = self.softmax(self.fc_ratio(x))\n",
    "        type_out = self.softmax(self.fc_type(x))\n",
    "        \n",
    "        return location_out, ratio_out, type_out"
   ]
  },
  {
   "cell_type": "code",
   "execution_count": 5,
   "metadata": {},
   "outputs": [],
   "source": [
    "model = ModelV5().to(device)\n",
    "#summary(model, (150, 256, 256))"
   ]
  },
  {
   "cell_type": "markdown",
   "metadata": {},
   "source": [
    "## Split data into train and test"
   ]
  },
  {
   "cell_type": "code",
   "execution_count": 6,
   "metadata": {},
   "outputs": [
    {
     "name": "stdout",
     "output_type": "stream",
     "text": [
      "Train size: 72\n",
      "Test size: 18\n"
     ]
    }
   ],
   "source": [
    "batch_size = 1\n",
    "ratio = 0.2\n",
    "\n",
    "train_loader, test_loader = train_test_split(dataset, ratio, batch_size)\n",
    "\n",
    "print(f'Train size: {len(train_loader)}')\n",
    "print(f'Test size: {len(test_loader)}')"
   ]
  },
  {
   "cell_type": "markdown",
   "metadata": {},
   "source": [
    "## Model Training"
   ]
  },
  {
   "cell_type": "code",
   "execution_count": null,
   "metadata": {},
   "outputs": [],
   "source": [
    "num_epoch = 30\n",
    "step_count = len(train_loader)\n",
    "MSE = nn.MSELoss()\n",
    "NLL = nn.NLLLoss()\n",
    "optimizer=optim.Adam(model.parameters(), lr=0.001)\n",
    "\n",
    "losses = list()\n",
    "losses_ratio = list()\n",
    "losses_location = list()\n",
    "losses_type = list()\n",
    "\n",
    "save_filename = './models/model_v5.h5'\n",
    "\n",
    "for epoch in range(num_epoch):\n",
    "    \n",
    "    epoch_loss = 0\n",
    "    epoch_loss_ratio = 0\n",
    "    epoch_loss_location = 0\n",
    "    epoch_loss_type = 0\n",
    "    \n",
    "    for i, sample in enumerate(train_loader):\n",
    "        \n",
    "        images = sample['image'].to(device, dtype=torch.float)\n",
    "        ratios = sample['ratios']\n",
    "        locations = sample['locations']\n",
    "        types = sample['types']\n",
    "        \n",
    "        optimizer.zero_grad()\n",
    "        \n",
    "        location_out, ratio_out, type_out = model(images)\n",
    "        \n",
    "        # Compute loss for each category of labels\n",
    "        loss_ratio = NLL(ratio_out, ratios.to(device))\n",
    "        loss_location = MSE(location_out, locations.to(device))\n",
    "        loss_type = NLL(type_out, types.to(device))\n",
    "        \n",
    "        # Keep track of separate losses\n",
    "        epoch_loss_ratio += loss_ratio\n",
    "        epoch_loss_location += loss_location\n",
    "        epoch_loss_type += loss_type\n",
    "\n",
    "        loss = loss_ratio + loss_location + loss_type\n",
    "        epoch_loss += loss\n",
    "        \n",
    "        # Backward pass\n",
    "        loss.backward()\n",
    "        optimizer.step()\n",
    "        \n",
    "        \n",
    "        if ((i+1) % int(step_count/10)) == 0:\n",
    "            print(f\"Epoch [{epoch + 1}/{num_epoch}]\" f\", step [{i + 1}/{step_count}]\" f\", loss: {loss.item():.4f}\")\n",
    "    \n",
    "    losses.append(epoch_loss)\n",
    "    losses_ratio.append(epoch_loss_ratio)\n",
    "    losses_location.append(epoch_loss_location)\n",
    "    losses_type.append(epoch_loss_type)"
   ]
  },
  {
   "cell_type": "code",
   "execution_count": null,
   "metadata": {},
   "outputs": [],
   "source": [
    "torch.save(model.state_dict(), './models./model_v5')"
   ]
  },
  {
   "cell_type": "code",
   "execution_count": null,
   "metadata": {},
   "outputs": [],
   "source": [
    "plot_loss(losses, num_epoch, len(train_loader), 'Global loss model v5 study level.png')"
   ]
  },
  {
   "cell_type": "markdown",
   "metadata": {},
   "source": [
    "## Test the model"
   ]
  },
  {
   "cell_type": "code",
   "execution_count": null,
   "metadata": {},
   "outputs": [],
   "source": [
    "# Load model for evaluation\n",
    "trained_model = ModelV5()\n",
    "trained_model.load_state_dict(torch.load('./models/model_v5.h5'))\n",
    "trained_model.to(device)"
   ]
  }
 ],
 "metadata": {
  "kernelspec": {
   "display_name": "Python 3",
   "language": "python",
   "name": "python3"
  },
  "language_info": {
   "codemirror_mode": {
    "name": "ipython",
    "version": 3
   },
   "file_extension": ".py",
   "mimetype": "text/x-python",
   "name": "python",
   "nbconvert_exporter": "python",
   "pygments_lexer": "ipython3",
   "version": "3.8.3"
  }
 },
 "nbformat": 4,
 "nbformat_minor": 4
}
